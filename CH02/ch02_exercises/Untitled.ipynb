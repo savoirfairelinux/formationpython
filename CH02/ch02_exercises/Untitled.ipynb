{
 "cells": [
  {
   "cell_type": "code",
   "execution_count": 5,
   "metadata": {},
   "outputs": [
    {
     "name": "stdout",
     "output_type": "stream",
     "text": [
      "['ch02_ex1.py', '[0,30,2]']\r\n",
      "['[', '0', ',', '3', '0', ',', '2', ']']\r\n",
      "Traceback (most recent call last):\r\n",
      "  File \"ch02_ex1.py\", line 9, in <module>\r\n",
      "    if (int(num) % 2) == 0:\r\n",
      "ValueError: invalid literal for int() with base 10: '['\r\n"
     ]
    }
   ],
   "source": [
    "!python ch02_ex1.py  [0,30,2]"
   ]
  }
 ],
 "metadata": {
  "kernelspec": {
   "display_name": "Python 3",
   "language": "python",
   "name": "python3"
  },
  "language_info": {
   "codemirror_mode": {
    "name": "ipython",
    "version": 3
   },
   "file_extension": ".py",
   "mimetype": "text/x-python",
   "name": "python",
   "nbconvert_exporter": "python",
   "pygments_lexer": "ipython3",
   "version": "3.7.3"
  }
 },
 "nbformat": 4,
 "nbformat_minor": 2
}
