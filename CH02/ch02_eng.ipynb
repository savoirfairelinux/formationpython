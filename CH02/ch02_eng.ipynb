{
 "cells": [
  {
   "cell_type": "markdown",
   "metadata": {},
   "source": [
    "<div class=\"container\">\n",
    "\n",
    "<nav id=\"TOC\">\n",
    "\n",
    "*   <span class=\"toc-section-number\">1</span> Basic data types\n",
    "\n",
    "    *   <span class=\"toc-section-number\">1.1</span> Simple\n",
    "    *   <span class=\"toc-section-number\">1.2</span> Sequence\n",
    "    *   <span class=\"toc-section-number\">1.3</span> Tuple (`tuple`)\n",
    "    *   <span class=\"toc-section-number\">1.4</span> String\n",
    "    *   <span class=\"toc-section-number\">1.5</span> Set (set)\n",
    "    *   <span class=\"toc-section-number\">1.6</span> Dictionary (dict)\n",
    "    *   <span class=\"toc-section-number\">1.7</span> `defaultdict`\n",
    "</nav>\n",
    "\n",
    "# <span class=\"header-section-number\">1</span> Basic data types\n",
    "\n",
    "\n",
    "There are four categories of basic data types: simple, sequence, set, and dictionary.\n",
    "\n",
    "\n",
    "*   Simple\n",
    "    *   boolean\n",
    "    *   None\n",
    "    *   Int\n",
    "    *   Float\n",
    "*   Sequence\n",
    "    *   String\n",
    "    *   List\n",
    "    *   Tuple (`tuple`)\n",
    "*   Set (`set`)\n",
    "*   Dictionary (`dict`)\n",
    "\n",
    "## <span class=\"header-section-number\">1.1</span> Simple\n",
    "\n",
    "### <span class=\"header-section-number\">1.1.1</span> Boolean\n",
    "\n",
    "There are two basic Boolean objects:  `True` and `False`.\n",
    "\n",
    "### <span class=\"header-section-number\">1.1.2</span> None\n",
    "\n",
    "`None` represents the absence of a value."
   ]
  },
  {
   "cell_type": "code",
   "execution_count": 5,
   "metadata": {},
   "outputs": [
    {
     "data": {
      "text/plain": [
       "int"
      ]
     },
     "execution_count": 5,
     "metadata": {},
     "output_type": "execute_result"
    }
   ],
   "source": [
    ">>> a = True\n",
    "type(a)\n",
    "a = 1\n",
    "type(a)"
   ]
  },
  {
   "cell_type": "markdown",
   "metadata": {},
   "source": [
    "### <span class=\"header-section-number\">1.1.3</span> Numbers\n",
    "\n",
    "There are two basic numeric types: integer (`int`) and real (`float`). Here are some examples of operations on these types:\n",
    "\n",
    "    "
   ]
  },
  {
   "cell_type": "code",
   "execution_count": 107,
   "metadata": {},
   "outputs": [
    {
     "data": {
      "text/plain": [
       "bool"
      ]
     },
     "execution_count": 107,
     "metadata": {},
     "output_type": "execute_result"
    }
   ],
   "source": [
    "type(True)"
   ]
  },
  {
   "cell_type": "code",
   "execution_count": 17,
   "metadata": {},
   "outputs": [
    {
     "data": {
      "text/plain": [
       "2"
      ]
     },
     "execution_count": 17,
     "metadata": {},
     "output_type": "execute_result"
    }
   ],
   "source": [
    ">>> 2 ** 1"
   ]
  },
  {
   "cell_type": "code",
   "execution_count": 7,
   "metadata": {},
   "outputs": [
    {
     "data": {
      "text/plain": [
       "4"
      ]
     },
     "execution_count": 7,
     "metadata": {},
     "output_type": "execute_result"
    }
   ],
   "source": [
    ">>> abs(-4)"
   ]
  },
  {
   "cell_type": "code",
   "execution_count": 14,
   "metadata": {},
   "outputs": [],
   "source": [
    "type(23j)\n",
    "from decimal import Decimal"
   ]
  },
  {
   "cell_type": "code",
   "execution_count": 23,
   "metadata": {},
   "outputs": [
    {
     "data": {
      "text/plain": [
       "2417851639229258349412352"
      ]
     },
     "execution_count": 23,
     "metadata": {},
     "output_type": "execute_result"
    }
   ],
   "source": [
    "l1 = 1,2,3\n",
    "type(l1)\n",
    "2 ** 3 ** 4"
   ]
  },
  {
   "cell_type": "markdown",
   "metadata": {},
   "source": [
    "There is a list of possible operations on numbers in the Python documentation:[https://docs.python.org/3/library/stdtypes.html#numeric-types-int-float-complex](https://docs.python.org/3/library/stdtypes.html#numeric-types-int-float-complex)\n",
    "\n",
    "Various functions are also available in the `math` module: [https://docs.python.org/3/library/math.html](https://docs.python.org/3/library/math.html)"
   ]
  },
  {
   "cell_type": "code",
   "execution_count": 25,
   "metadata": {},
   "outputs": [
    {
     "data": {
      "text/plain": [
       "4"
      ]
     },
     "execution_count": 25,
     "metadata": {},
     "output_type": "execute_result"
    }
   ],
   "source": [
    "    >>> import math\n",
    "    >>> math.sqrt(4)\n",
    "    2.0\n",
    "    >>> math.ceil(3.1)"
   ]
  },
  {
   "cell_type": "markdown",
   "metadata": {},
   "source": [
    "The size of an integer is limited by the size of the computer's memory and not by the size of the processor's registers. So integers with hundreds of digits can easily be created."
   ]
  },
  {
   "cell_type": "code",
   "execution_count": 23,
   "metadata": {},
   "outputs": [],
   "source": [
    "    >>> 9 **"
   ]
  },
  {
   "cell_type": "code",
   "execution_count": 23,
   "metadata": {},
   "outputs": [
    {
     "data": {
      "text/plain": [
       "266130342721741979197820171224641437142630329894036550453471327896949304123588375539132874861781807107014647479605504095021480357847669997297002033433526927844379675502917165558003980532234529058932633547239077293061402412400945374799091407486193323835813519678805785772502082944189130215803568150744766811167937106271136665021760246436587440524341678476035813920350061067454676847245493782832204688198711541465683694908412546240701272891852304405566553446386775252251687772912962712595416750855057378209600101171511326714235338475005316705672853617906876740296398051056039130312558255295230443391635302947828336376211201564924820066130005717025956024816740907287697615415747972592347732337843831013764227719575519511204610840764450146327582380972799870952208619321989506539300929311600765256373809899498795448736044521157013863803207072091575003207603970161150202299158819130138346419066019002111134324200426098995081777624077815083860513278140514957871959435911583024825857464948181001631958924040616060294777222605224514774910198159882845730251916183571947838457947779760315545553273234242590833394438547976691408112165625466293945296344392247074929719608504169370594500386978418332406991463819058099951813267781337644469163785040261381434709348257535756521778278140222279466555533507540027164530376961340428123967945476610033670119300495923297041966167177988362107829484361772960663400423686690296855132471850751266414138554974019819518139695625039701944903826799792065016604451007375031805957473433812770492961306505371340440743494983576844829423858570450690981002187184111780815040722241072958287515365506183918132754891861781814906989815599782222562273805301016018688392628135499200472248093165108711954210827197646367597508217613143439784613559760681272687881343424166673954844530115457007926479063145053325028291285956269275624589056872933736585389244998708723566494502383703849831347609145176541468342832040843852336318441341567028161645887704661679345647006800113866821131206781052367837666888060060656019569612950679954220452727421593997407859444369041527396430026528690118371523138539534863657510367102817256242687089098737377625536664448050703175589713947879355104424902650108915799419117769189442913908686469145943445750118985939159391785743844743974949554355182465668293201483772345736754328265957343938809969232673304428588761561312831884614339579117370499618279516137654257167230092573536707160932289446795236782483561412148578904631866915280093058327521240199953537644725612612037915077856773225546688399169047708738079578192110344375828601701047790630949842712718114822969923160119049636467451041840543018426774530153707411906912770199821331441759007977052862887019825849836761683049552323124449816602143611939980479253955430776437548285787142477207840488200821225665264463022754201091077709453141881166316042466616191152947620088244324008653093558104956407588869481580405193686337980129989896103433421044169218152832769255897124359736774490072769020851901720127979370713532115790399930394312006863058623140315096256999015227909848185077517823943162344320909606032168314958138807359450213687549507155855284293071481778954522292889486211912108782415925674512905052940126743811895940133780050156198020274607342315520968514352541095518195290330302209107243780619762469059201546503190156460206595549819098829200525805404585990623187944482632627418958959082938007240817101249968860885418879951362304168264992375297347242896575209554212868988157625001924457872269406143510632915200074761912203069079104066203012600163058889582637099871773312284357885607317599514519562141992898949741087785037034874758458707587919573673328779404159168175478227640070070053137888285708917722268431903564482310058670917903132975782808509965462757605327882371777801919921512797545348254476810201508206269953989659961367559751250190114714693538799587664501934222103951091710007677660978038722260060085115756866256044163271816410199242640780729147250983299461469241058726333840683691817143739485520517740537444893788806755681636197070617173241074137046168517075295632242561215580179549451778253148065549650874576707220242234259537414431348706348789577835957607820238039616611261502027085007529069709177405421329179750524776757293273819004094298673690752593897962032632913422681513136675009306113270312709364304759297763554173569602569932396303098910970282401834466294514883504629427885140780732362244836267706284855300842543694895621728426901848323194937133363988177044504903737832808401683777671533515831103407198297019995411820770072569308289097253866151947218028139866230503045842447285246864307447366793687060123075734297254233813467947471411628586798747089818151040549207161824748083421540001077072975148925557822258857613063354194629253892744069862868588566966981671034938651619513837991006690578229898125264034548842545440604202330261491447215132817840096667427800823710126803723448066563621440925076305041238959883857954004588699649384071502302365557384115770283792201571785354198931122336365848100597829456160370359690664773842781012464922949590919180732030586156753351859522236309567875283797787930393510291457776835468667373349678683581020783738206617934384886755850689605393238058732268036537831913100712173927248100219796189616472938007310894309940689120691428800732964690101120928320930729652003690462947041321810890240253083136019590414145976715582436066995908631039859767381350368017872850329388863410379350770562703216431345115029674850605415293565590428023205005956117942671677833616637067833901417451350197776409717864171122586279686719190025308920716872238251884233978175609960092063891447836744130202908475072081115290344029268998775060213138336644404487658412735402253387122850710565916737650468491146288406601347776147596278821301517588513487645471488802014417478947712447252849889989710459181471291710416502847188812528765755573642940916405469508246054000102329903905289376745144657973373963566436993873989341808052357301770968029253632952047300763673175496254291588503932076783729831224198379617206428884402136544131086969027571426778447217468684919418847269931552090952424821614531917153498499179383760965378753379339489984538347927815819244599205009291126567299476222360856708779686869274950915085174805299819494926494057975830350356681959218755449778377578641732834479524349021772495603873726716490359981595836677779152256904309462953097997018800227865525206721836267276920695440560337046980910439885484091539363665727049098097382296563808475298101064483364568514435328760572838006166391631162838961780225053811962724919205080168258123245631412515983330101353648566512162764626029738151073165013511413894009115231790704734869870006349800827083874762727795451142093806983312661534419109106881036772138960973564888965275908910454747777983358413362402724385019926017684652853225252032311453078317900982741487756268725320236719687974211815423431880457373180826751009928808342025747989606453583114155272980512248103808049223388519050360177068214954059681498844254816437514826536151173945629465647123398233655952383558502125837355915112197636307946856972517166849030398361308196699585196290847520692937560671123096217217151418968824032432434027006385048844026385602117769735478409819725201530685719100629553689812287983313312900580502809092737933385461802152806592504984673502094441661402707575091524832611914957919182164035810184216606701334608931152619623195747330740562787562904907777683363641169713089986304368886688612012899409791211146155481443000805601417928350913265540380558313250625286649483662224260669022869384267348619523191021793475235521964533275516564399189577719253991525058534973407241362730819638330035051343806986754012466766689962633912113024351329174277184374516304727386700562837226194441398513313516203220835211434370203112979290207591369103473153066735846287023657109875200845530833356805005575327810045674409173375642337040347380464541691860134356501482409702171691153956752699578550091748559517543011113383420601367401108919782882692628039310040858240202002412608074229928791968339366176022318495264665176629007896911424875936378593613533951288013465649278213542830051174550762571282378284602514933000385776273431277867019877923074981296327499752706844880467967678897096199901520281626102717761197171421487863463868745376395294658238660397330734072493354515301663615306616338591766388790727885801285122003475887917137248061065098082389057437468349550234174251205616004501529558304203483121600373863006674222192169232856900512043310419280466644489664474778996625562982737120640482475687034261789614804516331750489632051005279490190405454264455404302547300949250785914592993176808686103616380534752690084495257273945245265864644462513962201427589089992309870405123977894818033123054207415300847955245980545134798715417082958157086867447801515747022317754706254568195864443418762301703930029810895706504537582150202297243465796957884677669828999096920306249835002263459493412117524594511319018174284744025137318041283238376467837400286254527023553231898587127427782059828027590952687884651926653014316836463870271289071291794825110926274180700956469669934455754660841863467627466576690389394595306252266481294640599217117145398552112189522642521549732680951883968480302321696322450426586023245909898725296832338549464518392553132836915759987400028568881897750034809045039929555801620467973721436982654271306815347206281724595367775375595645789827286182383428490604918814499192481923861340780165751071637861866100153756047075248052747856357300945959932467384518437969584385003538413244308807535253104400001"
      ]
     },
     "execution_count": 23,
     "metadata": {},
     "output_type": "execute_result"
    }
   ],
   "source": [
    " 10000"
   ]
  },
  {
   "cell_type": "markdown",
   "metadata": {},
   "source": [
    "The operations on these are however slower than on integers that can be represented natively by the processor.\n",
    "\n",
    "Literal integers are represented in decimal base by default, but it is possible to use other bases:"
   ]
  },
  {
   "cell_type": "code",
   "execution_count": 32,
   "metadata": {},
   "outputs": [
    {
     "data": {
      "text/plain": [
       "4871"
      ]
     },
     "execution_count": 32,
     "metadata": {},
     "output_type": "execute_result"
    }
   ],
   "source": [
    "    >>> 4871            # décimale\n",
    "    4871"
   ]
  },
  {
   "cell_type": "code",
   "execution_count": 24,
   "metadata": {},
   "outputs": [
    {
     "data": {
      "text/plain": [
       "4871"
      ]
     },
     "execution_count": 24,
     "metadata": {},
     "output_type": "execute_result"
    }
   ],
   "source": [
    "    >>> 0b1001100000111 # binaire"
   ]
  },
  {
   "cell_type": "code",
   "execution_count": 36,
   "metadata": {},
   "outputs": [
    {
     "data": {
      "text/plain": [
       "4871"
      ]
     },
     "execution_count": 36,
     "metadata": {},
     "output_type": "execute_result"
    }
   ],
   "source": [
    "    >>> 0o11407         # octale"
   ]
  },
  {
   "cell_type": "code",
   "execution_count": 37,
   "metadata": {},
   "outputs": [
    {
     "data": {
      "text/plain": [
       "4871"
      ]
     },
     "execution_count": 37,
     "metadata": {},
     "output_type": "execute_result"
    }
   ],
   "source": [
    "    >>> 0x1307          # hexadécimale\n"
   ]
  },
  {
   "cell_type": "markdown",
   "metadata": {},
   "source": [
    "It is possible to convert a number from one type to another using `int` and `float` functions:"
   ]
  },
  {
   "cell_type": "code",
   "execution_count": 28,
   "metadata": {},
   "outputs": [
    {
     "data": {
      "text/plain": [
       "1"
      ]
     },
     "execution_count": 28,
     "metadata": {},
     "output_type": "execute_result"
    }
   ],
   "source": [
    "int(True)"
   ]
  },
  {
   "cell_type": "markdown",
   "metadata": {},
   "source": [
    "You can also convert a string into a number:"
   ]
  },
  {
   "cell_type": "code",
   "execution_count": 30,
   "metadata": {},
   "outputs": [
    {
     "data": {
      "text/plain": [
       "5"
      ]
     },
     "execution_count": 30,
     "metadata": {},
     "output_type": "execute_result"
    }
   ],
   "source": [
    "    >>> int(\"5\")"
   ]
  },
  {
   "cell_type": "code",
   "execution_count": 31,
   "metadata": {},
   "outputs": [
    {
     "data": {
      "text/plain": [
       "'4.5'"
      ]
     },
     "execution_count": 31,
     "metadata": {},
     "output_type": "execute_result"
    }
   ],
   "source": [
    "    >>> str(4.5)"
   ]
  },
  {
   "cell_type": "markdown",
   "metadata": {},
   "source": [
    "## <span class=\"header-section-number\">1.2</span> Sequences\n",
    "\n",
    "A sequence is an ordered collection of elements. A sequence:\n",
    "\n",
    "\n",
    "*   is iterable\n",
    "*   has a size (`len`)\n",
    "*   has the concept of index, for example to access the <span class=\"math\">_i_<sup>_e_</sup></span> element (`[]`)\n",
    "*   supports slicing ,this allows extracting a subset of elements\n",
    "*   supports the membership operator  (`in`)\n",
    "*   has a few methods to find the index of an element and count the number of occurrences of an element\n",
    "\n",
    "A sequence supports the following operations:\n",
    "\n",
    "\n",
    "\n",
    "<table>\n",
    "\n",
    "<thead>\n",
    "\n",
    "<tr class=\"header\">\n",
    "\n",
    "<th align=\"left\">operation</th>\n",
    "\n",
    "<th align=\"left\">Meaning</th>\n",
    "\n",
    "</tr>\n",
    "\n",
    "</thead>\n",
    "\n",
    "<tbody>\n",
    "\n",
    "<tr class=\"odd\">\n",
    "\n",
    "<td align=\"left\">x in s</td>\n",
    "\n",
    "<td align=\"left\">`True` if an element of `s` equals `x`, otherwise `False`</td>\n",
    "\n",
    "</tr>\n",
    "\n",
    "<tr class=\"even\">\n",
    "\n",
    "<td align=\"left\">x not in s</td>\n",
    "\n",
    "<td align=\"left\">\t\n",
    "`False` if an element of s equals x , otherwise `True`</td>\n",
    "\n",
    "</tr>\n",
    "\n",
    "<tr class=\"odd\">\n",
    "\n",
    "<td align=\"left\">s + t</td>\n",
    "\n",
    "<td align=\"left\">concatenation of `s` and `t`</td>\n",
    "\n",
    "</tr>\n",
    "\n",
    "<tr class=\"even\">\n",
    "\n",
    "<td align=\"left\">s * n or n * s</td>\n",
    "\n",
    "<td align=\"left\">concatenation of <span class=\"math\">_n_</span> copies of `s`</td>\n",
    "\n",
    "</tr>\n",
    "\n",
    "<tr class=\"odd\">\n",
    "\n",
    "<td align=\"left\">s[i]</td>\n",
    "\n",
    "<td align=\"left\"><span class=\"math\">_i_<sup>_e_</sup></span> element of `s`</td>\n",
    "\n",
    "</tr>\n",
    "\n",
    "<tr class=\"even\">\n",
    "\n",
    "<td align=\"left\">s[i:j]</td>\n",
    "\n",
    "<td align=\"left\">slice of <span class=\"math\">_i_</span> to <span class=\"math\">_j_</span> of `s`</td>\n",
    "\n",
    "</tr>\n",
    "\n",
    "<tr class=\"odd\">\n",
    "\n",
    "<td align=\"left\">s[i:j:k]</td>\n",
    "\n",
    "<td align=\"left\">slice of<span class=\"math\">_i_</span> to <span class=\"math\">_j_</span> of `s` with step <span class=\"math\">_k_</span></td>\n",
    "\n",
    "</tr>\n",
    "\n",
    "<tr class=\"even\">\n",
    "\n",
    "<td align=\"left\">len(s)</td>\n",
    "\n",
    "<td align=\"left\">size of `s`</td>\n",
    "\n",
    "</tr>\n",
    "\n",
    "<tr class=\"odd\">\n",
    "\n",
    "<td align=\"left\">min(s)</td>\n",
    "\n",
    "<td align=\"left\">smallest element of `s`</td>\n",
    "\n",
    "</tr>\n",
    "\n",
    "<tr class=\"even\">\n",
    "\n",
    "<td align=\"left\">max(s)</td>\n",
    "\n",
    "<td align=\"left\">largest element `s`</td>\n",
    "\n",
    "</tr>\n",
    "\n",
    "<tr class=\"odd\">\n",
    "\n",
    "<td align=\"left\">s.index(x[,i[,j]])</td>\n",
    "\n",
    "<td align=\"left\">iindex of the first occurrence of x in s (or between indices i and j )<span class=\"math\">_i_</span> and <span class=\"math\">_j_</span>)</td>\n",
    "\n",
    "</tr>\n",
    "\n",
    "<tr class=\"even\">\n",
    "\n",
    "<td align=\"left\">s.count(x)</td>\n",
    "\n",
    "<td align=\"left\">total number of occurrences of `x` in `s`</td>\n",
    "\n",
    "</tr>\n",
    "\n",
    "</tbody>\n",
    "\n",
    "</table>\n",
    "\n",
    "### <span class=\"header-section-number\">1.2.1</span> List\n",
    "\n",
    "A list is an ordered collection of items."
   ]
  },
  {
   "cell_type": "code",
   "execution_count": 50,
   "metadata": {},
   "outputs": [
    {
     "data": {
      "text/plain": [
       "[1, 2, 3, 3, 4, 5, 6, 7, 8]"
      ]
     },
     "execution_count": 50,
     "metadata": {},
     "output_type": "execute_result"
    }
   ],
   "source": [
    "lst = [1, 2, 3, 3,4,5,6,7,8]\n",
    "lst[::]"
   ]
  },
  {
   "cell_type": "markdown",
   "metadata": {},
   "source": [
    "A list is mutable."
   ]
  },
  {
   "cell_type": "code",
   "execution_count": 51,
   "metadata": {},
   "outputs": [
    {
     "data": {
      "text/plain": [
       "[9, 2, 3, 3, 4, 5, 6, 7, 8]"
      ]
     },
     "execution_count": 51,
     "metadata": {},
     "output_type": "execute_result"
    }
   ],
   "source": [
    "    >>> lst[0] = 9\n",
    "    lst"
   ]
  },
  {
   "cell_type": "code",
   "execution_count": 52,
   "metadata": {},
   "outputs": [],
   "source": [
    "    >>> lst\n",
    "    [9, 2, 3]\n",
    "    >>> lst.append(5)"
   ]
  },
  {
   "cell_type": "code",
   "execution_count": 53,
   "metadata": {},
   "outputs": [
    {
     "data": {
      "text/plain": [
       "[9, 2, 3, 3, 4, 5, 6, 7, 8, 5]"
      ]
     },
     "execution_count": 53,
     "metadata": {},
     "output_type": "execute_result"
    }
   ],
   "source": [
    "    >>> lst"
   ]
  },
  {
   "cell_type": "code",
   "execution_count": 54,
   "metadata": {},
   "outputs": [
    {
     "data": {
      "text/plain": [
       "[5, 8, 7, 6, 5, 4, 3, 3, 2, 9]"
      ]
     },
     "execution_count": 54,
     "metadata": {},
     "output_type": "execute_result"
    }
   ],
   "source": [
    "    [9, 2, 3, 5]\n",
    "    >>> lst.reverse()\n"
   ]
  },
  {
   "cell_type": "code",
   "execution_count": 58,
   "metadata": {},
   "outputs": [
    {
     "data": {
      "text/plain": [
       "[8, 7, 6, 4, 3, 3, 2, 9]"
      ]
     },
     "execution_count": 58,
     "metadata": {},
     "output_type": "execute_result"
    }
   ],
   "source": [
    "    [5, 3, 2, 9]\n",
    "    lst"
   ]
  },
  {
   "cell_type": "code",
   "execution_count": 60,
   "metadata": {},
   "outputs": [],
   "source": [
    "    >>> lst = ['python', 4, 'java', 'c', True, 4.7]"
   ]
  },
  {
   "cell_type": "code",
   "execution_count": 62,
   "metadata": {},
   "outputs": [
    {
     "data": {
      "text/plain": [
       "['python', 4, 'java', 'c']"
      ]
     },
     "execution_count": 62,
     "metadata": {},
     "output_type": "execute_result"
    }
   ],
   "source": [
    "    >>> lst\n",
    "    "
   ]
  },
  {
   "cell_type": "code",
   "execution_count": 63,
   "metadata": {},
   "outputs": [],
   "source": [
    "lst.insert(1, 'javascript')"
   ]
  },
  {
   "cell_type": "code",
   "execution_count": 64,
   "metadata": {},
   "outputs": [
    {
     "data": {
      "text/plain": [
       "['python', 'javascript', 4, 'java', 'c']"
      ]
     },
     "execution_count": 64,
     "metadata": {},
     "output_type": "execute_result"
    }
   ],
   "source": [
    "lst"
   ]
  },
  {
   "cell_type": "markdown",
   "metadata": {},
   "source": [
    "Here is the list of methods to modify a list [https://docs.python.org/3/library/stdtypes.html#typesseq-mutable](https://docs.python.org/3/library/stdtypes.html#typesseq-mutable)\n",
    "\n",
    "We can iterate on a list with the `for` loop:"
   ]
  },
  {
   "cell_type": "code",
   "execution_count": 71,
   "metadata": {},
   "outputs": [
    {
     "name": "stdout",
     "output_type": "stream",
     "text": [
      "0\n",
      "1\n",
      "2\n"
     ]
    }
   ],
   "source": [
    "for i in [0, 1, 2]:\n",
    "    print(i)\n",
    "    \n",
    "    \n"
   ]
  },
  {
   "cell_type": "markdown",
   "metadata": {},
   "source": [
    "<div id=\"__ex_1\" class=\"panel panel-default\">\n",
    "\n",
    "<div class=\"panel-heading\">\n",
    "\n",
    "### Exercise 1\n",
    "\n",
    "</div>\n",
    "\n",
    "<div class=\"panel-body\">\n",
    "\n",
    "Write a function that takes as a parameter a list of integers as a string (eg ['1', '2', '3'] ) and which displays for each number whether it is even or odd.\n",
    "\n",
    "Example:"
   ]
  },
  {
   "cell_type": "code",
   "execution_count": null,
   "metadata": {},
   "outputs": [],
   "source": [
    "pair_impair(['1', '2', '3'])"
   ]
  },
  {
   "cell_type": "code",
   "execution_count": 72,
   "metadata": {},
   "outputs": [],
   "source": [
    "lst = ['1', '2', '3']\n"
   ]
  },
  {
   "cell_type": "markdown",
   "metadata": {},
   "source": [
    "</div>\n",
    "\n",
    "</div>\n",
    "\n",
    "<div class=\"panel panel-default\">\n",
    "\n",
    "<div class=\"panel-heading\">\n",
    "\n",
    "### Solution 1\n",
    "\n",
    "</div>\n"
   ]
  },
  {
   "cell_type": "code",
   "execution_count": 40,
   "metadata": {},
   "outputs": [],
   "source": [
    "def pair_impair(lst):\n",
    "    for s in lst:\n",
    "        if int(s) % 2 == 0:\n",
    "            print(\"pair\")\n",
    "        else:\n",
    "            print(\"impair\")"
   ]
  },
  {
   "cell_type": "markdown",
   "metadata": {},
   "source": [
    "</div>\n",
    "\n",
    "</div>\n",
    "\n",
    "</div>\n",
    "\n",
    "Slicing allows extracting a subsequence. The syntax is  `s[i:j:k]` where:\n",
    "\n",
    "*   <span class=\"math\">_i_</span> is the lower bound (included)\n",
    "*   <span class=\"math\">_j_</span> is the upper bound (excluded)\n",
    "*   <span class=\"math\">_k_</span> is the step"
   ]
  },
  {
   "cell_type": "code",
   "execution_count": 32,
   "metadata": {},
   "outputs": [
    {
     "data": {
      "text/plain": [
       "[4, 6]"
      ]
     },
     "execution_count": 32,
     "metadata": {},
     "output_type": "execute_result"
    }
   ],
   "source": [
    "    >>> lst = [0, 1, 2, 3, 4, 5, 6, 7]\n",
    "    >>> lst[0:4:1] # Les premiers 4 éléments\n",
    "    [0, 1, 2, 3]\n",
    "    >>> lst[4:8:2] # Les derniers 4 éléments"
   ]
  },
  {
   "cell_type": "markdown",
   "metadata": {},
   "source": [
    "Each index is optional and therefore has a default value:\n",
    "\n",
    "\n",
    "\n",
    "*   <span class=\"math\">_i_</span>: 0\n",
    "*   <span class=\"math\">_j_</span>: `len(s)`\n",
    "*   <span class=\"math\">_k_</span>: 1"
   ]
  },
  {
   "cell_type": "code",
   "execution_count": 76,
   "metadata": {},
   "outputs": [
    {
     "data": {
      "text/plain": [
       "3"
      ]
     },
     "execution_count": 76,
     "metadata": {},
     "output_type": "execute_result"
    }
   ],
   "source": [
    "lst\n",
    "len(lst)\n"
   ]
  },
  {
   "cell_type": "markdown",
   "metadata": {},
   "source": [
    "<div id=\"__ex_2\" class=\"panel panel-default\">\n",
    "\n",
    "<div class=\"panel-heading\">\n",
    "\n",
    "### Exercise 2\n",
    "\n",
    "</div>\n",
    "\n",
    "<div class=\"panel-body\">\n",
    "\n",
    "Using `len`, `range` eand slicing, write a `for` loop that displays all sequences of 3 consecutive items from the list `[1,2,3,4,5,6,7,8,9]`.\n",
    "\n",
    "Example:\n",
    "\n",
    "    [1, 2, 3]\n",
    "    [2, 3, 4]\n",
    "    [3, 4, 5]\n",
    "    [4, 5, 6]\n",
    "    [5, 6, 7]\n",
    "    [6, 7, 8]\n",
    "    [7, 8, 9]\n",
    "\n",
    "</div>\n",
    "\n",
    "</div>\n",
    "\n",
    "<div class=\"panel panel-default\">\n",
    "\n",
    "<div class=\"panel-heading\">\n",
    "\n",
    "### Solution 2\n",
    "\n",
    "</div>"
   ]
  },
  {
   "cell_type": "code",
   "execution_count": 44,
   "metadata": {},
   "outputs": [
    {
     "name": "stdout",
     "output_type": "stream",
     "text": [
      "[1, 2, 3]\n",
      "[2, 3, 4]\n",
      "[3, 4, 5]\n",
      "[4, 5, 6]\n",
      "[5, 6, 7]\n",
      "[6, 7, 8]\n",
      "[7, 8, 9]\n"
     ]
    }
   ],
   "source": [
    "    lst = [1, 2, 3, 4, 5, 6, 7, 8, 9]\n",
    "\n",
    "    for i in range(len(lst) - 2):\n",
    "        print(lst[i:i+3])"
   ]
  },
  {
   "cell_type": "markdown",
   "metadata": {},
   "source": [
    "</div>\n",
    "\n",
    "</div>\n",
    "\n",
    "</div>\n",
    "\n",
    "### <span class=\"header-section-number\">1.2.2</span>  List comprehension\n",
    "\n",
    "List comprehension is about creating a list by modifying or filtering a sequence with a compact syntax. The \n",
    "syntax is:\n",
    "\n",
    "\n",
    "*   `[<item> for <item> in <iterable>]`\n",
    "*   `[<item> for <item> in <iterable> if <condition>]`\n",
    "\n",
    "For exemple:"
   ]
  },
  {
   "cell_type": "code",
   "execution_count": 78,
   "metadata": {},
   "outputs": [],
   "source": [
    "    lst = [1, 2, 3, 4]\n",
    "    result = []\n",
    "    for i in lst:\n",
    "        result.append(i ** 2)"
   ]
  },
  {
   "cell_type": "markdown",
   "metadata": {},
   "source": [
    "is equivalent to:"
   ]
  },
  {
   "cell_type": "code",
   "execution_count": 79,
   "metadata": {},
   "outputs": [
    {
     "data": {
      "text/plain": [
       "[1, 4, 9, 16]"
      ]
     },
     "execution_count": 79,
     "metadata": {},
     "output_type": "execute_result"
    }
   ],
   "source": [
    "    >>> [i ** 2 for i in lst]"
   ]
  },
  {
   "cell_type": "code",
   "execution_count": 81,
   "metadata": {},
   "outputs": [
    {
     "data": {
      "text/plain": [
       "[2, 4]"
      ]
     },
     "execution_count": 81,
     "metadata": {},
     "output_type": "execute_result"
    }
   ],
   "source": [
    "    lst = [1, 2, 3, 4]\n",
    "    result = []\n",
    "    for i in lst:\n",
    "        if i % 2 == 0:\n",
    "            result.append(i)\n",
    "    result"
   ]
  },
  {
   "cell_type": "markdown",
   "metadata": {},
   "source": [
    "is equivalent to:"
   ]
  },
  {
   "cell_type": "code",
   "execution_count": 39,
   "metadata": {},
   "outputs": [
    {
     "data": {
      "text/plain": [
       "[0, 2, 4, 6]"
      ]
     },
     "execution_count": 39,
     "metadata": {},
     "output_type": "execute_result"
    }
   ],
   "source": [
    "    >>> [i for i in lst if i % 2 == 0]"
   ]
  },
  {
   "cell_type": "markdown",
   "metadata": {},
   "source": [
    "## <span class=\"header-section-number\">1.3</span> Tuple\n",
    "\n",
    "A tuple is an ordered sequence of elements. A tuple is immutable."
   ]
  },
  {
   "cell_type": "code",
   "execution_count": 82,
   "metadata": {},
   "outputs": [],
   "source": [
    "    >>> t = (1, 2, 'python')"
   ]
  },
  {
   "cell_type": "code",
   "execution_count": 83,
   "metadata": {},
   "outputs": [
    {
     "data": {
      "text/plain": [
       "1"
      ]
     },
     "execution_count": 83,
     "metadata": {},
     "output_type": "execute_result"
    }
   ],
   "source": [
    "    >>> t[0]"
   ]
  },
  {
   "cell_type": "code",
   "execution_count": 84,
   "metadata": {},
   "outputs": [
    {
     "ename": "TypeError",
     "evalue": "'tuple' object does not support item assignment",
     "output_type": "error",
     "traceback": [
      "\u001b[0;31m---------------------------------------------------------------------------\u001b[0m",
      "\u001b[0;31mTypeError\u001b[0m                                 Traceback (most recent call last)",
      "\u001b[0;32m<ipython-input-84-b2238989a131>\u001b[0m in \u001b[0;36m<module>\u001b[0;34m\u001b[0m\n\u001b[1;32m      1\u001b[0m \u001b[0mlen\u001b[0m\u001b[0;34m(\u001b[0m\u001b[0mt\u001b[0m\u001b[0;34m)\u001b[0m\u001b[0;34m\u001b[0m\u001b[0;34m\u001b[0m\u001b[0m\n\u001b[1;32m      2\u001b[0m \u001b[0;36m3\u001b[0m\u001b[0;34m\u001b[0m\u001b[0;34m\u001b[0m\u001b[0m\n\u001b[0;32m----> 3\u001b[0;31m \u001b[0mt\u001b[0m\u001b[0;34m[\u001b[0m\u001b[0;36m0\u001b[0m\u001b[0;34m]\u001b[0m \u001b[0;34m=\u001b[0m \u001b[0;36m8\u001b[0m\u001b[0;34m\u001b[0m\u001b[0;34m\u001b[0m\u001b[0m\n\u001b[0m",
      "\u001b[0;31mTypeError\u001b[0m: 'tuple' object does not support item assignment"
     ]
    }
   ],
   "source": [
    "    >>> len(t)\n",
    "    3\n",
    "    >>> t[0] = 8"
   ]
  },
  {
   "cell_type": "markdown",
   "metadata": {},
   "source": [
    "We can iterate on a tuple:"
   ]
  },
  {
   "cell_type": "code",
   "execution_count": 48,
   "metadata": {},
   "outputs": [
    {
     "name": "stdout",
     "output_type": "stream",
     "text": [
      "0\n",
      "1\n",
      "2\n"
     ]
    }
   ],
   "source": [
    "    >>> for i in (0, 1, 2):\n",
    "    ...     print(i)\n",
    "    "
   ]
  },
  {
   "cell_type": "markdown",
   "metadata": {},
   "source": [
    "### <span class=\"header-section-number\">1.3.1</span> Packing/Unpacking\n",
    "\n",
    "Packing a tuple means combining variables to form a tuple:"
   ]
  },
  {
   "cell_type": "code",
   "execution_count": 86,
   "metadata": {},
   "outputs": [
    {
     "data": {
      "text/plain": [
       "('192.168.43.12', 8000, True)"
      ]
     },
     "execution_count": 86,
     "metadata": {},
     "output_type": "execute_result"
    }
   ],
   "source": [
    "    >>> address_port = ('192.168.43.12', 8000,True)\n",
    "    >>> address_port"
   ]
  },
  {
   "cell_type": "markdown",
   "metadata": {},
   "source": [
    "Unpacking a tuple means extracting the values of a tuple and assigning them to variabes:"
   ]
  },
  {
   "cell_type": "code",
   "execution_count": 87,
   "metadata": {},
   "outputs": [
    {
     "data": {
      "text/plain": [
       "True"
      ]
     },
     "execution_count": 87,
     "metadata": {},
     "output_type": "execute_result"
    }
   ],
   "source": [
    "    >>> address, port, real = address_port\n",
    "    >>> address\n",
    "    '192.168.43.12'\n",
    "    >>> port\n",
    "real"
   ]
  },
  {
   "cell_type": "markdown",
   "metadata": {},
   "source": [
    "Unpacking is very useful when using a `for` loop :"
   ]
  },
  {
   "cell_type": "code",
   "execution_count": 47,
   "metadata": {},
   "outputs": [
    {
     "name": "stdout",
     "output_type": "stream",
     "text": [
      "0 1\n",
      "1 2\n",
      "2 3\n",
      "3 4\n",
      "4 5\n",
      "5 6\n"
     ]
    }
   ],
   "source": [
    "for x, y in enumerate([1,2,3,4,5,6]):\n",
    "    print(x , y)"
   ]
  },
  {
   "cell_type": "markdown",
   "metadata": {},
   "source": [
    "## <span class=\"header-section-number\">1.4</span> String\n",
    "\n",
    "A string is defined either by single quotes ' or double quotes \" . Example:"
   ]
  },
  {
   "cell_type": "code",
   "execution_count": 51,
   "metadata": {},
   "outputs": [
    {
     "data": {
      "text/plain": [
       "'python'"
      ]
     },
     "execution_count": 51,
     "metadata": {},
     "output_type": "execute_result"
    }
   ],
   "source": [
    "    >>> 'python'"
   ]
  },
  {
   "cell_type": "code",
   "execution_count": 50,
   "metadata": {},
   "outputs": [
    {
     "data": {
      "text/plain": [
       "'python'"
      ]
     },
     "execution_count": 50,
     "metadata": {},
     "output_type": "execute_result"
    }
   ],
   "source": [
    "    >>> \"python\""
   ]
  },
  {
   "cell_type": "markdown",
   "metadata": {},
   "source": [
    "Note that ' and ' have the same meaning in Python, but you must use the same symbol to start and close a string.\n",
    "\n",
    "Example:"
   ]
  },
  {
   "cell_type": "code",
   "execution_count": 48,
   "metadata": {},
   "outputs": [
    {
     "ename": "SyntaxError",
     "evalue": "EOL while scanning string literal (<ipython-input-48-ccc73d2593dc>, line 1)",
     "output_type": "error",
     "traceback": [
      "\u001b[0;36m  File \u001b[0;32m\"<ipython-input-48-ccc73d2593dc>\"\u001b[0;36m, line \u001b[0;32m1\u001b[0m\n\u001b[0;31m    'python\"\u001b[0m\n\u001b[0m            ^\u001b[0m\n\u001b[0;31mSyntaxError\u001b[0m\u001b[0;31m:\u001b[0m EOL while scanning string literal\n"
     ]
    }
   ],
   "source": [
    "    >>> 'python\""
   ]
  },
  {
   "cell_type": "markdown",
   "metadata": {},
   "source": [
    "A string can also be on several lines, it is then necessary to use '' ' or \"\"\" to delimit it:"
   ]
  },
  {
   "cell_type": "code",
   "execution_count": 88,
   "metadata": {},
   "outputs": [
    {
     "data": {
      "text/plain": [
       "\"'SELECT' *\\n    FROM users\\n    WHERE id = $1\\n    \""
      ]
     },
     "execution_count": 88,
     "metadata": {},
     "output_type": "execute_result"
    }
   ],
   "source": [
    "chaine = \"\"\"'SELECT' *\n",
    "    FROM users\n",
    "    WHERE id = $1\n",
    "    \"\"\"\n",
    "chaine"
   ]
  },
  {
   "cell_type": "markdown",
   "metadata": {},
   "source": [
    "The characters `\\n` are part of the string. If we do not want the characters `\\n` , we can concatenate several character strings:\n"
   ]
  },
  {
   "cell_type": "code",
   "execution_count": 93,
   "metadata": {},
   "outputs": [
    {
     "data": {
      "text/plain": [
       "140691265174696"
      ]
     },
     "execution_count": 93,
     "metadata": {},
     "output_type": "execute_result"
    }
   ],
   "source": [
    "chaine = (\"SELECT * \"\n",
    "          \"FROM users \"\n",
    "          \"WHERE id = $1\")\n",
    "chaine\n",
    "my_string = 'Hello'\n",
    "id(my_string)"
   ]
  },
  {
   "cell_type": "markdown",
   "metadata": {},
   "source": [
    "A string has several methods: [https://docs.python.org/3/library/stdtypes.html#string-methods](https://docs.python.org/3/library/stdtypes.html#string-methods)\n",
    "\n",
    "<div id=\"__ex_3\" class=\"panel panel-default\">\n",
    "\n",
    "<div class=\"panel-heading\">\n",
    "\n",
    "### Exercise 3\n",
    "\n",
    "</div>\n",
    "\n",
    "<div class=\"panel-body\">\n",
    "\n",
    "Create a function `maj_inverser` that takes a string and returns the same string, but in uppercase and inverted.\n",
    "\n",
    "</div>\n",
    "\n",
    "</div>\n",
    "\n",
    "<div class=\"panel panel-default\">\n",
    "\n",
    "<div class=\"panel-heading\">\n",
    "\n",
    "### Solution 3\n",
    "\n",
    "</div>"
   ]
  },
  {
   "cell_type": "code",
   "execution_count": 49,
   "metadata": {},
   "outputs": [
    {
     "data": {
      "text/plain": [
       "'OLLEH'"
      ]
     },
     "execution_count": 49,
     "metadata": {},
     "output_type": "execute_result"
    }
   ],
   "source": [
    "def maj_inverser(mot):\n",
    "    return mot.upper()[::-1]\n",
    "maj_inverser(\"Hello\")"
   ]
  },
  {
   "cell_type": "markdown",
   "metadata": {},
   "source": [
    "</div>\n",
    "\n",
    "</div>\n",
    "\n",
    "</div>\n",
    "\n",
    "### <span class=\"header-section-number\">1.4.1</span> Formatting\n",
    "\n",
    "You can format a string either with the `%` operator or with the `format` method :"
   ]
  },
  {
   "cell_type": "code",
   "execution_count": 98,
   "metadata": {},
   "outputs": [
    {
     "name": "stdout",
     "output_type": "stream",
     "text": [
      "The value  is value1  The value  is value1\n"
     ]
    }
   ],
   "source": [
    "    >>> \"Bonjour %s\" % \"Alex\"\n",
    "    'Bonjour Alex'\n",
    "    >>> \"Le %s %s\" % (3, 'janvier')\n",
    "    'Le 3 janvier'\n",
    "\n",
    "    >>> 'Le {0} {1}'.format(3, 'janvier')\n",
    "    'Le 3 janvier'\n",
    "    >>> 'Le {jour} {mois}'.format(mois='janvier', jour=3)\n",
    "    \n",
    "variable1 = 'value1'\n",
    "\n",
    "print(f'The value  is {variable1}',end='  ' )\n",
    "print(f'The value  is {variable1}', )"
   ]
  },
  {
   "cell_type": "markdown",
   "metadata": {},
   "source": [
    "## <span class=\"header-section-number\">1.5</span> Set\n",
    "\n",
    "The `set` type is a collection of unordered and unique items. It does not contain duplicates and has no order."
   ]
  },
  {
   "cell_type": "code",
   "execution_count": 99,
   "metadata": {},
   "outputs": [
    {
     "data": {
      "text/plain": [
       "False"
      ]
     },
     "execution_count": 99,
     "metadata": {},
     "output_type": "execute_result"
    }
   ],
   "source": [
    "    >>> x = set([0, 0, 1, 2, 3, 1])\n",
    "    {0, 1, 2, 3}\n",
    "    >>> y = set([4, 0, 3, 4])\n",
    "    >>> y\n",
    "    {0, 3, 4}\n",
    "\n",
    "    >>> 9 in x\n"
   ]
  },
  {
   "cell_type": "markdown",
   "metadata": {},
   "source": [
    "It supports operations on sets as in mathematics:"
   ]
  },
  {
   "cell_type": "code",
   "execution_count": 100,
   "metadata": {},
   "outputs": [
    {
     "data": {
      "text/plain": [
       "{4}"
      ]
     },
     "execution_count": 100,
     "metadata": {},
     "output_type": "execute_result"
    }
   ],
   "source": [
    "    >>> x.intersection(y)\n",
    "    {0, 3}\n",
    "    >>> x.union(y)\n",
    "    {0, 1, 2, 3, 4}\n",
    "    >>> x - y\n",
    "    {1, 2}\n",
    "    >>> y - x"
   ]
  },
  {
   "cell_type": "markdown",
   "metadata": {},
   "source": [
    "A set is mutable:"
   ]
  },
  {
   "cell_type": "code",
   "execution_count": 101,
   "metadata": {},
   "outputs": [
    {
     "data": {
      "text/plain": [
       "{0, 1, 2, 3, 6}"
      ]
     },
     "execution_count": 101,
     "metadata": {},
     "output_type": "execute_result"
    }
   ],
   "source": [
    "    >>> x.add(6)\n",
    "    >>> x"
   ]
  },
  {
   "cell_type": "markdown",
   "metadata": {},
   "source": [
    "### <span class=\"header-section-number\">1.5.1</span> Iterable\n",
    "\n",
    "Sets are iterable:"
   ]
  },
  {
   "cell_type": "code",
   "execution_count": 102,
   "metadata": {},
   "outputs": [
    {
     "name": "stdout",
     "output_type": "stream",
     "text": [
      "0\n",
      "1\n",
      "2\n",
      "3\n",
      "6\n"
     ]
    }
   ],
   "source": [
    "for i in x:\n",
    "    print(i)"
   ]
  },
  {
   "cell_type": "markdown",
   "metadata": {},
   "source": [
    "Since a set has no order, there is no guarantee on the order in which the items are iterated.\n",
    "\n",
    "\n",
    "Documentation: [https://docs.python.org/3/library/stdtypes.html#set-types-set-frozenset](https://docs.python.org/3/library/stdtypes.html#set-types-set-frozenset)\n",
    "\n",
    "## <span class=\"header-section-number\">1.6</span> Dictionary (dict)\n",
    "\n",
    "A dictionary is a collection of unordered key-value elements. A key must be unique."
   ]
  },
  {
   "cell_type": "code",
   "execution_count": 104,
   "metadata": {},
   "outputs": [
    {
     "data": {
      "text/plain": [
       "{'benoit': 412, 'carl': 671, 'diane': 167, 'val': 1}"
      ]
     },
     "execution_count": 104,
     "metadata": {},
     "output_type": "execute_result"
    }
   ],
   "source": [
    "    >>> ext = {'alex': 741, 'benoit': 412, 'carl': 671}\n",
    "    >>> ext['diane'] = 167\n",
    "    >>> ext\n",
    "    {'diane': 167, 'alex': 741, 'benoit': 412, 'carl': 671}\n",
    "    >>> del ext['alex']\n",
    "    >>> ext\n",
    "    {'diane': 167, 'benoit': 412, 'carl': 671}\n",
    "    >>> 'benoit' in ext\n",
    "    True\n",
    "    >>> list(ext.keys())\n",
    "    ['diane', 'benoit', 'carl']\n",
    "    >>> list(ext.values())\n",
    "    [167, 412, 671]\n",
    "    >>> list(ext.items())\n",
    "    [('diane', 167), ('benoit', 412), ('carl', 671)]\n",
    "    ext['val'] = 1\n",
    "    ext\n",
    "    "
   ]
  },
  {
   "cell_type": "markdown",
   "metadata": {},
   "source": [
    "## <span class=\"header-section-number\">1.7</span> `defaultdict`\n",
    "\n",
    "A `defaultdict` s a dictionary that inserts a default value when the key requested by the `[]` operator does not exist."
   ]
  },
  {
   "cell_type": "code",
   "execution_count": 67,
   "metadata": {},
   "outputs": [
    {
     "data": {
      "text/plain": [
       "[1]"
      ]
     },
     "execution_count": 67,
     "metadata": {},
     "output_type": "execute_result"
    }
   ],
   "source": [
    "    >>> import collections\n",
    "    >>> d = collections.defaultdict(list)\n",
    "    >>> d['a']\n",
    "    []\n",
    "    >>> d['b'].append(1)\n",
    "    >>> d['b']"
   ]
  },
  {
   "cell_type": "markdown",
   "metadata": {},
   "source": [
    "<div id=\"__ex_4\" class=\"panel panel-default\">\n",
    "\n",
    "<div class=\"panel-heading\">\n",
    "\n",
    "### Exercise 4\n",
    "\n",
    "</div>\n",
    "\n",
    "<div class=\"panel-body\">\n",
    "\n",
    "Write the function count_letters which takes as a parameter a string of characters and which returns a dictionary such that for each pair the key is a letter and the value is its number of occurrences in the string.\n",
    "\n",
    "\n",
    "Example of use:\n",
    "\n",
    "    >>> compter_lettres('mississippi')\n",
    "    {'s': 4, 'm': 1, 'i': 4, 'p': 2}\n",
    "\n",
    "</div>\n",
    "\n",
    "</div>\n",
    "\n",
    "<div class=\"panel panel-default\">\n",
    "\n",
    "<div class=\"panel-heading\">\n",
    "\n",
    "### Solution 4\n",
    "\n",
    "</div>\n",
    "\n"
   ]
  },
  {
   "cell_type": "code",
   "execution_count": 78,
   "metadata": {},
   "outputs": [],
   "source": [
    "    import collections\n",
    "\n",
    "    def compter_lettres(mot):\n",
    "        resultat = collections.defaultdict(int)\n",
    "\n",
    "        for lettre in mot:\n",
    "            resultat[lettre] += 1\n",
    "\n",
    "        return resultat"
   ]
  },
  {
   "cell_type": "markdown",
   "metadata": {},
   "source": [
    "</div>\n",
    "\n",
    "</div>\n",
    "\n",
    "</div>\n",
    "\n",
    "<div id=\"__ex_5\" class=\"panel panel-default\">\n",
    "\n",
    "<div class=\"panel-heading\">\n",
    "\n",
    "### Exercise 5\n",
    "\n",
    "</div>\n",
    "\n",
    "<div class=\"panel-body\">\n",
    "\n",
    "Write the function `sort_letters` which takes as parameter a dictionary returned by the function `count_letters` and which returns a list of the letters sorted by their number of occurrences in descending order.\n",
    "\n",
    "Use the global sorted function .\n",
    "\n",
    "Example of uses:"
   ]
  },
  {
   "cell_type": "code",
   "execution_count": 86,
   "metadata": {},
   "outputs": [
    {
     "data": {
      "text/plain": [
       "['i', 's', 'p', 'm']"
      ]
     },
     "execution_count": 86,
     "metadata": {},
     "output_type": "execute_result"
    }
   ],
   "source": [
    "trier_lettres({'i': 4, 'p': 2, 's': 4, 'm': 1})"
   ]
  },
  {
   "cell_type": "markdown",
   "metadata": {},
   "source": [
    "</div>\n",
    "\n",
    "</div>\n",
    "\n",
    "<div class=\"panel panel-default\">\n",
    "\n",
    "<div class=\"panel-heading\">\n",
    "\n",
    "### Solution 5\n",
    "\n",
    "</div>\n"
   ]
  },
  {
   "cell_type": "code",
   "execution_count": 88,
   "metadata": {},
   "outputs": [],
   "source": [
    "    def get_second(item):\n",
    "        return item[1]\n",
    "\n",
    "    def trier_lettres(occurrences):\n",
    "        paires = occurrences.items()\n",
    "        paires_triees = sorted(paires, key=get_second, reverse=True)\n",
    "        return [lettre for lettre, occurrence in paires_triees]"
   ]
  },
  {
   "cell_type": "markdown",
   "metadata": {},
   "source": [
    "\n",
    "Using\n",
    "`operator.itemgetter(1)`:"
   ]
  },
  {
   "cell_type": "code",
   "execution_count": 90,
   "metadata": {},
   "outputs": [],
   "source": [
    "    import operator\n",
    "\n",
    "    def trier_lettres(occurrences):\n",
    "        paires = occurrences.items()\n",
    "        paires_triees = sorted(paires, key=operator.itemgetter(1), reverse=True)\n",
    "        return [lettre for lettre, occurrence in paires_triees]"
   ]
  }
 ],
 "metadata": {
  "kernelspec": {
   "display_name": "Python 3",
   "language": "python",
   "name": "python3"
  },
  "language_info": {
   "codemirror_mode": {
    "name": "ipython",
    "version": 3
   },
   "file_extension": ".py",
   "mimetype": "text/x-python",
   "name": "python",
   "nbconvert_exporter": "python",
   "pygments_lexer": "ipython3",
   "version": "3.7.3"
  }
 },
 "nbformat": 4,
 "nbformat_minor": 4
}
