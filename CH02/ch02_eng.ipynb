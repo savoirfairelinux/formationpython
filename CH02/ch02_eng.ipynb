{
 "cells": [
  {
   "cell_type": "markdown",
   "metadata": {},
   "source": [
    "<div class=\"container\">\n",
    "\n",
    "<nav id=\"TOC\">\n",
    "\n",
    "*   <span class=\"toc-section-number\">1</span> Basic data types\n",
    "\n",
    "    *   <span class=\"toc-section-number\">1.1</span> Simple\n",
    "    *   <span class=\"toc-section-number\">1.2</span> Sequence\n",
    "    *   <span class=\"toc-section-number\">1.3</span> Tuple (`tuple`)\n",
    "    *   <span class=\"toc-section-number\">1.4</span> String\n",
    "    *   <span class=\"toc-section-number\">1.5</span> Set (set)\n",
    "    *   <span class=\"toc-section-number\">1.6</span> Dictionary (dict)\n",
    "    *   <span class=\"toc-section-number\">1.7</span> `defaultdict`\n",
    "</nav>\n",
    "\n",
    "# <span class=\"header-section-number\">1</span> Basic data types\n",
    "\n",
    "\n",
    "There are four categories of basic data types: simple, sequence, set, and dictionary.\n",
    "\n",
    "\n",
    "*   Simple\n",
    "    *   boolean\n",
    "    *   None\n",
    "    *   Int\n",
    "    *   Float\n",
    "*   Sequence\n",
    "    *   String\n",
    "    *   List\n",
    "    *   Tuple (`tuple`)\n",
    "*   Set (`set`)\n",
    "*   Dictionary (`dict`)\n",
    "\n",
    "## <span class=\"header-section-number\">1.1</span> Simple\n",
    "\n",
    "### <span class=\"header-section-number\">1.1.1</span> Boolean\n",
    "\n",
    "There are two basic Boolean objects:  `True` and `False`.\n",
    "\n",
    "### <span class=\"header-section-number\">1.1.2</span> None\n",
    "\n",
    "`None` represents the absence of a value."
   ]
  },
  {
   "cell_type": "code",
   "execution_count": 16,
   "metadata": {},
   "outputs": [
    {
     "name": "stdout",
     "output_type": "stream",
     "text": [
      "None\n"
     ]
    }
   ],
   "source": [
    ">>> a = None\n",
    ">>> print(a)"
   ]
  },
  {
   "cell_type": "markdown",
   "metadata": {},
   "source": [
    "### <span class=\"header-section-number\">1.1.3</span> Numbers\n",
    "\n",
    "There are two basic numeric types: integer (`int`) and real (`float`). Here are some examples of operations on these types:\n",
    "\n",
    "    "
   ]
  },
  {
   "cell_type": "code",
   "execution_count": 17,
   "metadata": {},
   "outputs": [
    {
     "data": {
      "text/plain": [
       "7"
      ]
     },
     "execution_count": 17,
     "metadata": {},
     "output_type": "execute_result"
    }
   ],
   "source": [
    ">>> 3 + 4"
   ]
  },
  {
   "cell_type": "code",
   "execution_count": 18,
   "metadata": {},
   "outputs": [
    {
     "data": {
      "text/plain": [
       "8"
      ]
     },
     "execution_count": 18,
     "metadata": {},
     "output_type": "execute_result"
    }
   ],
   "source": [
    ">>> 2 ** 3"
   ]
  },
  {
   "cell_type": "code",
   "execution_count": 19,
   "metadata": {},
   "outputs": [
    {
     "data": {
      "text/plain": [
       "4"
      ]
     },
     "execution_count": 19,
     "metadata": {},
     "output_type": "execute_result"
    }
   ],
   "source": [
    ">>> abs(-4)"
   ]
  },
  {
   "cell_type": "code",
   "execution_count": 24,
   "metadata": {},
   "outputs": [
    {
     "data": {
      "text/plain": [
       "3"
      ]
     },
     "execution_count": 24,
     "metadata": {},
     "output_type": "execute_result"
    }
   ],
   "source": [
    ">>> int(3.7)"
   ]
  },
  {
   "cell_type": "code",
   "execution_count": 23,
   "metadata": {},
   "outputs": [
    {
     "data": {
      "text/plain": [
       "5.0"
      ]
     },
     "execution_count": 23,
     "metadata": {},
     "output_type": "execute_result"
    }
   ],
   "source": [
    ">>> float(5)"
   ]
  },
  {
   "cell_type": "markdown",
   "metadata": {},
   "source": [
    "There is a list of possible operations on numbers in the Python documentation:[https://docs.python.org/3/library/stdtypes.html#numeric-types-int-float-complex](https://docs.python.org/3/library/stdtypes.html#numeric-types-int-float-complex)\n",
    "\n",
    "Various functions are also available in the `math` module: [https://docs.python.org/3/library/math.html](https://docs.python.org/3/library/math.html)"
   ]
  },
  {
   "cell_type": "code",
   "execution_count": 25,
   "metadata": {},
   "outputs": [
    {
     "data": {
      "text/plain": [
       "4"
      ]
     },
     "execution_count": 25,
     "metadata": {},
     "output_type": "execute_result"
    }
   ],
   "source": [
    "    >>> import math\n",
    "    >>> math.sqrt(4)\n",
    "    2.0\n",
    "    >>> math.ceil(3.1)\n",
    "    4"
   ]
  },
  {
   "cell_type": "markdown",
   "metadata": {},
   "source": [
    "The size of an integer is limited by the size of the computer's memory and not by the size of the processor's registers. So integers with hundreds of digits can easily be created."
   ]
  },
  {
   "cell_type": "code",
   "execution_count": 38,
   "metadata": {},
   "outputs": [
    {
     "data": {
      "text/plain": [
       "1747871251722651609659974619164660570529062487435188517811888011810686266227275489291486469864681111075608950696145276588771368435875508647514414202093638481872912380089977179381529628478320523519319142681504424059410890214500500647813935818925701905402605484098137956979368551025825239411318643997916523677044769662628646406540335627975329619264245079750470862462474091105444437355302146151475348090755330153269067933091699479889089824650841795567478606396975664557143737657027080403239977757865296846740093712377915770536094223688049108023244139183027962484411078464439516845227961935221269814753416782576455507316073751985374046064592546796043150737808314501684679758056905948759246368644416151863138085276603595816410945157599742077617618911601185155602080771746785959359879490191933389965271275403127925432247963269675912646103156343954375442792688936047041533537523137941310690833949767764290081333900380310406154723157882112449991673819054110440001"
      ]
     },
     "execution_count": 38,
     "metadata": {},
     "output_type": "execute_result"
    }
   ],
   "source": [
    "    >>> 9 ** 1000"
   ]
  },
  {
   "cell_type": "markdown",
   "metadata": {},
   "source": [
    "The operations on these are however slower than on integers that can be represented natively by the processor.\n",
    "\n",
    "Literal integers are represented in decimal base by default, but it is possible to use other bases:"
   ]
  },
  {
   "cell_type": "code",
   "execution_count": 32,
   "metadata": {},
   "outputs": [
    {
     "data": {
      "text/plain": [
       "4871"
      ]
     },
     "execution_count": 32,
     "metadata": {},
     "output_type": "execute_result"
    }
   ],
   "source": [
    "    >>> 4871            # décimale\n",
    "    4871"
   ]
  },
  {
   "cell_type": "code",
   "execution_count": 34,
   "metadata": {},
   "outputs": [
    {
     "data": {
      "text/plain": [
       "4871"
      ]
     },
     "execution_count": 34,
     "metadata": {},
     "output_type": "execute_result"
    }
   ],
   "source": [
    "    >>> 0b1001100000111 # binaire"
   ]
  },
  {
   "cell_type": "code",
   "execution_count": 36,
   "metadata": {},
   "outputs": [
    {
     "data": {
      "text/plain": [
       "4871"
      ]
     },
     "execution_count": 36,
     "metadata": {},
     "output_type": "execute_result"
    }
   ],
   "source": [
    "    >>> 0o11407         # octale"
   ]
  },
  {
   "cell_type": "code",
   "execution_count": 37,
   "metadata": {},
   "outputs": [
    {
     "data": {
      "text/plain": [
       "4871"
      ]
     },
     "execution_count": 37,
     "metadata": {},
     "output_type": "execute_result"
    }
   ],
   "source": [
    "    >>> 0x1307          # hexadécimale\n"
   ]
  },
  {
   "cell_type": "markdown",
   "metadata": {},
   "source": [
    "It is possible to convert a number from one type to another using `int` and `float` functions:"
   ]
  },
  {
   "cell_type": "code",
   "execution_count": 30,
   "metadata": {},
   "outputs": [
    {
     "data": {
      "text/plain": [
       "1"
      ]
     },
     "execution_count": 30,
     "metadata": {},
     "output_type": "execute_result"
    }
   ],
   "source": [
    "    >>> int()\n",
    "    0\n",
    "    >>> float()\n",
    "    0.0\n",
    "    >>> int(4.5)\n",
    "    4\n",
    "    >>> float(4)\n",
    "    4.0\n",
    "    >>> int(True)\n",
    "    1"
   ]
  },
  {
   "cell_type": "markdown",
   "metadata": {},
   "source": [
    "You can also convert a string into a number:"
   ]
  },
  {
   "cell_type": "code",
   "execution_count": 3,
   "metadata": {},
   "outputs": [
    {
     "data": {
      "text/plain": [
       "5"
      ]
     },
     "execution_count": 3,
     "metadata": {},
     "output_type": "execute_result"
    }
   ],
   "source": [
    "    >>> int(\"5\")"
   ]
  },
  {
   "cell_type": "code",
   "execution_count": 6,
   "metadata": {},
   "outputs": [
    {
     "data": {
      "text/plain": [
       "4.5"
      ]
     },
     "execution_count": 6,
     "metadata": {},
     "output_type": "execute_result"
    }
   ],
   "source": [
    "    >>> float(\"4.5\")"
   ]
  },
  {
   "cell_type": "markdown",
   "metadata": {},
   "source": [
    "## <span class=\"header-section-number\">1.2</span> Sequences\n",
    "\n",
    "A sequence is an ordered collection of elements. A sequence:\n",
    "\n",
    "\n",
    "*   is iterable\n",
    "*   has a size (`len`)\n",
    "*   has the concept of index, for example to access the <span class=\"math\">_i_<sup>_e_</sup></span> element (`[]`)\n",
    "*   supports slicing ,this allows extracting a subset of elements\n",
    "*   supports the membership operator  (`in`)\n",
    "*   has a few methods to find the index of an element and count the number of occurrences of an element\n",
    "\n",
    "A sequence supports the following operations:\n",
    "\n",
    "\n",
    "\n",
    "<table>\n",
    "\n",
    "<thead>\n",
    "\n",
    "<tr class=\"header\">\n",
    "\n",
    "<th align=\"left\">operation</th>\n",
    "\n",
    "<th align=\"left\">Meaning</th>\n",
    "\n",
    "</tr>\n",
    "\n",
    "</thead>\n",
    "\n",
    "<tbody>\n",
    "\n",
    "<tr class=\"odd\">\n",
    "\n",
    "<td align=\"left\">x in s</td>\n",
    "\n",
    "<td align=\"left\">`True` if an element of `s` equals `x`, otherwise `False`</td>\n",
    "\n",
    "</tr>\n",
    "\n",
    "<tr class=\"even\">\n",
    "\n",
    "<td align=\"left\">x not in s</td>\n",
    "\n",
    "<td align=\"left\">\t\n",
    "`False` if an element of s equals x , otherwise `True`</td>\n",
    "\n",
    "</tr>\n",
    "\n",
    "<tr class=\"odd\">\n",
    "\n",
    "<td align=\"left\">s + t</td>\n",
    "\n",
    "<td align=\"left\">concatenation of `s` and `t`</td>\n",
    "\n",
    "</tr>\n",
    "\n",
    "<tr class=\"even\">\n",
    "\n",
    "<td align=\"left\">s * n or n * s</td>\n",
    "\n",
    "<td align=\"left\">concatenation of <span class=\"math\">_n_</span> copies of `s`</td>\n",
    "\n",
    "</tr>\n",
    "\n",
    "<tr class=\"odd\">\n",
    "\n",
    "<td align=\"left\">s[i]</td>\n",
    "\n",
    "<td align=\"left\"><span class=\"math\">_i_<sup>_e_</sup></span> element of `s`</td>\n",
    "\n",
    "</tr>\n",
    "\n",
    "<tr class=\"even\">\n",
    "\n",
    "<td align=\"left\">s[i:j]</td>\n",
    "\n",
    "<td align=\"left\">slice of <span class=\"math\">_i_</span> to <span class=\"math\">_j_</span> of `s`</td>\n",
    "\n",
    "</tr>\n",
    "\n",
    "<tr class=\"odd\">\n",
    "\n",
    "<td align=\"left\">s[i:j:k]</td>\n",
    "\n",
    "<td align=\"left\">slice of<span class=\"math\">_i_</span> to <span class=\"math\">_j_</span> of `s` with step <span class=\"math\">_k_</span></td>\n",
    "\n",
    "</tr>\n",
    "\n",
    "<tr class=\"even\">\n",
    "\n",
    "<td align=\"left\">len(s)</td>\n",
    "\n",
    "<td align=\"left\">size of `s`</td>\n",
    "\n",
    "</tr>\n",
    "\n",
    "<tr class=\"odd\">\n",
    "\n",
    "<td align=\"left\">min(s)</td>\n",
    "\n",
    "<td align=\"left\">smallest element of `s`</td>\n",
    "\n",
    "</tr>\n",
    "\n",
    "<tr class=\"even\">\n",
    "\n",
    "<td align=\"left\">max(s)</td>\n",
    "\n",
    "<td align=\"left\">largest element `s`</td>\n",
    "\n",
    "</tr>\n",
    "\n",
    "<tr class=\"odd\">\n",
    "\n",
    "<td align=\"left\">s.index(x[,i[,j]])</td>\n",
    "\n",
    "<td align=\"left\">iindex of the first occurrence of x in s (or between indices i and j )<span class=\"math\">_i_</span> and <span class=\"math\">_j_</span>)</td>\n",
    "\n",
    "</tr>\n",
    "\n",
    "<tr class=\"even\">\n",
    "\n",
    "<td align=\"left\">s.count(x)</td>\n",
    "\n",
    "<td align=\"left\">total number of occurrences of `x` in `s`</td>\n",
    "\n",
    "</tr>\n",
    "\n",
    "</tbody>\n",
    "\n",
    "</table>\n",
    "\n",
    "### <span class=\"header-section-number\">1.2.1</span> List\n",
    "\n",
    "A list is an ordered collection of items."
   ]
  },
  {
   "cell_type": "code",
   "execution_count": 27,
   "metadata": {},
   "outputs": [
    {
     "data": {
      "text/plain": [
       "1"
      ]
     },
     "execution_count": 27,
     "metadata": {},
     "output_type": "execute_result"
    }
   ],
   "source": [
    "    >>> lst = [1, 2, 3]\n",
    "    >>> lst\n",
    "    [1, 2, 3]\n",
    "    >>> len(lst)\n",
    "    3\n",
    "    >>> lst[0]\n",
    "    1\n",
    "    >>> 2 in lst\n",
    "    True\n",
    "    >>> lst.count(3)\n",
    "    1"
   ]
  },
  {
   "cell_type": "markdown",
   "metadata": {},
   "source": [
    "A list is mutable."
   ]
  },
  {
   "cell_type": "code",
   "execution_count": 28,
   "metadata": {},
   "outputs": [
    {
     "data": {
      "text/plain": [
       "['python', 'javascript', 4, 'java']"
      ]
     },
     "execution_count": 28,
     "metadata": {},
     "output_type": "execute_result"
    }
   ],
   "source": [
    "    >>> lst[0] = 9\n",
    "    >>> lst\n",
    "    [9, 2, 3]\n",
    "    >>> lst.append(5)\n",
    "    >>> lst\n",
    "    [9, 2, 3, 5]\n",
    "    >>> lst.reverse()\n",
    "    >>> lst\n",
    "    [5, 3, 2, 9]\n",
    "    >>> lst.remove(5)\n",
    "    >>> lst\n",
    "    [3, 2, 9]\n",
    "\n",
    "    >>> lst = ['python', 4, 'java', 'c']\n",
    "    >>> lst.pop()\n",
    "    'c'\n",
    "    >>> lst\n",
    "    ['python', 4, 'java']\n",
    "    >>> lst.insert(1, 'javascript')\n",
    "    >>> lst\n",
    "    ['python', 'javascript', 4, 'java']"
   ]
  },
  {
   "cell_type": "markdown",
   "metadata": {},
   "source": [
    "Here is the list of methods to modify a list [https://docs.python.org/3/library/stdtypes.html#typesseq-mutable](https://docs.python.org/3/library/stdtypes.html#typesseq-mutable)\n",
    "\n",
    "We can iterate on a list with the `for` loop:"
   ]
  },
  {
   "cell_type": "code",
   "execution_count": 39,
   "metadata": {},
   "outputs": [
    {
     "name": "stdout",
     "output_type": "stream",
     "text": [
      "0\n",
      "1\n",
      "2\n"
     ]
    }
   ],
   "source": [
    "    >>> for i in [0, 1, 2]:\n",
    "    ...     print(i)"
   ]
  },
  {
   "cell_type": "markdown",
   "metadata": {},
   "source": [
    "<div id=\"__ex_1\" class=\"panel panel-default\">\n",
    "\n",
    "<div class=\"panel-heading\">\n",
    "\n",
    "### Exercise 1\n",
    "\n",
    "</div>\n",
    "\n",
    "<div class=\"panel-body\">\n",
    "\n",
    "Write a function that takes as a parameter a list of integers as a string (eg ['1', '2', '3'] ) and which displays for each number whether it is even or odd.\n",
    "\n",
    "Example:"
   ]
  },
  {
   "cell_type": "code",
   "execution_count": null,
   "metadata": {},
   "outputs": [],
   "source": [
    "    >>> pair_impair(['1', '2', '3'])\n",
    "    impair\n",
    "    pair\n",
    "    impair"
   ]
  },
  {
   "cell_type": "markdown",
   "metadata": {},
   "source": [
    "</div>\n",
    "\n",
    "</div>\n",
    "\n",
    "<div class=\"panel panel-default\">\n",
    "\n",
    "<div class=\"panel-heading\">\n",
    "\n",
    "### Solution 1\n",
    "\n",
    "</div>\n"
   ]
  },
  {
   "cell_type": "code",
   "execution_count": 40,
   "metadata": {},
   "outputs": [],
   "source": [
    "def pair_impair(lst):\n",
    "    for s in lst:\n",
    "        if int(s) % 2 == 0:\n",
    "            print(\"pair\")\n",
    "        else:\n",
    "            print(\"impair\")"
   ]
  },
  {
   "cell_type": "markdown",
   "metadata": {},
   "source": [
    "</div>\n",
    "\n",
    "</div>\n",
    "\n",
    "</div>\n",
    "\n",
    "Slicing allows extracting a subsequence. The syntax is  `s[i:j:k]` where:\n",
    "\n",
    "*   <span class=\"math\">_i_</span> is the lower bound (included)\n",
    "*   <span class=\"math\">_j_</span> is the upper bound (excluded)\n",
    "*   <span class=\"math\">_k_</span> is the step"
   ]
  },
  {
   "cell_type": "code",
   "execution_count": 41,
   "metadata": {},
   "outputs": [
    {
     "data": {
      "text/plain": [
       "[0, 2, 4, 6]"
      ]
     },
     "execution_count": 41,
     "metadata": {},
     "output_type": "execute_result"
    }
   ],
   "source": [
    "    >>> lst = [0, 1, 2, 3, 4, 5, 6, 7]\n",
    "    >>> lst[0:4:1] # Les premiers 4 éléments\n",
    "    [0, 1, 2, 3]\n",
    "    >>> lst[4:8:1] # Les derniers 4 éléments\n",
    "    >>> lst[0:8:2] # Prend un élément sur deux\n",
    "    [0, 2, 4, 6]"
   ]
  },
  {
   "cell_type": "markdown",
   "metadata": {},
   "source": [
    "Each index is optional and therefore has a default value:\n",
    "\n",
    "\n",
    "\n",
    "*   <span class=\"math\">_i_</span>: 0\n",
    "*   <span class=\"math\">_j_</span>: `len(s)`\n",
    "*   <span class=\"math\">_k_</span>: 1"
   ]
  },
  {
   "cell_type": "code",
   "execution_count": 43,
   "metadata": {},
   "outputs": [
    {
     "data": {
      "text/plain": [
       "[7, 5, 3, 1]"
      ]
     },
     "execution_count": 43,
     "metadata": {},
     "output_type": "execute_result"
    }
   ],
   "source": [
    "    >>> lst[:] # = lst[0:8:1]\n",
    "    [0, 1, 2, 3, 4, 5, 6, 7]\n",
    "    >>> lst[:6] # = lst[0:6:1]\n",
    "    [0, 1, 2, 3, 4, 5]\n",
    "    >>> lst[::2] # lst[0:8:2]\n",
    "    [0, 2, 4, 6]\n",
    "    >>> lst[::-2] # lst[0:8:-2]"
   ]
  },
  {
   "cell_type": "markdown",
   "metadata": {},
   "source": [
    "<div id=\"__ex_2\" class=\"panel panel-default\">\n",
    "\n",
    "<div class=\"panel-heading\">\n",
    "\n",
    "### Exercise 2\n",
    "\n",
    "</div>\n",
    "\n",
    "<div class=\"panel-body\">\n",
    "\n",
    "Using `len`, `range` eand slicing, write a `for` loop that displays all sequences of 3 consecutive items from the list `[1,2,3,4,5,6,7,8,9]`.\n",
    "\n",
    "Example:\n",
    "\n",
    "    [1, 2, 3]\n",
    "    [2, 3, 4]\n",
    "    [3, 4, 5]\n",
    "    [4, 5, 6]\n",
    "    [5, 6, 7]\n",
    "    [6, 7, 8]\n",
    "    [7, 8, 9]\n",
    "\n",
    "</div>\n",
    "\n",
    "</div>\n",
    "\n",
    "<div class=\"panel panel-default\">\n",
    "\n",
    "<div class=\"panel-heading\">\n",
    "\n",
    "### Solution 2\n",
    "\n",
    "</div>"
   ]
  },
  {
   "cell_type": "code",
   "execution_count": 44,
   "metadata": {},
   "outputs": [
    {
     "name": "stdout",
     "output_type": "stream",
     "text": [
      "[1, 2, 3]\n",
      "[2, 3, 4]\n",
      "[3, 4, 5]\n",
      "[4, 5, 6]\n",
      "[5, 6, 7]\n",
      "[6, 7, 8]\n",
      "[7, 8, 9]\n"
     ]
    }
   ],
   "source": [
    "    lst = [1, 2, 3, 4, 5, 6, 7, 8, 9]\n",
    "\n",
    "    for i in range(len(lst) - 2):\n",
    "        print(lst[i:i+3])"
   ]
  },
  {
   "cell_type": "markdown",
   "metadata": {},
   "source": [
    "</div>\n",
    "\n",
    "</div>\n",
    "\n",
    "</div>\n",
    "\n",
    "### <span class=\"header-section-number\">1.2.2</span>  List comprehension\n",
    "\n",
    "List comprehension is about creating a list by modifying or filtering a sequence with a compact syntax. The \n",
    "syntax is:\n",
    "\n",
    "\n",
    "*   `[<item> for <item> in <iterable>]`\n",
    "*   `[<item> for <item> in <iterable> if <condition>]`\n",
    "\n",
    "For exemple:"
   ]
  },
  {
   "cell_type": "code",
   "execution_count": null,
   "metadata": {},
   "outputs": [],
   "source": [
    "    lst = [1, 2, 3, 4]\n",
    "    result = []\n",
    "    for i in lst:\n",
    "        result.append(i ** 2)"
   ]
  },
  {
   "cell_type": "markdown",
   "metadata": {},
   "source": [
    "is equivalent to:"
   ]
  },
  {
   "cell_type": "code",
   "execution_count": 45,
   "metadata": {},
   "outputs": [],
   "source": [
    "    >>> [i ** 2 for i in lst]\n",
    "    [1, 4, 9, 16]\n",
    "\n",
    "    lst = [1, 2, 3, 4]\n",
    "    result = []\n",
    "    for i in lst:\n",
    "        if i % 2 == 0:\n",
    "            result.append(i)"
   ]
  },
  {
   "cell_type": "markdown",
   "metadata": {},
   "source": [
    "is equivalent to:"
   ]
  },
  {
   "cell_type": "code",
   "execution_count": 46,
   "metadata": {},
   "outputs": [
    {
     "data": {
      "text/plain": [
       "[2, 4]"
      ]
     },
     "execution_count": 46,
     "metadata": {},
     "output_type": "execute_result"
    }
   ],
   "source": [
    "    >>> [i for i in lst if i % 2 == 0]"
   ]
  },
  {
   "cell_type": "markdown",
   "metadata": {},
   "source": [
    "## <span class=\"header-section-number\">1.3</span> Tuple\n",
    "\n",
    "A tuple is an ordered sequence of elements. A tuple is immutable."
   ]
  },
  {
   "cell_type": "code",
   "execution_count": 47,
   "metadata": {},
   "outputs": [
    {
     "ename": "TypeError",
     "evalue": "'tuple' object does not support item assignment",
     "output_type": "error",
     "traceback": [
      "\u001b[0;31m---------------------------------------------------------------------------\u001b[0m",
      "\u001b[0;31mTypeError\u001b[0m                                 Traceback (most recent call last)",
      "\u001b[0;32m<ipython-input-47-1fc7c2be0342>\u001b[0m in \u001b[0;36m<module>\u001b[0;34m\u001b[0m\n\u001b[1;32m      4\u001b[0m \u001b[0mlen\u001b[0m\u001b[0;34m(\u001b[0m\u001b[0mt\u001b[0m\u001b[0;34m)\u001b[0m\u001b[0;34m\u001b[0m\u001b[0;34m\u001b[0m\u001b[0m\n\u001b[1;32m      5\u001b[0m \u001b[0;36m3\u001b[0m\u001b[0;34m\u001b[0m\u001b[0;34m\u001b[0m\u001b[0m\n\u001b[0;32m----> 6\u001b[0;31m \u001b[0mt\u001b[0m\u001b[0;34m[\u001b[0m\u001b[0;36m0\u001b[0m\u001b[0;34m]\u001b[0m \u001b[0;34m=\u001b[0m \u001b[0;36m8\u001b[0m\u001b[0;34m\u001b[0m\u001b[0;34m\u001b[0m\u001b[0m\n\u001b[0m",
      "\u001b[0;31mTypeError\u001b[0m: 'tuple' object does not support item assignment"
     ]
    }
   ],
   "source": [
    "    >>> t = (1, 2, 'python')\n",
    "    >>> t[0]\n",
    "    1\n",
    "    >>> len(t)\n",
    "    3\n",
    "    >>> t[0] = 8"
   ]
  },
  {
   "cell_type": "markdown",
   "metadata": {},
   "source": [
    "We can iterate on a tuple:"
   ]
  },
  {
   "cell_type": "code",
   "execution_count": 48,
   "metadata": {},
   "outputs": [
    {
     "name": "stdout",
     "output_type": "stream",
     "text": [
      "0\n",
      "1\n",
      "2\n"
     ]
    }
   ],
   "source": [
    "    >>> for i in (0, 1, 2):\n",
    "    ...     print(i)"
   ]
  },
  {
   "cell_type": "markdown",
   "metadata": {},
   "source": [
    "### <span class=\"header-section-number\">1.3.1</span> Packing/Unpacking\n",
    "\n",
    "Packing a tuple means combining variables to form a tuple:"
   ]
  },
  {
   "cell_type": "code",
   "execution_count": 54,
   "metadata": {},
   "outputs": [
    {
     "data": {
      "text/plain": [
       "('192.168.43.12', 8000)"
      ]
     },
     "execution_count": 54,
     "metadata": {},
     "output_type": "execute_result"
    }
   ],
   "source": [
    "    >>> address_port = ('192.168.43.12', 8000)\n",
    "    >>> address_port\n",
    "    ('192.168.43.12', 8000)"
   ]
  },
  {
   "cell_type": "markdown",
   "metadata": {},
   "source": [
    "Unpacking a tuple means extracting the values of a tuple and assigning them to variabes:"
   ]
  },
  {
   "cell_type": "code",
   "execution_count": 55,
   "metadata": {},
   "outputs": [
    {
     "data": {
      "text/plain": [
       "8000"
      ]
     },
     "execution_count": 55,
     "metadata": {},
     "output_type": "execute_result"
    }
   ],
   "source": [
    "    >>> address, port = address_port\n",
    "    >>> address\n",
    "    '192.168.43.12'\n",
    "    >>> port"
   ]
  },
  {
   "cell_type": "markdown",
   "metadata": {},
   "source": [
    "Unpacking is very useful when using a `for` loop :"
   ]
  },
  {
   "cell_type": "code",
   "execution_count": 52,
   "metadata": {},
   "outputs": [
    {
     "name": "stdout",
     "output_type": "stream",
     "text": [
      "8\n",
      "16\n",
      "216\n"
     ]
    }
   ],
   "source": [
    "    >>> for x, y in ((2, 3), (4, 2), (6, 3)):\n",
    "    ...     print(x ** y)"
   ]
  },
  {
   "cell_type": "markdown",
   "metadata": {},
   "source": [
    "## <span class=\"header-section-number\">1.4</span> String\n",
    "\n",
    "A string is defined either by single quotes ' or double quotes \" . Example:"
   ]
  },
  {
   "cell_type": "code",
   "execution_count": 51,
   "metadata": {},
   "outputs": [
    {
     "data": {
      "text/plain": [
       "'python'"
      ]
     },
     "execution_count": 51,
     "metadata": {},
     "output_type": "execute_result"
    }
   ],
   "source": [
    "    >>> 'python'"
   ]
  },
  {
   "cell_type": "code",
   "execution_count": 50,
   "metadata": {},
   "outputs": [
    {
     "data": {
      "text/plain": [
       "'python'"
      ]
     },
     "execution_count": 50,
     "metadata": {},
     "output_type": "execute_result"
    }
   ],
   "source": [
    "    >>> \"python\""
   ]
  },
  {
   "cell_type": "markdown",
   "metadata": {},
   "source": [
    "Note that ' and ' have the same meaning in Python, but you must use the same symbol to start and close a string.\n",
    "\n",
    "Example:"
   ]
  },
  {
   "cell_type": "code",
   "execution_count": 56,
   "metadata": {},
   "outputs": [
    {
     "ename": "SyntaxError",
     "evalue": "EOL while scanning string literal (<ipython-input-56-ccc73d2593dc>, line 1)",
     "output_type": "error",
     "traceback": [
      "\u001b[0;36m  File \u001b[0;32m\"<ipython-input-56-ccc73d2593dc>\"\u001b[0;36m, line \u001b[0;32m1\u001b[0m\n\u001b[0;31m    'python\"\u001b[0m\n\u001b[0m            ^\u001b[0m\n\u001b[0;31mSyntaxError\u001b[0m\u001b[0;31m:\u001b[0m EOL while scanning string literal\n"
     ]
    }
   ],
   "source": [
    "    >>> 'python\""
   ]
  },
  {
   "cell_type": "markdown",
   "metadata": {},
   "source": [
    "A string can also be on several lines, it is then necessary to use '' ' or \"\"\" to delimit it:"
   ]
  },
  {
   "cell_type": "code",
   "execution_count": 59,
   "metadata": {},
   "outputs": [
    {
     "data": {
      "text/plain": [
       "'SELECT *\\n    FROM users\\n    WHERE id = $1\\n    '"
      ]
     },
     "execution_count": 59,
     "metadata": {},
     "output_type": "execute_result"
    }
   ],
   "source": [
    "chaine = \"\"\"SELECT *\n",
    "    FROM users\n",
    "    WHERE id = $1\n",
    "    \"\"\"\n",
    "chaine"
   ]
  },
  {
   "cell_type": "markdown",
   "metadata": {},
   "source": [
    "The characters `\\n` are part of the string. If we do not want the characters `\\n` , we can concatenate several character strings:\n"
   ]
  },
  {
   "cell_type": "code",
   "execution_count": 61,
   "metadata": {},
   "outputs": [
    {
     "data": {
      "text/plain": [
       "'SELECT * FROM users WHERE id = $1'"
      ]
     },
     "execution_count": 61,
     "metadata": {},
     "output_type": "execute_result"
    }
   ],
   "source": [
    "chaine = (\"SELECT * \"\n",
    "          \"FROM users \"\n",
    "          \"WHERE id = $1\")\n",
    "chaine"
   ]
  },
  {
   "cell_type": "markdown",
   "metadata": {},
   "source": [
    "A string has several methods: [https://docs.python.org/3/library/stdtypes.html#string-methods](https://docs.python.org/3/library/stdtypes.html#string-methods)\n",
    "\n",
    "<div id=\"__ex_3\" class=\"panel panel-default\">\n",
    "\n",
    "<div class=\"panel-heading\">\n",
    "\n",
    "### Exercise 3\n",
    "\n",
    "</div>\n",
    "\n",
    "<div class=\"panel-body\">\n",
    "\n",
    "Create a function `maj_inverser` that takes a string and returns the same string, but in uppercase and inverted.\n",
    "\n",
    "</div>\n",
    "\n",
    "</div>\n",
    "\n",
    "<div class=\"panel panel-default\">\n",
    "\n",
    "<div class=\"panel-heading\">\n",
    "\n",
    "### Solution 3\n",
    "\n",
    "</div>"
   ]
  },
  {
   "cell_type": "code",
   "execution_count": 64,
   "metadata": {},
   "outputs": [
    {
     "data": {
      "text/plain": [
       "'OLLEH'"
      ]
     },
     "execution_count": 64,
     "metadata": {},
     "output_type": "execute_result"
    }
   ],
   "source": [
    "def maj_inverser(mot):\n",
    "    return mot.upper()[::-1]\n",
    "maj_inverser(\"Hello\")"
   ]
  },
  {
   "cell_type": "markdown",
   "metadata": {},
   "source": [
    "</div>\n",
    "\n",
    "</div>\n",
    "\n",
    "</div>\n",
    "\n",
    "### <span class=\"header-section-number\">1.4.1</span> Formatting\n",
    "\n",
    "You can format a string either with the `%` operator or with the `format` method :"
   ]
  },
  {
   "cell_type": "code",
   "execution_count": 67,
   "metadata": {},
   "outputs": [
    {
     "data": {
      "text/plain": [
       "'Le 3 janvier'"
      ]
     },
     "execution_count": 67,
     "metadata": {},
     "output_type": "execute_result"
    }
   ],
   "source": [
    "    >>> \"Bonjour %s\" % \"Alex\"\n",
    "    'Bonjour Alex'\n",
    "    >>> \"Le %s %s\" % (3, 'janvier')\n",
    "    'Le 3 janvier'\n",
    "\n",
    "    >>> 'Le {0} {1}'.format(3, 'janvier')\n",
    "    'Le 3 janvier'\n",
    "    >>> 'Le {jour} {mois}'.format(mois='janvier', jour=3)"
   ]
  },
  {
   "cell_type": "markdown",
   "metadata": {},
   "source": [
    "## <span class=\"header-section-number\">1.5</span> Set\n",
    "\n",
    "The `set` type is a collection of unordered and unique items. It does not contain duplicates and has no order."
   ]
  },
  {
   "cell_type": "code",
   "execution_count": 68,
   "metadata": {},
   "outputs": [
    {
     "data": {
      "text/plain": [
       "False"
      ]
     },
     "execution_count": 68,
     "metadata": {},
     "output_type": "execute_result"
    }
   ],
   "source": [
    "    >>> x = set([0, 0, 1, 2, 3, 1])\n",
    "    {0, 1, 2, 3}\n",
    "    >>> y = set([4, 0, 3, 4])\n",
    "    >>> y\n",
    "    {0, 3, 4}\n",
    "\n",
    "    >>> 1 in x\n",
    "    True\n",
    "    >>> 1 in y"
   ]
  },
  {
   "cell_type": "markdown",
   "metadata": {},
   "source": [
    "It supports operations on sets as in mathematics:"
   ]
  },
  {
   "cell_type": "code",
   "execution_count": 69,
   "metadata": {},
   "outputs": [
    {
     "data": {
      "text/plain": [
       "{4}"
      ]
     },
     "execution_count": 69,
     "metadata": {},
     "output_type": "execute_result"
    }
   ],
   "source": [
    "    >>> x.intersection(y)\n",
    "    {0, 3}\n",
    "    >>> x.union(y)\n",
    "    {0, 1, 2, 3, 4}\n",
    "    >>> x - y\n",
    "    {1, 2}\n",
    "    >>> y - x"
   ]
  },
  {
   "cell_type": "markdown",
   "metadata": {},
   "source": [
    "A set is mutable:"
   ]
  },
  {
   "cell_type": "code",
   "execution_count": 7,
   "metadata": {},
   "outputs": [
    {
     "ename": "NameError",
     "evalue": "name 'x' is not defined",
     "output_type": "error",
     "traceback": [
      "\u001b[0;31m---------------------------------------------------------------------------\u001b[0m",
      "\u001b[0;31mNameError\u001b[0m                                 Traceback (most recent call last)",
      "\u001b[0;32m<ipython-input-7-faeffc0092b8>\u001b[0m in \u001b[0;36m<module>\u001b[0;34m\u001b[0m\n\u001b[0;32m----> 1\u001b[0;31m \u001b[0mx\u001b[0m\u001b[0;34m.\u001b[0m\u001b[0madd\u001b[0m\u001b[0;34m(\u001b[0m\u001b[0;36m6\u001b[0m\u001b[0;34m)\u001b[0m\u001b[0;34m\u001b[0m\u001b[0;34m\u001b[0m\u001b[0m\n\u001b[0m\u001b[1;32m      2\u001b[0m \u001b[0mx\u001b[0m\u001b[0;34m\u001b[0m\u001b[0;34m\u001b[0m\u001b[0m\n",
      "\u001b[0;31mNameError\u001b[0m: name 'x' is not defined"
     ]
    }
   ],
   "source": [
    "    >>> x.add(6)\n",
    "    >>> x"
   ]
  },
  {
   "cell_type": "markdown",
   "metadata": {},
   "source": [
    "### <span class=\"header-section-number\">1.5.1</span> Iterable\n",
    "\n",
    "Sets are iterable:"
   ]
  },
  {
   "cell_type": "code",
   "execution_count": 72,
   "metadata": {},
   "outputs": [
    {
     "name": "stdout",
     "output_type": "stream",
     "text": [
      "0\n",
      "1\n",
      "2\n",
      "3\n",
      "6\n"
     ]
    }
   ],
   "source": [
    "for i in x:\n",
    "    print(i)"
   ]
  },
  {
   "cell_type": "markdown",
   "metadata": {},
   "source": [
    "Since a set has no order, there is no guarantee on the order in which the items are iterated.\n",
    "\n",
    "\n",
    "Documentation: [https://docs.python.org/3/library/stdtypes.html#set-types-set-frozenset](https://docs.python.org/3/library/stdtypes.html#set-types-set-frozenset)\n",
    "\n",
    "## <span class=\"header-section-number\">1.6</span> Dictionary (dict)\n",
    "\n",
    "A dictionary is a collection of unordered key-value elements. A key must be unique."
   ]
  },
  {
   "cell_type": "code",
   "execution_count": 73,
   "metadata": {},
   "outputs": [
    {
     "data": {
      "text/plain": [
       "[('diane', 167), ('benoit', 412), ('carl', 671)]"
      ]
     },
     "execution_count": 73,
     "metadata": {},
     "output_type": "execute_result"
    }
   ],
   "source": [
    "    >>> ext = {'alex': 741, 'benoit': 412, 'carl': 671}\n",
    "    >>> ext['diane'] = 167\n",
    "    >>> ext\n",
    "    {'diane': 167, 'alex': 741, 'benoit': 412, 'carl': 671}\n",
    "    >>> del ext['alex']\n",
    "    >>> ext\n",
    "    {'diane': 167, 'benoit': 412, 'carl': 671}\n",
    "    >>> 'benoit' in ext\n",
    "    True\n",
    "    >>> list(ext.keys())\n",
    "    ['diane', 'benoit', 'carl']\n",
    "    >>> list(ext.values())\n",
    "    [167, 412, 671]\n",
    "    >>> list(ext.items())\n",
    "    [('diane', 167), ('benoit', 412), ('carl', 671)]"
   ]
  },
  {
   "cell_type": "markdown",
   "metadata": {},
   "source": [
    "## <span class=\"header-section-number\">1.7</span> `defaultdict`\n",
    "\n",
    "A `defaultdict` s a dictionary that inserts a default value when the key requested by the `[]` operator does not exist."
   ]
  },
  {
   "cell_type": "code",
   "execution_count": 74,
   "metadata": {},
   "outputs": [
    {
     "data": {
      "text/plain": [
       "[1]"
      ]
     },
     "execution_count": 74,
     "metadata": {},
     "output_type": "execute_result"
    }
   ],
   "source": [
    "    >>> import collections\n",
    "    >>> d = collections.defaultdict(list)\n",
    "    >>> d['a']\n",
    "    []\n",
    "    >>> d['b'].append(1)\n",
    "    >>> d['b']"
   ]
  },
  {
   "cell_type": "markdown",
   "metadata": {},
   "source": [
    "<div id=\"__ex_4\" class=\"panel panel-default\">\n",
    "\n",
    "<div class=\"panel-heading\">\n",
    "\n",
    "### Exercise 4\n",
    "\n",
    "</div>\n",
    "\n",
    "<div class=\"panel-body\">\n",
    "\n",
    "Write the function count_letters which takes as a parameter a string of characters and which returns a dictionary such that for each pair the key is a letter and the value is its number of occurrences in the string.\n",
    "\n",
    "\n",
    "Example of use:\n",
    "\n",
    "    >>> compter_lettres('mississippi')\n",
    "    {'s': 4, 'm': 1, 'i': 4, 'p': 2}\n",
    "\n",
    "</div>\n",
    "\n",
    "</div>\n",
    "\n",
    "<div class=\"panel panel-default\">\n",
    "\n",
    "<div class=\"panel-heading\">\n",
    "\n",
    "### Solution 4\n",
    "\n",
    "</div>\n",
    "\n"
   ]
  },
  {
   "cell_type": "code",
   "execution_count": 78,
   "metadata": {},
   "outputs": [],
   "source": [
    "    import collections\n",
    "\n",
    "    def compter_lettres(mot):\n",
    "        resultat = collections.defaultdict(int)\n",
    "\n",
    "        for lettre in mot:\n",
    "            resultat[lettre] += 1\n",
    "\n",
    "        return resultat"
   ]
  },
  {
   "cell_type": "markdown",
   "metadata": {},
   "source": [
    "</div>\n",
    "\n",
    "</div>\n",
    "\n",
    "</div>\n",
    "\n",
    "<div id=\"__ex_5\" class=\"panel panel-default\">\n",
    "\n",
    "<div class=\"panel-heading\">\n",
    "\n",
    "### Exercise 5\n",
    "\n",
    "</div>\n",
    "\n",
    "<div class=\"panel-body\">\n",
    "\n",
    "Write the function `sort_letters` which takes as parameter a dictionary returned by the function `count_letters` and which returns a list of the letters sorted by their number of occurrences in descending order.\n",
    "\n",
    "Use the global sorted function .\n",
    "\n",
    "Example of uses:"
   ]
  },
  {
   "cell_type": "code",
   "execution_count": 86,
   "metadata": {},
   "outputs": [
    {
     "data": {
      "text/plain": [
       "['i', 's', 'p', 'm']"
      ]
     },
     "execution_count": 86,
     "metadata": {},
     "output_type": "execute_result"
    }
   ],
   "source": [
    "trier_lettres({'i': 4, 'p': 2, 's': 4, 'm': 1})"
   ]
  },
  {
   "cell_type": "markdown",
   "metadata": {},
   "source": [
    "</div>\n",
    "\n",
    "</div>\n",
    "\n",
    "<div class=\"panel panel-default\">\n",
    "\n",
    "<div class=\"panel-heading\">\n",
    "\n",
    "### Solution 5\n",
    "\n",
    "</div>\n"
   ]
  },
  {
   "cell_type": "code",
   "execution_count": 88,
   "metadata": {},
   "outputs": [],
   "source": [
    "    def get_second(item):\n",
    "        return item[1]\n",
    "\n",
    "    def trier_lettres(occurrences):\n",
    "        paires = occurrences.items()\n",
    "        paires_triees = sorted(paires, key=get_second, reverse=True)\n",
    "        return [lettre for lettre, occurrence in paires_triees]"
   ]
  },
  {
   "cell_type": "markdown",
   "metadata": {},
   "source": [
    "\n",
    "Using\n",
    "`operator.itemgetter(1)`:"
   ]
  },
  {
   "cell_type": "code",
   "execution_count": 90,
   "metadata": {},
   "outputs": [],
   "source": [
    "    import operator\n",
    "\n",
    "    def trier_lettres(occurrences):\n",
    "        paires = occurrences.items()\n",
    "        paires_triees = sorted(paires, key=operator.itemgetter(1), reverse=True)\n",
    "        return [lettre for lettre, occurrence in paires_triees]"
   ]
  }
 ],
 "metadata": {
  "kernelspec": {
   "display_name": "Python 3",
   "language": "python",
   "name": "python3"
  },
  "language_info": {
   "codemirror_mode": {
    "name": "ipython",
    "version": 3
   },
   "file_extension": ".py",
   "mimetype": "text/x-python",
   "name": "python",
   "nbconvert_exporter": "python",
   "pygments_lexer": "ipython3",
   "version": "3.6.9"
  }
 },
 "nbformat": 4,
 "nbformat_minor": 4
}
