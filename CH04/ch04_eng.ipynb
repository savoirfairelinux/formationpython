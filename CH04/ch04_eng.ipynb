{
 "cells": [
  {
   "cell_type": "markdown",
   "metadata": {},
   "source": [
    "<div class=\"container\">\n",
    "\n",
    "<nav id=\"TOC\">\n",
    "\n",
    "*   <span class=\"toc-section-number\">1</span> Modules and _packages_\n",
    "    *   <span class=\"toc-section-number\">1.1</span> _Packages_\n",
    "\n",
    "</nav>\n",
    "\n",
    "# <span class=\"header-section-number\">1</span> Modules and _packages_\n",
    "\n",
    "A module is a `.py` file.\n",
    "\n",
    "Let's define a module `calculs.py`:"
   ]
  },
  {
   "cell_type": "code",
   "execution_count": 1,
   "metadata": {},
   "outputs": [
    {
     "name": "stdout",
     "output_type": "stream",
     "text": [
      "Overwriting calculs.py\n"
     ]
    }
   ],
   "source": [
    "%%writefile calculs.py \n",
    "def calculer_taxes(montant, taux_tps=0.05, taux_tvq=0.09975):\n",
    "    tps = montant * taux_tps\n",
    "    tvq = montant * taux_tvq\n",
    "    return tps + tvq"
   ]
  },
  {
   "cell_type": "markdown",
   "metadata": {},
   "source": [
    "Let's use the module from another module`pos.py`:"
   ]
  },
  {
   "cell_type": "code",
   "execution_count": 3,
   "metadata": {},
   "outputs": [
    {
     "name": "stdout",
     "output_type": "stream",
     "text": [
      "Overwriting pos.py\n"
     ]
    }
   ],
   "source": [
    "%%writefile pos.py \n",
    "\n",
    "from calculs import calculer_taxes as ct\n",
    "import calculs\n",
    "from calculs import calculer_taxes\n",
    "\n",
    "print(\"Taxes =\", calculer_taxes(9.95))"
   ]
  },
  {
   "cell_type": "code",
   "execution_count": 4,
   "metadata": {},
   "outputs": [
    {
     "name": "stdout",
     "output_type": "stream",
     "text": [
      "Taxes = 1.4900125\n"
     ]
    }
   ],
   "source": [
    "!python pos.py"
   ]
  },
  {
   "cell_type": "markdown",
   "metadata": {},
   "source": [
    " `from ... import` allows to directly import objects into the namespace (_namespace_):"
   ]
  },
  {
   "cell_type": "code",
   "execution_count": 7,
   "metadata": {},
   "outputs": [
    {
     "name": "stdout",
     "output_type": "stream",
     "text": [
      "Execute main\n"
     ]
    }
   ],
   "source": [
    "!python pos.py"
   ]
  },
  {
   "cell_type": "markdown",
   "metadata": {},
   "source": [
    "When importing a module, all its code is executed by default. Block code can only be executed if the module is invoked as a script:\n",
    "\n",
    "    def main():\n",
    "    ...\n",
    "\n",
    "    if __name__ == '__main__':\n",
    "        main()\n",
    "\n",
    "For example, when we execute `http.server`, it runs a web server\n",
    ". See: `/usr/lib/python3.4/http`.\n",
    "\n",
    "## <span class=\"header-section-number\">1.1</span> _Packages_\n",
    "\n",
    "\n",
    "A package is a directory of several modules(fichiers `.py`) and the file `__init__.py`. When importing a _package_, this file is executed.\n",
    "\n",
    "Example of a _package_ `report`:\n",
    "\n",
    "    reports/\n",
    "    |-- html.py\n",
    "    |-- __init__.py\n",
    "    |-- text.py\n",
    "    |-- xml.py\n",
    "\n",
    " `__init__.py` could look like this:\n",
    "\n",
    "    import html\n",
    "    import json\n",
    "    import text\n",
    "    import xml\n",
    "\n",
    "    def print_report(report, format='text'):\n",
    "        if format == 'html':\n",
    "            html.print_report(report)\n",
    "        elif format == 'text':\n",
    "            text.print_report(report)\n",
    "        elif format == 'xml':\n",
    "            xml.print_report(report)\n",
    "\n",
    "An user of _package_ `reports` can imported as a module:\n",
    "\n",
    "    from reports import print_report\n",
    "\n",
    "    report = ...\n",
    "\n",
    "    print_report(report, format='xml')\n",
    "\n",
    "</div>"
   ]
  },
  {
   "cell_type": "code",
   "execution_count": 29,
   "metadata": {},
   "outputs": [],
   "source": [
    "!python pos.py"
   ]
  },
  {
   "cell_type": "code",
   "execution_count": 34,
   "metadata": {},
   "outputs": [
    {
     "ename": "SyntaxError",
     "evalue": "invalid syntax (<ipython-input-34-7100beb3a9d1>, line 1)",
     "output_type": "error",
     "traceback": [
      "\u001b[0;36m  File \u001b[0;32m\"<ipython-input-34-7100beb3a9d1>\"\u001b[0;36m, line \u001b[0;32m1\u001b[0m\n\u001b[0;31m    import .my_package\u001b[0m\n\u001b[0m           ^\u001b[0m\n\u001b[0;31mSyntaxError\u001b[0m\u001b[0;31m:\u001b[0m invalid syntax\n"
     ]
    }
   ],
   "source": [
    "import .my_package"
   ]
  },
  {
   "cell_type": "code",
   "execution_count": 31,
   "metadata": {},
   "outputs": [],
   "source": [
    "object_my_module = my_package.my_module.MyModule()"
   ]
  },
  {
   "cell_type": "code",
   "execution_count": null,
   "metadata": {},
   "outputs": [],
   "source": []
  }
 ],
 "metadata": {
  "kernelspec": {
   "display_name": "Python 3",
   "language": "python",
   "name": "python3"
  },
  "language_info": {
   "codemirror_mode": {
    "name": "ipython",
    "version": 3
   },
   "file_extension": ".py",
   "mimetype": "text/x-python",
   "name": "python",
   "nbconvert_exporter": "python",
   "pygments_lexer": "ipython3",
   "version": "3.7.3"
  }
 },
 "nbformat": 4,
 "nbformat_minor": 4
}
