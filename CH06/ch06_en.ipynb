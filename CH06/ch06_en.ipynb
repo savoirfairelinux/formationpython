{
 "cells": [
  {
   "cell_type": "markdown",
   "metadata": {},
   "source": [
    "<div class=\"container\">\n",
    "\n",
    "<nav id=\"TOC\">\n",
    "\n",
    "*   [<span class=\"toc-section-number\">1</span> Exceptions](#exceptions)\n",
    "    *   [<span class=\"toc-section-number\">1.1</span> Raise et define exceptions](#lancer-et-définir-des-exceptions)\n",
    "\n",
    "</nav>\n",
    "\n",
    "# <span class=\"header-section-number\">1</span> Exceptions\n",
    "\n",
    "General syntax of an exception:\n",
    "\n",
    "try:\n",
    "    try_suite\n",
    "except exception1 as var1:\n",
    "    exception1_suite\n",
    "...\n",
    "except exceptionN as varN:\n",
    "    exceptionN_suite\n",
    "else:\n",
    "    else_suite\n",
    "finally:\n",
    "    finally_suite\n",
    "\n",
    "\n",
    "The block `else` is executed if there is an exception in block `try`.\n",
    "\n",
    "The block `finally` is always executed. It is executed last.\n",
    "\n",
    "There must be at least an `except` block(only if there is a `finally` block). Block `else` and `finally` are optional.\n",
    "\n",
    "Any exception should derive from `BaseException`.\n",
    "\n",
    "Hierarchy of exceptions: [https://docs.python.org/3/library/exceptions.html#exception-hierarchy](https://docs.python.org/3/library/exceptions.html#exception-hierarchy)\n",
    "\n",
    "`except` blocks order is important. You must order them from the most specific to the most general. Example:\n",
    "\n",
    "    BaseException\n",
    "     +-- Exception\n",
    "          +-- LookupError\n",
    "               +-- KeyError\n",
    "\n",
    "`LookupError` hides exception `KeyError`."
   ]
  },
  {
   "cell_type": "code",
   "execution_count": 1,
   "metadata": {},
   "outputs": [
    {
     "name": "stdout",
     "output_type": "stream",
     "text": [
      "LookupError\n"
     ]
    }
   ],
   "source": [
    "d = {'a': 1}\n",
    "\n",
    "try:\n",
    "    x = d['b']\n",
    "except LookupError:\n",
    "    print('LookupError')\n",
    "except KeyError:\n",
    "    print('KeyError')"
   ]
  },
  {
   "cell_type": "markdown",
   "metadata": {},
   "source": [
    "Better:"
   ]
  },
  {
   "cell_type": "code",
   "execution_count": 2,
   "metadata": {},
   "outputs": [
    {
     "name": "stdout",
     "output_type": "stream",
     "text": [
      "KeyError\n"
     ]
    }
   ],
   "source": [
    "d = {'a': 1}\n",
    "\n",
    "try:\n",
    "    x = d['b']\n",
    "except KeyError:\n",
    "    print('KeyError')\n",
    "except LookupError:\n",
    "    print('LookupError')"
   ]
  },
  {
   "cell_type": "markdown",
   "metadata": {},
   "source": [
    "## <span class=\"header-section-number\">1.1</span> Start and define exceptions\n",
    "\n",
    "Use `raise` to trough an exception:"
   ]
  },
  {
   "cell_type": "code",
   "execution_count": 4,
   "metadata": {},
   "outputs": [
    {
     "name": "stdout",
     "output_type": "stream",
     "text": [
      "('arg1', 'arg2')\n"
     ]
    }
   ],
   "source": [
    "try:\n",
    "    raise Exception('arg1', 'arg2')\n",
    "except Exception as exc:\n",
    "    print(exc)"
   ]
  },
  {
   "cell_type": "markdown",
   "metadata": {},
   "source": [
    "Define an exception:"
   ]
  },
  {
   "cell_type": "code",
   "execution_count": 5,
   "metadata": {},
   "outputs": [],
   "source": [
    "class ExceptionMinimale(Exception):\n",
    "    pass"
   ]
  },
  {
   "cell_type": "code",
   "execution_count": 6,
   "metadata": {},
   "outputs": [
    {
     "ename": "ExceptionMinimale",
     "evalue": "",
     "output_type": "error",
     "traceback": [
      "\u001b[0;31m---------------------------------------------------------------------------\u001b[0m",
      "\u001b[0;31mExceptionMinimale\u001b[0m                         Traceback (most recent call last)",
      "\u001b[0;32m<ipython-input-6-9f5b777d1e54>\u001b[0m in \u001b[0;36m<module>\u001b[0;34m\u001b[0m\n\u001b[0;32m----> 1\u001b[0;31m \u001b[0;32mraise\u001b[0m \u001b[0mExceptionMinimale\u001b[0m\u001b[0;34m(\u001b[0m\u001b[0;34m)\u001b[0m\u001b[0;34m\u001b[0m\u001b[0;34m\u001b[0m\u001b[0m\n\u001b[0m",
      "\u001b[0;31mExceptionMinimale\u001b[0m: "
     ]
    }
   ],
   "source": [
    ">>> raise ExceptionMinimale()"
   ]
  },
  {
   "cell_type": "raw",
   "metadata": {},
   "source": [
    "Traceback (most recent call last):\n",
    "  File \"<stdin>\", line 1, in <module>\n",
    "__main__.ExceptionMinimale"
   ]
  },
  {
   "cell_type": "code",
   "execution_count": 8,
   "metadata": {},
   "outputs": [
    {
     "name": "stdout",
     "output_type": "stream",
     "text": [
      "Value: 8\n"
     ]
    }
   ],
   "source": [
    "class MyError(Exception):\n",
    "    def __init__(self, value):\n",
    "        self.value = value\n",
    "\n",
    "    def __str__(self):\n",
    "        return repr(self.value)\n",
    "\n",
    "try:\n",
    "    raise MyError(2 ** 3)\n",
    "except MyError as exc:\n",
    "    print(\"Value:\", exc.value)\n"
   ]
  },
  {
   "cell_type": "markdown",
   "metadata": {},
   "source": [
    "<div id=\"__ex_1\" class=\"panel panel-default\">\n",
    "\n",
    "<div class=\"panel-heading\">\n",
    "\n",
    "### Exercice 1\n",
    "\n",
    "</div>\n",
    "\n",
    "<div class=\"panel-body\">\n",
    "\n",
    "What does the following program displays?"
   ]
  },
  {
   "cell_type": "code",
   "execution_count": 9,
   "metadata": {},
   "outputs": [
    {
     "name": "stdout",
     "output_type": "stream",
     "text": [
      "a\n",
      "c\n",
      "d\n"
     ]
    }
   ],
   "source": [
    "try:\n",
    "    print('a')\n",
    "except:\n",
    "    print('b')\n",
    "else:\n",
    "    print('c')\n",
    "finally:\n",
    "    print('d')"
   ]
  },
  {
   "cell_type": "markdown",
   "metadata": {},
   "source": [
    "</div>\n",
    "\n",
    "</div>"
   ]
  },
  {
   "cell_type": "markdown",
   "metadata": {},
   "source": [
    "<div class=\"panel panel-default\">\n",
    "\n",
    "<div class=\"panel-heading\">\n",
    "\n",
    "### Solution 1\n",
    "\n",
    "</div>\n",
    "\n",
    "<div class=\"panel-body\">\n",
    "\n",
    "[Afficher la solution](#)\n",
    "\n",
    "<div class=\"solution\">\n",
    "\n",
    "    a\n",
    "    c\n",
    "    d\n",
    "\n",
    "</div>\n",
    "\n",
    "</div>\n",
    "\n",
    "</div>"
   ]
  },
  {
   "cell_type": "markdown",
   "metadata": {},
   "source": [
    "<div class=\"exercise\">\n",
    "\n",
    "What does the following program displays?"
   ]
  },
  {
   "cell_type": "code",
   "execution_count": 10,
   "metadata": {},
   "outputs": [
    {
     "name": "stdout",
     "output_type": "stream",
     "text": [
      "a\n",
      "b\n",
      "d\n"
     ]
    }
   ],
   "source": [
    "try:\n",
    "    print('a')\n",
    "    raise Exception()\n",
    "except:\n",
    "    print('b')\n",
    "else:\n",
    "    print('c')\n",
    "finally:\n",
    "    print('d')"
   ]
  },
  {
   "cell_type": "markdown",
   "metadata": {},
   "source": [
    " \n",
    "<div class=\"panel panel-default\">\n",
    "\n",
    "<div class=\"panel-heading\">\n",
    "\n",
    "### Solution 1\n",
    "\n",
    "</div>\n",
    "\n",
    "<div class=\"panel-body\">\n",
    "\n",
    "[Afficher la solution](#)\n",
    "\n",
    "<div class=\"solution\">\n",
    "\n",
    "    a\n",
    "    b\n",
    "    d\n",
    "\n",
    "</div>\n",
    "\n",
    "</div>\n",
    "\n",
    "</div>\n",
    "\n",
    "</div>\n",
    "\n",
    "<script type=\"text/javascript\">$(function() { $(\".solution\").css(\"visibility\", \"hidden\"); $(\".btn-solution\").click(function(e) { e.preventDefault(); $(this).parent().next(\".solution\").css('visibility', 'visible'); }); });</script></div>"
   ]
  },
  {
   "cell_type": "code",
   "execution_count": null,
   "metadata": {},
   "outputs": [],
   "source": []
  }
 ],
 "metadata": {
  "kernelspec": {
   "display_name": "Python 3",
   "language": "python",
   "name": "python3"
  },
  "language_info": {
   "codemirror_mode": {
    "name": "ipython",
    "version": 3
   },
   "file_extension": ".py",
   "mimetype": "text/x-python",
   "name": "python",
   "nbconvert_exporter": "python",
   "pygments_lexer": "ipython3",
   "version": "3.7.3"
  }
 },
 "nbformat": 4,
 "nbformat_minor": 4
}
