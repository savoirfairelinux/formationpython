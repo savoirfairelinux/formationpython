{
 "cells": [
  {
   "cell_type": "markdown",
   "metadata": {},
   "source": [
    "<div class=\"container\">\n",
    "\n",
    "<nav id=\"TOC\">\n",
    "\n",
    "*   [<span class=\"toc-section-number\">1</span> Introduction to Python](#une-introduction-à-python)\n",
    "    *   [<span class=\"toc-section-number\">1.1</span> Few Python characteristics](#quelques-caractéristiques-de-python)\n",
    "    *   [<span class=\"toc-section-number\">1.2</span> Python 2 vs. 3](#python-2-c.-3)\n",
    "    *   [<span class=\"toc-section-number\">1.3</span> PEP 8](#pep-8)\n",
    "    *   [<span class=\"toc-section-number\">1.4</span> Documentation](#documentation)\n",
    "    *   [<span class=\"toc-section-number\">1.5</span> Create and execute a Python program](#créer-et-exécuter-un-programme-en-python)\n",
    "    *   [<span class=\"toc-section-number\">1.6</span> Data Types](#type-de-données)\n",
    "    *   [<span class=\"toc-section-number\">1.7</span> Reference to objects](#référence-des-objets)\n",
    "    *   [<span class=\"toc-section-number\">1.8</span> Collections](#collections)\n",
    "    *   [<span class=\"toc-section-number\">1.9</span> Operators](#opérateurs)\n",
    "    *   [<span class=\"toc-section-number\">1.10</span> Control structures](#structure_de_controles)\n",
    "    *   [<span class=\"toc-section-number\">1.11</span> Exceptions](#exceptions)\n",
    "    *   [<span class=\"toc-section-number\">1.12</span> Arithmetic operators](#opérateurs-arithmétiques)\n",
    "    *   [<span class=\"toc-section-number\">1.13</span> Functions](#fonctions)\n",
    "\n",
    "</nav>\n",
    "\n",
    "# <span class=\"header-section-number\">1</span> Introduction to Python\n",
    "\n",
    "Python combines two important characteristics: simplicity and power.\n",
    "\n",
    "    import sys\n",
    "\n",
    "    filename = sys.argv[1]\n",
    "    count = 0\n",
    "\n",
    "    for line in open(filename):\n",
    "        if line.strip() == 'python':\n",
    "            count += 1\n",
    "\n",
    "    print(\"count = \", count)\n",
    "\n",
    "## <span class=\"header-section-number\">1.1</span> Few Python characteristics\n",
    "\n",
    "*   Created in 1991 by Guido Van Rossum\n",
    "*   Interpreted language (virtual machine)\n",
    "*   Multiparadigm (procedural, object oriented, fonctional)\n",
    "*   Multi-platform\n",
    "*   Included stack: standard library\n",
    "*   Automatic memory management\n",
    "*   Everything is an object\n",
    "*   CPython, Python reference implementation, is a free software\n",
    "*   Python Zen:\n",
    "    *   `import this`\n",
    "    *   `import antigravity`\n",
    "\n",
    "## <span class=\"header-section-number\">1.2</span> Python 2 vs. 3\n",
    "\n",
    "Altough Python has many advantages, it is not perfect.\n",
    "\n",
    "Python 3 was released in 2008\\. This version is not totaly backward compatible with Python 2.\n",
    "\n",
    "Most of the modules are compatible with both versions, but there is code that doesn't work with Python 2 and other only for Python 3.\n",
    "\n",
    "[http://python3wos.appspot.com](http://python3wos.appspot.com) lists modules compatible with Python 3.\n",
    "\n",
    "<div class=\"panel panel-warning\">\n",
    "\n",
    "<div class=\"panel-heading\">\n",
    "\n",
    "### Python 2\n",
    "\n",
    "</div>\n",
    "\n",
    "<div class=\"panel-body\">\n",
    "\n",
    "Python 2 particularities will be displayed in this type of boxes.\n",
    "\n",
    "</div>\n",
    "\n",
    "</div>\n",
    "\n",
    "For a deeper comparison between Python 2 and Python 3, you can read [https://wiki.python.org/moin/Python2orPython3](https://wiki.python.org/moin/Python2orPython3)\n",
    "\n",
    "## <span class=\"header-section-number\">1.3</span> PEP 8\n",
    "\n",
    "Python improvement is done trough [_Python Enhancement Proposals_](https://www.python.org/dev/peps/).\n",
    "\n",
    "Among this enhancement _PEP8 - Style Guide for Python Code_ specifies the style when writing Python code.\n",
    "\n",
    "For instance, PEP8 specifies that variables names and functions should be lowercase and separated with `_`. For example, `my_function` not `MyFunction`.\n",
    "\n",
    "While classes names, should be written in camelCase style, separeted with higher case letters. For example, `MyClass` not `my_class`.\n",
    "\n",
    "## <span class=\"header-section-number\">1.4</span> Documentation\n",
    "\n",
    "Python documentation is available online at [https://docs.python.org/3/index.html](https://docs.python.org/3/index.html)\n",
    "\n",
    "Two sections are particularly interesting:\n",
    "\n",
    "*   Library Reference: [https://docs.python.org/3/library/index.html](https://docs.python.org/3/library/index.html)\n",
    "*   Language Reference: [https://docs.python.org/3/reference/index.html](https://docs.python.org/3/reference/index.html)\n",
    "\n",
    "## <span class=\"header-section-number\">1.5</span> Create and execute a Python program\n",
    "\n",
    "How to install Python in Ubuntu ?\n",
    "\n",
    "How to install a virtual environment ?\n",
    "\n",
    "Virtual Env let you create a virtual environment. Use Anaconda for managing your working environment.\n",
    "\n",
    "Pythons's interpreter can be executed in two modes: interactive or none interactive.\n",
    "\n",
    "The interactive mode (or console mode) starts a command line, wherease the none interactive executes Python code and termine après l’avoir exécuté.\n",
    "\n",
    "### <span class=\"header-section-number\">1.5.1</span> Interactive mode\n",
    "\n",
    "Let's open the Python interpreter in interactive by executing `python3`:\n",
    "\n",
    "    $ python3\n",
    "    Python 3.4.3 (default, Mar 26 2015, 22:03:40)\n",
    "    [GCC 4.9.2] on linux\n",
    "    Type \"help\", \"copyright\", \"credits\" or \"license\" for more information.\n",
    "    >>>\n",
    "\n",
    "<div class=\"panel panel-warning\">\n",
    "\n",
    "<div class=\"panel-heading\">\n",
    "\n",
    "### Python 2\n",
    "\n",
    "</div>\n",
    "\n",
    "<div class=\"panel-body\">\n",
    "\n",
    "The interpreter in called `python`:\n",
    "\n",
    "    $ python\n",
    "\n",
    "</div>\n",
    "\n",
    "</div>\n",
    "\n",
    "The interpreter welcomes us with the Python version (i.e. 3.4.3).\n",
    "\n",
    "It displays the following characters  `>>>`. This means that the interpreter is ready to execute the user's inputs.\n",
    "\n",
    "To send instructions to the interpreter, you need to type and hit ENTER.\n",
    "\n",
    "Let's do basic math addition:"
   ]
  },
  {
   "cell_type": "code",
   "execution_count": null,
   "metadata": {},
   "outputs": [],
   "source": [
    ">>> 3 + 4"
   ]
  },
  {
   "cell_type": "markdown",
   "metadata": {},
   "source": [
    "The result of `3 + 4` is shown under `>>>`.\n",
    "\n",
    "The role of the interpreter in interactive mode is to assess an expressoin inputed by the user, and then display it. Then it restarts again until the user leaves the interpreter, using `CTRL + D`.\n",
    "\n",
    "#### <span class=\"header-section-number\">1.5.1.1</span> Autocompletion\n",
    "\n",
    "In the interpreter in interactive mode, the TAB button allows you to autocomplete the string that comes right before the cursor. When you have multiple choices, you need to tap twice on TAB so that the interpreter displays all the possibilities.\n",
    "\n",
    "<div class=\"panel panel-warning\">\n",
    "\n",
    "<div class=\"panel-heading\">\n",
    "\n",
    "### Python 2\n",
    "\n",
    "</div>\n",
    "\n",
    "<div class=\"panel-body\">\n",
    "\n",
    "Autocompletion is not possible in Python 2\\. We can instead use `ipython`.\n",
    "\n",
    "</div>\n",
    "\n",
    "</div>\n",
    "\n",
    "#### <span class=\"header-section-number\">1.5.1.2</span> Comments\n",
    "\n",
    "The `#` character is used to make comments. A comment ends at the end of a line. Example:"
   ]
  },
  {
   "cell_type": "code",
   "execution_count": null,
   "metadata": {},
   "outputs": [],
   "source": [
    ">>> 3 + 4 # Ce texte est ignoré par Python"
   ]
  },
  {
   "cell_type": "markdown",
   "metadata": {},
   "source": [
    "### <span class=\"header-section-number\">1.5.2</span> Executing a Python script\n",
    "\n",
    "Using a text editor, create a file named `hi.py` and insert the following content:\n",
    "\n",
    "    print('Hello world')\n",
    "\n",
    "<div class=\"panel panel-warning\">\n",
    "\n",
    "<div class=\"panel-heading\">\n",
    "\n",
    "### Python 2\n",
    "\n",
    "</div>\n",
    "\n",
    "<div class=\"panel-body\">\n",
    "\n",
    "`print` is an instruction and not a fonction. You need to remove the parentheses (in Python2):\n",
    "\n",
    "    print 'Hello world'\n",
    "\n",
    "</div>\n",
    "\n",
    "</div>\n",
    "\n",
    "Execute is with the following command:"
   ]
  },
  {
   "cell_type": "code",
   "execution_count": null,
   "metadata": {},
   "outputs": [],
   "source": [
    "!python hi.py"
   ]
  },
  {
   "cell_type": "markdown",
   "metadata": {},
   "source": [
    "## <span class=\"header-section-number\">1.6</span> Data types\n",
    "\n",
    "Python has many data types. In this section we are introducing the integers (`int`) and the strings (`str`). This is an example of integers:"
   ]
  },
  {
   "cell_type": "markdown",
   "metadata": {},
   "source": [
    "    -5\n",
    "    0\n",
    "    50\n",
    "    1606938044258990275541962092341162602522202993782792835301376"
   ]
  },
  {
   "cell_type": "markdown",
   "metadata": {},
   "source": [
    "Size of an integer is limited by the size your computer's memory and not by the processor registers.\n",
    "\n",
    "This is an example of strings:"
   ]
  },
  {
   "cell_type": "markdown",
   "metadata": {},
   "source": [
    "    ''\n",
    "    'Orange'\n",
    "    \"Vert\""
   ]
  },
  {
   "cell_type": "markdown",
   "metadata": {},
   "source": [
    "A string can be marked out with a single cote `'` or double cotes `\"`.\n",
    "\n",
    "### <span class=\"header-section-number\">1.6.1</span> Access a sequence element `[]`\n",
    "\n",
    "Brackets (`[]`) are used to access a sequence element for example in a string. Indexes in Python starts with 0."
   ]
  },
  {
   "cell_type": "code",
   "execution_count": null,
   "metadata": {},
   "outputs": [],
   "source": [
    ">>> 'Orange'[0]"
   ]
  },
  {
   "cell_type": "code",
   "execution_count": null,
   "metadata": {},
   "outputs": [],
   "source": [
    ">>> 'Orange'[3]"
   ]
  },
  {
   "cell_type": "markdown",
   "metadata": {},
   "source": [
    "On peut aussi utliser des indices négatifs:"
   ]
  },
  {
   "cell_type": "code",
   "execution_count": null,
   "metadata": {},
   "outputs": [],
   "source": [
    ">>> 'Orange'[-1]"
   ]
  },
  {
   "cell_type": "code",
   "execution_count": null,
   "metadata": {},
   "outputs": [],
   "source": [
    ">>> 'Orange'[-6]   "
   ]
  },
  {
   "cell_type": "markdown",
   "metadata": {},
   "source": [
    "### <span class=\"header-section-number\">1.6.2</span> Immuability\n",
    "\n",
    "A number and and a stirng are immutable. Therefore we cannot modify them.\n",
    "\n",
    "### <span class=\"header-section-number\">1.6.3</span> Casting\n",
    "\n",
    "For all base types, there is a function that allows us to create an object of that type:"
   ]
  },
  {
   "cell_type": "code",
   "execution_count": null,
   "metadata": {},
   "outputs": [],
   "source": [
    ">>> int('12')"
   ]
  },
  {
   "cell_type": "code",
   "execution_count": null,
   "metadata": {},
   "outputs": [],
   "source": [
    ">>> str(34)"
   ]
  },
  {
   "cell_type": "markdown",
   "metadata": {},
   "source": [
    "The parameter is optional:"
   ]
  },
  {
   "cell_type": "code",
   "execution_count": null,
   "metadata": {},
   "outputs": [],
   "source": [
    ">>> int()"
   ]
  },
  {
   "cell_type": "code",
   "execution_count": null,
   "metadata": {},
   "outputs": [],
   "source": [
    ">>> str()"
   ]
  },
  {
   "cell_type": "markdown",
   "metadata": {},
   "source": [
    "<div class=\"panel panel-primary\">\n",
    "\n",
    "<div class=\"panel-body\">\n",
    "\n",
    "`int` and `str` are global functions provided by Python.\n",
    "\n",
    "This is the complete list: [https://docs.python.org/3/library/functions.html](https://docs.python.org/3/library/functions.html)\n",
    "\n",
    "</div>\n",
    "\n",
    "</div>\n",
    "\n",
    "## <span class=\"header-section-number\">1.7</span> Objects reference\n",
    "\n",
    "A variable in Python is a reference (pointer) to an object. Therefore a variable does not contain a value, but a reference to an object. In other words, a variable is an alias for an object.\n",
    "\n",
    "The syntax to assign an objet to a variable is `<variable> = <value>`.\n",
    "\n",
    "We don't have to either declare the variable or it's type.\n",
    "\n",
    "Let's see an example:"
   ]
  },
  {
   "cell_type": "code",
   "execution_count": null,
   "metadata": {},
   "outputs": [],
   "source": [
    "x = 'blue'"
   ]
  },
  {
   "cell_type": "markdown",
   "metadata": {},
   "source": [
    "When the interpreter executes this line, it create an oject of this type `str` with the value ‘blue’, then it creates a reference  `x` pointing to this object.\n",
    "\n",
    "State:\n",
    "\n",
    "    x ---> 'blue'\n",
    "\n",
    "Then:\n",
    "\n",
    "    y = 'green'\n",
    "\n",
    "This line is similar to the previous one: a second object is created with a new reference to it.\n",
    "\n",
    "State:\n",
    "\n",
    "    x ---> 'blue'\n",
    "\n",
    "    y ---> 'green'\n",
    "\n",
    "Then,\n",
    "\n",
    "    z = x\n",
    "\n",
    "This line create a reference `z` to the object ‘blue’. There is no new object.\n",
    "\n",
    "State:\n",
    "\n",
    "    x ---> 'blue' <--- z\n",
    "\n",
    "    y ---> 'green'\n",
    "\n",
    "Then,\n",
    "\n",
    "    z = y\n",
    "\n",
    "The variable `z` referes to the object ‘green’.\n",
    "\n",
    "State:\n",
    "\n",
    "    x ---> 'blue'\n",
    "\n",
    "    y ---> 'green' <--- z\n",
    "\n",
    "Then,\n",
    "\n",
    "    x = z\n",
    "\n",
    "The variable `x` referes to the object ‘green’.\n",
    "\n",
    "State:\n",
    "\n",
    "           'bleu'\n",
    "\n",
    "    y ---> 'vert' <--- z\n",
    "             ^\n",
    "             |\n",
    "             x\n",
    "\n",
    "The three variables referes now to the object ‘green’. As no variable is refering to the object ‘blue’, Python is free to destroy it. It's the role of th _garbage collector_.\n",
    "\n",
    "### <span class=\"header-section-number\">1.7.1</span> Changing a variable type\n",
    "\n",
    "As a variable is simply a reference to an object, it is then possible to \"change\" the type by refering to object of another type."
   ]
  },
  {
   "cell_type": "code",
   "execution_count": null,
   "metadata": {},
   "outputs": [],
   "source": [
    ">>> route = 40\n",
    ">>> route"
   ]
  },
  {
   "cell_type": "code",
   "execution_count": null,
   "metadata": {},
   "outputs": [],
   "source": [
    ">>> type(route)"
   ]
  },
  {
   "cell_type": "code",
   "execution_count": null,
   "metadata": {},
   "outputs": [],
   "source": [
    ">>> route = \"Est\"\n",
    ">>> route"
   ]
  },
  {
   "cell_type": "code",
   "execution_count": null,
   "metadata": {},
   "outputs": [],
   "source": [
    ">>> type(route)"
   ]
  },
  {
   "cell_type": "markdown",
   "metadata": {},
   "source": [
    "The global function `type` is used to get an object type."
   ]
  },
  {
   "cell_type": "markdown",
   "metadata": {},
   "source": [
    "## <span class=\"header-section-number\">1.8</span> Collections\n",
    "\n",
    "Python provides many collections. In this section, we are introducing `tuple` and `list`.\n",
    "\n",
    "A tuple and a list are oredered elements collection. The main difference between a tuple and a list is that a tuple is immutable wherease a list is mutable.\n",
    "\n",
    "A tuple is create by separating elements with a `,`:"
   ]
  },
  {
   "cell_type": "code",
   "execution_count": 21,
   "metadata": {},
   "outputs": [
    {
     "data": {
      "text/plain": [
       "('red', 'green', 'blue')"
      ]
     },
     "execution_count": 21,
     "metadata": {},
     "output_type": "execute_result"
    }
   ],
   "source": [
    ">>> 'red', 'green', 'blue'"
   ]
  },
  {
   "cell_type": "code",
   "execution_count": 22,
   "metadata": {},
   "outputs": [
    {
     "data": {
      "text/plain": [
       "('one',)"
      ]
     },
     "execution_count": 22,
     "metadata": {},
     "output_type": "execute_result"
    }
   ],
   "source": [
    ">>> 'one',"
   ]
  },
  {
   "cell_type": "markdown",
   "metadata": {},
   "source": [
    "We can also use parentheses:"
   ]
  },
  {
   "cell_type": "code",
   "execution_count": null,
   "metadata": {},
   "outputs": [],
   "source": [
    ">>> ('red', 'green', 'blue')"
   ]
  },
  {
   "cell_type": "code",
   "execution_count": null,
   "metadata": {},
   "outputs": [],
   "source": [
    ">>> ('one',)"
   ]
  },
  {
   "cell_type": "markdown",
   "metadata": {},
   "source": [
    "A list is created using `[]`:"
   ]
  },
  {
   "cell_type": "code",
   "execution_count": 23,
   "metadata": {},
   "outputs": [
    {
     "data": {
      "text/plain": [
       "['red', 'green', 'blue']"
      ]
     },
     "execution_count": 23,
     "metadata": {},
     "output_type": "execute_result"
    }
   ],
   "source": [
    ">>> ['red', 'green', 'blue']"
   ]
  },
  {
   "cell_type": "code",
   "execution_count": null,
   "metadata": {},
   "outputs": [],
   "source": [
    ">>> ['one']"
   ]
  },
  {
   "cell_type": "code",
   "execution_count": null,
   "metadata": {},
   "outputs": [],
   "source": [
    ">>> []"
   ]
  },
  {
   "cell_type": "markdown",
   "metadata": {},
   "source": [
    "A collection does not contain values , but references to the actual data (variables).\n",
    "\n",
    "We can also imbricate the collections:"
   ]
  },
  {
   "cell_type": "code",
   "execution_count": 24,
   "metadata": {},
   "outputs": [
    {
     "data": {
      "text/plain": [
       "[[1, 2, 3], ('a', 'b', 'c')]"
      ]
     },
     "execution_count": 24,
     "metadata": {},
     "output_type": "execute_result"
    }
   ],
   "source": [
    ">>> [[1,2, 3], ('a', 'b', 'c')]"
   ]
  },
  {
   "cell_type": "markdown",
   "metadata": {},
   "source": [
    "The global function `len` return the size of a collection:"
   ]
  },
  {
   "cell_type": "code",
   "execution_count": 25,
   "metadata": {},
   "outputs": [
    {
     "data": {
      "text/plain": [
       "1"
      ]
     },
     "execution_count": 25,
     "metadata": {},
     "output_type": "execute_result"
    }
   ],
   "source": [
    ">>> len(('one',))"
   ]
  },
  {
   "cell_type": "code",
   "execution_count": 26,
   "metadata": {},
   "outputs": [
    {
     "data": {
      "text/plain": [
       "2"
      ]
     },
     "execution_count": 26,
     "metadata": {},
     "output_type": "execute_result"
    }
   ],
   "source": [
    ">>> len([[1,2, 3], ('a', 'b', 'c')])"
   ]
  },
  {
   "cell_type": "code",
   "execution_count": 27,
   "metadata": {},
   "outputs": [
    {
     "data": {
      "text/plain": [
       "6"
      ]
     },
     "execution_count": 27,
     "metadata": {},
     "output_type": "execute_result"
    }
   ],
   "source": [
    ">>> len('Python')"
   ]
  },
  {
   "cell_type": "markdown",
   "metadata": {},
   "source": [
    "All data, like a tuple, a list or a number, is an objet. We can therefore access to it's attributs and methods using `.`. Example:"
   ]
  },
  {
   "cell_type": "code",
   "execution_count": 28,
   "metadata": {},
   "outputs": [
    {
     "data": {
      "text/plain": [
       "[1, 2, 'Python', 'bleu']"
      ]
     },
     "execution_count": 28,
     "metadata": {},
     "output_type": "execute_result"
    }
   ],
   "source": [
    ">>> x = [1, 2, 'Python']\n",
    ">>> x.append('bleu')\n",
    ">>> x"
   ]
  },
  {
   "cell_type": "markdown",
   "metadata": {},
   "source": [
    "We can also use `[]` with a tuple or a list:"
   ]
  },
  {
   "cell_type": "code",
   "execution_count": 29,
   "metadata": {},
   "outputs": [
    {
     "data": {
      "text/plain": [
       "1"
      ]
     },
     "execution_count": 29,
     "metadata": {},
     "output_type": "execute_result"
    }
   ],
   "source": [
    ">>> x = [1, 2, 'Python']\n",
    ">>> x[0]"
   ]
  },
  {
   "cell_type": "code",
   "execution_count": 30,
   "metadata": {},
   "outputs": [
    {
     "data": {
      "text/plain": [
       "'Python'"
      ]
     },
     "execution_count": 30,
     "metadata": {},
     "output_type": "execute_result"
    }
   ],
   "source": [
    ">>> x[2]"
   ]
  },
  {
   "cell_type": "markdown",
   "metadata": {},
   "source": [
    "Since a list is mutable, we can also use `[]` to replace one of it's elements:"
   ]
  },
  {
   "cell_type": "code",
   "execution_count": null,
   "metadata": {},
   "outputs": [],
   "source": [
    ">>> x[1] = 120\n",
    ">>> x"
   ]
  },
  {
   "cell_type": "markdown",
   "metadata": {},
   "source": [
    "## <span class=\"header-section-number\">1.9</span> Operators\n",
    "\n",
    "### <span class=\"header-section-number\">1.9.1</span> Identity\n",
    "\n",
    "As a variable is simple reference to an object, we can compare if two variables are refering to the same object. We than use the `is` operator:"
   ]
  },
  {
   "cell_type": "code",
   "execution_count": 31,
   "metadata": {},
   "outputs": [
    {
     "data": {
      "text/plain": [
       "False"
      ]
     },
     "execution_count": 31,
     "metadata": {},
     "output_type": "execute_result"
    }
   ],
   "source": [
    ">>> a = [1, 2, 3]\n",
    ">>> b = [1, 2, 3]\n",
    ">>> a is b"
   ]
  },
  {
   "cell_type": "code",
   "execution_count": 32,
   "metadata": {},
   "outputs": [
    {
     "data": {
      "text/plain": [
       "True"
      ]
     },
     "execution_count": 32,
     "metadata": {},
     "output_type": "execute_result"
    }
   ],
   "source": [
    ">>> b = a\n",
    ">>> a is b"
   ]
  },
  {
   "cell_type": "markdown",
   "metadata": {},
   "source": [
    "Usually, `is` is used to compare a variable with the object `None`:"
   ]
  },
  {
   "cell_type": "code",
   "execution_count": 33,
   "metadata": {},
   "outputs": [
    {
     "data": {
      "text/plain": [
       "(True, True)"
      ]
     },
     "execution_count": 33,
     "metadata": {},
     "output_type": "execute_result"
    }
   ],
   "source": [
    ">>> a = 'Python'\n",
    ">>> b = None\n",
    ">>> a is not None, b is None"
   ]
  },
  {
   "cell_type": "markdown",
   "metadata": {},
   "source": [
    "### <span class=\"header-section-number\">1.9.2</span> Comparaison\n",
    "\n",
    "Python carries the following comparing operators:\n",
    "\n",
    "<table>\n",
    "\n",
    "<thead>\n",
    "\n",
    "<tr class=\"header\">\n",
    "\n",
    "<th align=\"left\">Operator</th>\n",
    "\n",
    "<th align=\"left\">Signification</th>\n",
    "\n",
    "</tr>\n",
    "\n",
    "</thead>\n",
    "\n",
    "<tbody>\n",
    "\n",
    "<tr class=\"odd\">\n",
    "\n",
    "<td align=\"left\">`<`</td>\n",
    "\n",
    "<td align=\"left\">smaller then</td>\n",
    "\n",
    "</tr>\n",
    "\n",
    "<tr class=\"even\">\n",
    "\n",
    "<td align=\"left\">`<=`</td>\n",
    "\n",
    "<td align=\"left\">smaller or equal</td>\n",
    "\n",
    "</tr>\n",
    "\n",
    "<tr class=\"odd\">\n",
    "\n",
    "<td align=\"left\">`>`</td>\n",
    "\n",
    "<td align=\"left\">bigger then</td>\n",
    "\n",
    "</tr>\n",
    "\n",
    "<tr class=\"even\">\n",
    "\n",
    "<td align=\"left\">`>=`</td>\n",
    "\n",
    "<td align=\"left\">bigger or equal</td>\n",
    "\n",
    "</tr>\n",
    "\n",
    "<tr class=\"odd\">\n",
    "\n",
    "<td align=\"left\">`==`</td>\n",
    "\n",
    "<td align=\"left\">equal</td>\n",
    "\n",
    "</tr>\n",
    "\n",
    "<tr class=\"even\">\n",
    "\n",
    "<td align=\"left\">`!=`</td>\n",
    "\n",
    "<td align=\"left\">different</td>\n",
    "\n",
    "</tr>\n",
    "\n",
    "</tbody>\n",
    "\n",
    "</table>"
   ]
  },
  {
   "cell_type": "markdown",
   "metadata": {},
   "source": [
    "This operators compare objects.\n",
    "\n",
    "Examples with integers:"
   ]
  },
  {
   "cell_type": "code",
   "execution_count": 34,
   "metadata": {},
   "outputs": [
    {
     "data": {
      "text/plain": [
       "False"
      ]
     },
     "execution_count": 34,
     "metadata": {},
     "output_type": "execute_result"
    }
   ],
   "source": [
    ">>> a = 2\n",
    ">>> b = 6\n",
    ">>> a == b"
   ]
  },
  {
   "cell_type": "code",
   "execution_count": 35,
   "metadata": {},
   "outputs": [
    {
     "data": {
      "text/plain": [
       "True"
      ]
     },
     "execution_count": 35,
     "metadata": {},
     "output_type": "execute_result"
    }
   ],
   "source": [
    ">>> a < b"
   ]
  },
  {
   "cell_type": "code",
   "execution_count": 36,
   "metadata": {},
   "outputs": [
    {
     "data": {
      "text/plain": [
       "(True, True, False, False)"
      ]
     },
     "execution_count": 36,
     "metadata": {},
     "output_type": "execute_result"
    }
   ],
   "source": [
    ">>> a <= b, a != b, a >= b, a > b"
   ]
  },
  {
   "cell_type": "markdown",
   "metadata": {},
   "source": [
    "Examples of strings:"
   ]
  },
  {
   "cell_type": "code",
   "execution_count": 37,
   "metadata": {},
   "outputs": [
    {
     "data": {
      "text/plain": [
       "True"
      ]
     },
     "execution_count": 37,
     "metadata": {},
     "output_type": "execute_result"
    }
   ],
   "source": [
    ">>> a = 'Python'\n",
    ">>> b = 'python'\n",
    ">>> a != b"
   ]
  },
  {
   "cell_type": "code",
   "execution_count": 38,
   "metadata": {},
   "outputs": [
    {
     "data": {
      "text/plain": [
       "True"
      ]
     },
     "execution_count": 38,
     "metadata": {},
     "output_type": "execute_result"
    }
   ],
   "source": [
    ">>> a < b"
   ]
  },
  {
   "cell_type": "code",
   "execution_count": 39,
   "metadata": {},
   "outputs": [
    {
     "data": {
      "text/plain": [
       "False"
      ]
     },
     "execution_count": 39,
     "metadata": {},
     "output_type": "execute_result"
    }
   ],
   "source": [
    ">>> a > b"
   ]
  },
  {
   "cell_type": "markdown",
   "metadata": {},
   "source": [
    "### <span class=\"header-section-number\">1.9.3</span> Belonging\n",
    "\n",
    "We can check if an element exists in a collection with the operator `in`:"
   ]
  },
  {
   "cell_type": "code",
   "execution_count": 40,
   "metadata": {},
   "outputs": [
    {
     "data": {
      "text/plain": [
       "True"
      ]
     },
     "execution_count": 40,
     "metadata": {},
     "output_type": "execute_result"
    }
   ],
   "source": [
    ">>> a = (4, 'Python', 2, 4)\n",
    ">>> 2 in a"
   ]
  },
  {
   "cell_type": "code",
   "execution_count": 41,
   "metadata": {},
   "outputs": [
    {
     "data": {
      "text/plain": [
       "True"
      ]
     },
     "execution_count": 41,
     "metadata": {},
     "output_type": "execute_result"
    }
   ],
   "source": [
    ">>> 'bleu' not in a"
   ]
  },
  {
   "cell_type": "markdown",
   "metadata": {},
   "source": [
    "With a string:"
   ]
  },
  {
   "cell_type": "code",
   "execution_count": 42,
   "metadata": {},
   "outputs": [
    {
     "data": {
      "text/plain": [
       "True"
      ]
     },
     "execution_count": 42,
     "metadata": {},
     "output_type": "execute_result"
    }
   ],
   "source": [
    ">>> phrase = 'Python est un langage de programmation'\n",
    ">>> 'o' in phrase"
   ]
  },
  {
   "cell_type": "code",
   "execution_count": 43,
   "metadata": {},
   "outputs": [
    {
     "data": {
      "text/plain": [
       "True"
      ]
     },
     "execution_count": 43,
     "metadata": {},
     "output_type": "execute_result"
    }
   ],
   "source": [
    ">>> 'est' in phrase"
   ]
  },
  {
   "cell_type": "markdown",
   "metadata": {},
   "source": [
    "### <span class=\"header-section-number\">1.9.4</span> Logique\n",
    "\n",
    "There are three logical operators. Going by priority: `not`, `and` and `or`."
   ]
  },
  {
   "cell_type": "code",
   "execution_count": null,
   "metadata": {},
   "outputs": [],
   "source": [
    ">>> not True"
   ]
  },
  {
   "cell_type": "code",
   "execution_count": 44,
   "metadata": {},
   "outputs": [
    {
     "data": {
      "text/plain": [
       "False"
      ]
     },
     "execution_count": 44,
     "metadata": {},
     "output_type": "execute_result"
    }
   ],
   "source": [
    ">>> True and False"
   ]
  },
  {
   "cell_type": "code",
   "execution_count": 45,
   "metadata": {},
   "outputs": [
    {
     "data": {
      "text/plain": [
       "True"
      ]
     },
     "execution_count": 45,
     "metadata": {},
     "output_type": "execute_result"
    }
   ],
   "source": [
    ">>> True or False"
   ]
  },
  {
   "cell_type": "markdown",
   "metadata": {},
   "source": [
    "The bolean variables assessment is short-cut type. Example:\n",
    "\n",
    "*   `False and x`: the expression `x` is not assessed as `False and x` is certainy false wathever is  `x`'s value.\n",
    "\n",
    "*   `True or x`: the expression `x` is not assessed as `True or x` is certainy true wathever is `x`'s value.\n",
    "\n",
    "Moreover, operators `and` and `or` does not specificly return a boolean. They return the operand that determined the result:"
   ]
  },
  {
   "cell_type": "code",
   "execution_count": 46,
   "metadata": {},
   "outputs": [
    {
     "data": {
      "text/plain": [
       "2"
      ]
     },
     "execution_count": 46,
     "metadata": {},
     "output_type": "execute_result"
    }
   ],
   "source": [
    ">>> five = 5\n",
    ">>> two = 2\n",
    ">>> zero = 0\n",
    ">>> five and two"
   ]
  },
  {
   "cell_type": "code",
   "execution_count": 47,
   "metadata": {},
   "outputs": [
    {
     "data": {
      "text/plain": [
       "5"
      ]
     },
     "execution_count": 47,
     "metadata": {},
     "output_type": "execute_result"
    }
   ],
   "source": [
    ">>> two and five"
   ]
  },
  {
   "cell_type": "code",
   "execution_count": 49,
   "metadata": {},
   "outputs": [
    {
     "data": {
      "text/plain": [
       "0"
      ]
     },
     "execution_count": 49,
     "metadata": {},
     "output_type": "execute_result"
    }
   ],
   "source": [
    ">>> five and zero"
   ]
  },
  {
   "cell_type": "code",
   "execution_count": 48,
   "metadata": {},
   "outputs": [
    {
     "data": {
      "text/plain": [
       "5"
      ]
     },
     "execution_count": 48,
     "metadata": {},
     "output_type": "execute_result"
    }
   ],
   "source": [
    ">>> zero or five"
   ]
  },
  {
   "cell_type": "markdown",
   "metadata": {},
   "source": [
    "## <span class=\"header-section-number\">1.10</span> Control structurs\n",
    "\n",
    "A boolean operatoin is any expression taht produces a `True` or `False`. Each data type can be converted into a boolean.\n",
    "\n",
    "The `False` constant, the `None` object, the `0` number and an empty collection are evaluated as a `False`, wherease all the rest is `True`.\n",
    "\n",
    "This is very usefull in control structurs like `if` and `while`."
   ]
  },
  {
   "cell_type": "markdown",
   "metadata": {},
   "source": [
    "We can also convert an expression as a bool with function `bool`:"
   ]
  },
  {
   "cell_type": "code",
   "execution_count": null,
   "metadata": {},
   "outputs": [],
   "source": [
    ">>> bool(None)"
   ]
  },
  {
   "cell_type": "code",
   "execution_count": null,
   "metadata": {},
   "outputs": [],
   "source": [
    ">>> bool(0)"
   ]
  },
  {
   "cell_type": "code",
   "execution_count": null,
   "metadata": {},
   "outputs": [],
   "source": [
    ">>> bool(14)"
   ]
  },
  {
   "cell_type": "code",
   "execution_count": null,
   "metadata": {},
   "outputs": [],
   "source": [
    ">>> bool('')"
   ]
  },
  {
   "cell_type": "code",
   "execution_count": null,
   "metadata": {},
   "outputs": [],
   "source": [
    ">>> bool('Python')"
   ]
  },
  {
   "cell_type": "code",
   "execution_count": null,
   "metadata": {},
   "outputs": [],
   "source": [
    ">>> bool([])"
   ]
  },
  {
   "cell_type": "code",
   "execution_count": null,
   "metadata": {},
   "outputs": [],
   "source": [
    ">>> bool([0])"
   ]
  },
  {
   "cell_type": "markdown",
   "metadata": {},
   "source": [
    "### <span class=\"header-section-number\">1.10.1</span> `if`\n",
    "\n",
    "The syntax of an `if` statement is:"
   ]
  },
  {
   "cell_type": "markdown",
   "metadata": {},
   "source": [
    "    if <expr1>:\n",
    "        <suite1>\n",
    "    elif <expr2>:\n",
    "        <suite2>\n",
    "    ...\n",
    "    elif <exprN>:\n",
    "        <suiteN>\n",
    "    else:\n",
    "        <suite_else>"
   ]
  },
  {
   "cell_type": "markdown",
   "metadata": {},
   "source": [
    "A _suite_ is a block of code, one or many instructions.\n",
    "\n",
    "They can be zero or many `elif` and the `else` is optional.\n",
    "\n",
    "There are no braces in Python that mark out a block of code. It is only indentation. It's recommended to use 4 spaces (and not tabs)."
   ]
  },
  {
   "cell_type": "code",
   "execution_count": 55,
   "metadata": {},
   "outputs": [
    {
     "name": "stdin",
     "output_type": "stream",
     "text": [
      " 1\n"
     ]
    }
   ],
   "source": [
    "number = int(input())"
   ]
  },
  {
   "cell_type": "code",
   "execution_count": 56,
   "metadata": {},
   "outputs": [
    {
     "name": "stdout",
     "output_type": "stream",
     "text": [
      "number is smaller then 10.\n"
     ]
    }
   ],
   "source": [
    "if number > 10:\n",
    "    print(\"number is greater then 10.\")\n",
    "elif number < 10:\n",
    "    print(\"number is smaller then 10.\")\n",
    "else:\n",
    "    print(\"number is equal to 10.\")"
   ]
  },
  {
   "cell_type": "markdown",
   "metadata": {},
   "source": [
    "Since _suite_ must have at least one instruction, it is possible to have an instruction that does nothing but to have valide syntax. This instruction is `pass`:"
   ]
  },
  {
   "cell_type": "code",
   "execution_count": 58,
   "metadata": {},
   "outputs": [],
   "source": [
    "x = 3"
   ]
  },
  {
   "cell_type": "code",
   "execution_count": 59,
   "metadata": {},
   "outputs": [
    {
     "name": "stdout",
     "output_type": "stream",
     "text": [
      "3\n"
     ]
    }
   ],
   "source": [
    "if x == 2:\n",
    "    pass\n",
    "else:\n",
    "    print(x)"
   ]
  },
  {
   "cell_type": "markdown",
   "metadata": {},
   "source": [
    "<div id=\"__ex_1\" class=\"panel panel-default\">\n",
    "\n",
    "<div class=\"panel-heading\">\n",
    "\n",
    "### Exercise 1\n",
    "\n",
    "</div>\n",
    "\n",
    "<div class=\"panel-body\">\n",
    "\n",
    "Write a program that calculates and print the final grad of a class like in the example:\n",
    "\n",
    "*   ‘A’ if the grade is bewtween 90 and 100\n",
    "*   ‘B’ if the grade is bewtween 80 and 89\n",
    "*   ‘C’ if the grade is bewtween 70 and 79\n",
    "*   ‘D’ if the grade is bewtween 60 and 69\n",
    "*   ‘F’ if the grade is smaller then 60\n",
    "\n",
    "</div>\n",
    "\n",
    "</div>\n",
    "\n",
    "<div class=\"panel panel-default\">\n",
    "\n",
    "<div class=\"panel-heading\">\n",
    "\n",
    "### Solution 1\n",
    "\n",
    "</div>\n",
    "\n",
    "<div class=\"panel-body\">\n",
    "\n",
    "[Display the answer](#)"
   ]
  },
  {
   "cell_type": "markdown",
   "metadata": {},
   "source": [
    "<div class=\"solution\">"
   ]
  },
  {
   "cell_type": "code",
   "execution_count": 62,
   "metadata": {},
   "outputs": [
    {
     "name": "stdin",
     "output_type": "stream",
     "text": [
      "Enter your grade 90\n"
     ]
    },
    {
     "name": "stdout",
     "output_type": "stream",
     "text": [
      "A\n"
     ]
    }
   ],
   "source": [
    "grade = int(input('Enter your grade'))\n",
    "\n",
    "if grade >= 90:\n",
    "    characterMark = 'A'\n",
    "elif grade >= 80:\n",
    "    characterMark = 'B'\n",
    "elif grade >= 70:\n",
    "    characterMark = 'C'\n",
    "elif grade >= 60:\n",
    "    characterMark = 'D'\n",
    "else:\n",
    "    characterMark = 'F'\n",
    "\n",
    "print(characterMark)"
   ]
  },
  {
   "cell_type": "markdown",
   "metadata": {},
   "source": [
    "</div>\n",
    "\n",
    "</div>\n",
    "\n",
    "</div>"
   ]
  },
  {
   "cell_type": "markdown",
   "metadata": {},
   "source": [
    "### <span class=\"header-section-number\">1.10.2</span> `while`\n",
    "\n",
    "The `while` instruction syntax:\n",
    "\n",
    "    while <expr>:\n",
    "        <suite>\n",
    "\n",
    "`while` supports instructions `break` and `continue`. For example:\n",
    "\n",
    "    while True:\n",
    "       item = get_next_item()\n",
    "       if not item:\n",
    "           break # Sort de la boucle\n",
    "       process_item(item)\n",
    "\n",
    "### <span class=\"header-section-number\">1.10.3</span> `for`\n",
    "\n",
    "The `for` instruction syntax:\n",
    "\n",
    "    for <variable> in <iterable>:\n",
    "        <suite>\n",
    "\n",
    "An iterable object is able to return each of it's elements one at the time. Generally it's colletions such as tuples, lists and strings."
   ]
  },
  {
   "cell_type": "code",
   "execution_count": 63,
   "metadata": {},
   "outputs": [
    {
     "name": "stdout",
     "output_type": "stream",
     "text": [
      "redgreenblue\n",
      "a is a vowel\n",
      "b is a consonant\n",
      "c is a consonant\n",
      "d is a consonant\n",
      "e is a vowel\n",
      "f is a consonant\n",
      "g is a consonant\n",
      "h is a consonant\n",
      "i is a vowel\n",
      "j is a consonant\n",
      "k is a consonant\n",
      "l is a consonant\n",
      "m is a consonant\n",
      "n is a consonant\n",
      "o is a vowel\n",
      "p is a consonant\n",
      "q is a consonant\n",
      "r is a consonant\n",
      "s is a consonant\n",
      "t is a consonant\n",
      "u is a vowel\n",
      "v is a consonant\n",
      "w is a consonant\n",
      "x is a consonant\n",
      "y is a vowel\n",
      "z is a consonant\n"
     ]
    }
   ],
   "source": [
    "for color in ['red' 'green' 'blue']:\n",
    "    print(color)\n",
    "\n",
    "for letter in 'abcdefghijklmnopqrstuvwxyz':\n",
    "    if letter in 'aeiouy':\n",
    "        print(letter, 'is a vowel')\n",
    "    else:\n",
    "        print(letter, 'is a consonant')"
   ]
  },
  {
   "cell_type": "markdown",
   "metadata": {},
   "source": [
    "`for` supports also instructions `break` and `continue`."
   ]
  },
  {
   "cell_type": "markdown",
   "metadata": {},
   "source": [
    "#### <span class=\"header-section-number\">1.10.3.1</span> `enumerate`\n",
    "\n",
    "We might need to both iterate trough a sequence and get access the elements indexes. We can solve this problem using the global function `enumerate`:"
   ]
  },
  {
   "cell_type": "code",
   "execution_count": 64,
   "metadata": {},
   "outputs": [
    {
     "name": "stdout",
     "output_type": "stream",
     "text": [
      "0 cpp\n",
      "1 python\n",
      "2 java\n",
      "3 go\n"
     ]
    }
   ],
   "source": [
    "languages = ['cpp', 'python', 'java', 'go']\n",
    "\n",
    "for i, language in enumerate(languages):\n",
    "    print(i, language)"
   ]
  },
  {
   "cell_type": "markdown",
   "metadata": {},
   "source": [
    "### <span class=\"header-section-number\">1.10.4</span> `range`\n",
    "\n",
    "For simulating a `for` loop like in C++ or Java (e.g. `for (int i = 0; i < 10; i++)`), we can use function `range`. The `range` function returns a sequence of numbers."
   ]
  },
  {
   "cell_type": "code",
   "execution_count": 65,
   "metadata": {},
   "outputs": [
    {
     "data": {
      "text/plain": [
       "[0, 1, 2, 3, 4, 5, 6, 7, 8, 9]"
      ]
     },
     "execution_count": 65,
     "metadata": {},
     "output_type": "execute_result"
    }
   ],
   "source": [
    ">>> list(range(10)) # stop=10"
   ]
  },
  {
   "cell_type": "code",
   "execution_count": 66,
   "metadata": {},
   "outputs": [
    {
     "data": {
      "text/plain": [
       "[4, 5, 6, 7, 8, 9]"
      ]
     },
     "execution_count": 66,
     "metadata": {},
     "output_type": "execute_result"
    }
   ],
   "source": [
    ">>> list(range(4, 10)) # start=4, stop=10"
   ]
  },
  {
   "cell_type": "code",
   "execution_count": 67,
   "metadata": {},
   "outputs": [
    {
     "data": {
      "text/plain": [
       "[4, 6, 8]"
      ]
     },
     "execution_count": 67,
     "metadata": {},
     "output_type": "execute_result"
    }
   ],
   "source": [
    ">>> list(range(4, 10, 2)) # start=4, stop=10, step=2"
   ]
  },
  {
   "cell_type": "markdown",
   "metadata": {},
   "source": [
    "With `for`:"
   ]
  },
  {
   "cell_type": "code",
   "execution_count": 68,
   "metadata": {},
   "outputs": [
    {
     "name": "stdout",
     "output_type": "stream",
     "text": [
      "0\n",
      "1\n",
      "2\n",
      "3\n",
      "4\n",
      "5\n",
      "6\n",
      "7\n",
      "8\n",
      "9\n"
     ]
    }
   ],
   "source": [
    "for i in range(10):\n",
    "    print(i)"
   ]
  },
  {
   "cell_type": "markdown",
   "metadata": {},
   "source": [
    "<div class=\"panel panel-warning\">\n",
    "\n",
    "<div class=\"panel-heading\">\n",
    "\n",
    "### Python 2\n",
    "\n",
    "</div>\n",
    "\n",
    "<div class=\"panel-body\">\n",
    "\n",
    "Altough the `range` function exists in Python 2, it's better to use `xrange` as `xrange` always uses the same amount of memory, no matter what is the sequence size.\n",
    "\n",
    "</div>\n",
    "\n",
    "</div>"
   ]
  },
  {
   "cell_type": "markdown",
   "metadata": {},
   "source": [
    "<div id=\"__ex_2\" class=\"panel panel-default\">\n",
    "\n",
    "<div class=\"panel-heading\">\n",
    "\n",
    "### Exercise 2\n",
    "\n",
    "</div>\n",
    "\n",
    "<div class=\"panel-body\">\n",
    "\n",
    "Write a program that prints the following pattern using a `for` loop:\n",
    "\n",
    "    1\n",
    "    22\n",
    "    333\n",
    "    4444\n",
    "    55555\n",
    "\n",
    "Note: the `print` function displays by default a `\\n` after each string. To avoid adding the return carrier use: `print('ma_chaine', end='')`\n",
    "\n",
    "</div>\n",
    "\n",
    "</div>\n",
    "\n",
    "<div class=\"panel panel-warning\">\n",
    "\n",
    "<div class=\"panel-heading\">\n",
    "\n",
    "### Python 2\n",
    "\n",
    "</div>\n",
    "\n",
    "<div class=\"panel-body\">\n",
    "\n",
    "You can import the `print` function : `from __future__ import print_function` or use `sys.stdout.write`.\n",
    "\n",
    "</div>\n",
    "\n",
    "</div>\n",
    "\n",
    "<div class=\"panel panel-default\">"
   ]
  },
  {
   "cell_type": "markdown",
   "metadata": {},
   "source": [
    "<div class=\"panel-heading\">\n",
    "\n",
    "### Solution 2\n",
    "\n",
    "</div>\n",
    "\n",
    "<div class=\"panel-body\">\n",
    "\n",
    "[Afficher la solution](#)"
   ]
  },
  {
   "cell_type": "markdown",
   "metadata": {},
   "source": [
    "<div class=\"solution\">"
   ]
  },
  {
   "cell_type": "code",
   "execution_count": 69,
   "metadata": {},
   "outputs": [
    {
     "name": "stdout",
     "output_type": "stream",
     "text": [
      "1\n",
      "22\n",
      "333\n",
      "4444\n",
      "55555\n"
     ]
    }
   ],
   "source": [
    "for i in range(1, 6):\n",
    "    for j in range(i):\n",
    "        print(i, end='')\n",
    "    print()"
   ]
  },
  {
   "cell_type": "markdown",
   "metadata": {},
   "source": [
    "</div>\n",
    "\n",
    "</div>\n",
    "\n",
    "</div>"
   ]
  },
  {
   "cell_type": "markdown",
   "metadata": {},
   "source": [
    "## <span class=\"header-section-number\">1.11</span> Exceptions\n",
    "\n",
    "An exeption is an error or an important event that can happen during code execution. An exception is an object like all objects in Python. It's particularity is that it possesses a message and a Call Stack that allows us to detect the source of the error. The syntax to trough an exception is:\n",
    "\n",
    "    try:\n",
    "        <try_suite>\n",
    "    except exception1 as var1:\n",
    "        <exception1_suite>\n",
    "    ...\n",
    "    except exceptionN as varN:\n",
    "        <exceptionN_suite>\n",
    "\n",
    "If instructions in `try_suite` do not generate exceptions, the `except` bleck code is ignored and the program continues to execute. Howhever, as soon as an exception is trown, the block `except` generates the type of exception executed. As soon as the exception is treated, the program continues to execute.\n",
    "\n",
    "    s = input(\"Please enter an integer: \")\n",
    "    try:\n",
    "        i = int(s)\n",
    "        print(\"Valide:\", i)\n",
    "    except ValueError as err:\n",
    "        print(err)\n",
    "\n",
    "The `input` function is waiting for a user input. The user ends the input using ENTER.\n",
    "\n",
    "<div class=\"panel panel-warning\">\n",
    "\n",
    "<div class=\"panel-heading\">\n",
    "\n",
    "### Python 2\n",
    "\n",
    "</div>\n",
    "\n",
    "<div class=\"panel-body\">\n",
    "\n",
    "The `input` function is called `raw_input`.\n",
    "\n",
    "</div>\n",
    "\n",
    "</div>\n",
    "\n",
    "## <span class=\"header-section-number\">1.12</span> Arithmetic operators\n",
    "\n",
    "Python supports arithmetic operators `+`, `-`, `*` and `/`.\n",
    "\n",
    "The `/` operator used with integer produces floats:"
   ]
  },
  {
   "cell_type": "code",
   "execution_count": 70,
   "metadata": {},
   "outputs": [
    {
     "data": {
      "text/plain": [
       "2.0"
      ]
     },
     "execution_count": 70,
     "metadata": {},
     "output_type": "execute_result"
    }
   ],
   "source": [
    ">>> 4 / 2"
   ]
  },
  {
   "cell_type": "code",
   "execution_count": 71,
   "metadata": {},
   "outputs": [
    {
     "data": {
      "text/plain": [
       "0.5"
      ]
     },
     "execution_count": 71,
     "metadata": {},
     "output_type": "execute_result"
    }
   ],
   "source": [
    ">>> 1 / 2"
   ]
  },
  {
   "cell_type": "markdown",
   "metadata": {},
   "source": [
    "To have a floor division, use operator `//`:"
   ]
  },
  {
   "cell_type": "code",
   "execution_count": 72,
   "metadata": {},
   "outputs": [
    {
     "data": {
      "text/plain": [
       "2"
      ]
     },
     "execution_count": 72,
     "metadata": {},
     "output_type": "execute_result"
    }
   ],
   "source": [
    ">>> 4 // 2"
   ]
  },
  {
   "cell_type": "code",
   "execution_count": 73,
   "metadata": {},
   "outputs": [
    {
     "data": {
      "text/plain": [
       "0"
      ]
     },
     "execution_count": 73,
     "metadata": {},
     "output_type": "execute_result"
    }
   ],
   "source": [
    ">>> 1 // 2"
   ]
  },
  {
   "cell_type": "markdown",
   "metadata": {},
   "source": [
    "<div class=\"panel panel-warning\">\n",
    "\n",
    "<div class=\"panel-heading\">\n",
    "\n",
    "### Python 2\n",
    "\n",
    "</div>\n",
    "\n",
    "<div class=\"panel-body\">\n",
    "The `/` operator is a floor division when used with integers.\n",
    "\n",
    "    >>> 4 / 2\n",
    "    2\n",
    "    >>> 1 / 2\n",
    "    0\n",
    "    >>> 4.0 / 2\n",
    "    2.0\n",
    "    >>> 1.0 / 2\n",
    "    0.5\n",
    "\n",
    "</div>\n",
    "\n",
    "</div>"
   ]
  },
  {
   "cell_type": "markdown",
   "metadata": {},
   "source": [
    "Python supports also `+=`, `-=`, `*=` and `/=` operators."
   ]
  },
  {
   "cell_type": "code",
   "execution_count": 74,
   "metadata": {},
   "outputs": [
    {
     "data": {
      "text/plain": [
       "5"
      ]
     },
     "execution_count": 74,
     "metadata": {},
     "output_type": "execute_result"
    }
   ],
   "source": [
    ">>> a = 5\n",
    ">>> a"
   ]
  },
  {
   "cell_type": "code",
   "execution_count": 75,
   "metadata": {},
   "outputs": [
    {
     "data": {
      "text/plain": [
       "13"
      ]
     },
     "execution_count": 75,
     "metadata": {},
     "output_type": "execute_result"
    }
   ],
   "source": [
    ">>> a += 8\n",
    ">>> a"
   ]
  },
  {
   "cell_type": "markdown",
   "metadata": {},
   "source": [
    "Two comments:\n",
    "\n",
    "1.  As `int` type is immutable, a second object is allocated and `a` points on a new object.\n",
    "\n",
    "2.  `a <op>= b` is different then `a = a <op> b`. The first way can change the object the objet is mutable (i.e a list), wherease the second way allocates a new object, even if this one is mutable.\n",
    "\n",
    "Few examples:"
   ]
  },
  {
   "cell_type": "code",
   "execution_count": 76,
   "metadata": {},
   "outputs": [
    {
     "data": {
      "text/plain": [
       "(True, [0, 1, 2], [0, 1, 2])"
      ]
     },
     "execution_count": 76,
     "metadata": {},
     "output_type": "execute_result"
    }
   ],
   "source": [
    ">>> x = [0, 1] # A mutable list\n",
    ">>> y = x      # x and y referes to the same objcet\n",
    ">>> x += [2]   # The object pointed by x and y is modified\n",
    ">>> x is y, x, y       # x and y are always refering the same object"
   ]
  },
  {
   "cell_type": "code",
   "execution_count": 77,
   "metadata": {},
   "outputs": [
    {
     "data": {
      "text/plain": [
       "(False, [0, 1, 2], [0, 1])"
      ]
     },
     "execution_count": 77,
     "metadata": {},
     "output_type": "execute_result"
    }
   ],
   "source": [
    ">>> x = [0, 1]\n",
    ">>> y = x\n",
    ">>> x = x + [2] # x referes to a new object\n",
    ">>> x is y, x, y        # x and y points different objects"
   ]
  },
  {
   "cell_type": "code",
   "execution_count": 78,
   "metadata": {},
   "outputs": [
    {
     "data": {
      "text/plain": [
       "(False, 'Python3', 'Python')"
      ]
     },
     "execution_count": 78,
     "metadata": {},
     "output_type": "execute_result"
    }
   ],
   "source": [
    ">>> x = 'Python' # str is immutable\n",
    ">>> y = x\n",
    ">>> x += '3'     # x referes to a new object\n",
    ">>> x is y, x, y"
   ]
  },
  {
   "cell_type": "code",
   "execution_count": 79,
   "metadata": {},
   "outputs": [
    {
     "data": {
      "text/plain": [
       "(False, 'Python3', 'Python')"
      ]
     },
     "execution_count": 79,
     "metadata": {},
     "output_type": "execute_result"
    }
   ],
   "source": [
    ">>> x = 'Python'\n",
    ">>> y = x\n",
    ">>> x = x + '3' # x referes to a new object\n",
    ">>> x is y, x, y"
   ]
  },
  {
   "cell_type": "markdown",
   "metadata": {},
   "source": [
    "Example: This program ask a list of numbers to the user and displays the count, the sum and the average."
   ]
  },
  {
   "cell_type": "code",
   "execution_count": 81,
   "metadata": {},
   "outputs": [
    {
     "name": "stdin",
     "output_type": "stream",
     "text": [
      "Nombre:  1\n",
      "Nombre:  2\n",
      "Nombre:  3\n",
      "Nombre:  4\n",
      "Nombre:  5\n",
      "Nombre:  6\n",
      "Nombre:  7\n",
      "Nombre:  7\n",
      "Nombre:  8\n",
      "Nombre:  9\n",
      "Nombre:  \n"
     ]
    },
    {
     "name": "stdout",
     "output_type": "stream",
     "text": [
      "compte = 10  total = 52  moyenne = 5.2\n"
     ]
    }
   ],
   "source": [
    "total = 0\n",
    "count = 0\n",
    "\n",
    "while True:\n",
    "    line = input(\"Nombre: \")\n",
    "    if line:\n",
    "        try:\n",
    "            number = int(line)\n",
    "        except ValueError as err:\n",
    "            print(err)\n",
    "            continue\n",
    "        total += number\n",
    "        count += 1\n",
    "    else:\n",
    "        break\n",
    "\n",
    "if count:\n",
    "    print(\"compte =\", count, \" total =\", total, \" moyenne =\", total / count)"
   ]
  },
  {
   "cell_type": "markdown",
   "metadata": {},
   "source": [
    "## <span class=\"header-section-number\">1.13</span> Fonctions\n",
    "\n",
    "The suntax to creat a function:\n",
    "\n",
    "    def function_name(arguments):\n",
    "        <suite>\n",
    "\n",
    "A function has always a return value. By default, if no value is returned `None` is returned.\n",
    "\n",
    "A function can take zero or many arguments. They are coma separated.\n",
    "\n",
    "    def fn(a, b):\n",
    "        return a + b\n",
    "\n",
    "`def` is similar to a variable assignment. When executed, a object with type function is created and the name of the function referes to it. Since a function is an object, we can pass it as a parameter to other functions or keep it in a collection:"
   ]
  },
  {
   "cell_type": "code",
   "execution_count": 82,
   "metadata": {},
   "outputs": [
    {
     "data": {
      "text/plain": [
       "3"
      ]
     },
     "execution_count": 82,
     "metadata": {},
     "output_type": "execute_result"
    }
   ],
   "source": [
    "def fn(a, b):\n",
    "    return a + b\n",
    "\n",
    "lst = [0, fn]\n",
    "lst[1](1, 2)"
   ]
  },
  {
   "cell_type": "markdown",
   "metadata": {},
   "source": [
    "<div id=\"__ex_3\" class=\"panel panel-default\">\n",
    "\n",
    "<div class=\"panel-heading\">\n",
    "\n",
    "### Exercice 3\n",
    "\n",
    "</div>\n",
    "\n",
    "<div class=\"panel-body\">\n",
    "\n",
    "Write a function `is_even` that takes as a parameter a number and that returns `True` if the number is even and `False` iff odd.\n",
    "\n",
    "Usage example:\n",
    "\n",
    "    >>> is_even(2)\n",
    "    True\n",
    "    >>> is_even(3)\n",
    "    False\n",
    "\n",
    "</div>\n",
    "\n",
    "</div>\n",
    "\n",
    "<div class=\"panel panel-default\">"
   ]
  },
  {
   "cell_type": "markdown",
   "metadata": {},
   "source": [
    "<div class=\"panel-heading\">\n",
    "\n",
    "### Solution 3\n",
    "\n",
    "</div>\n",
    "\n",
    "<div class=\"panel-body\">\n",
    "\n",
    "[Display solution](#)\n",
    "\n",
    "<div class=\"solution\">\n",
    "\n",
    "    def is_even(number):\n",
    "        return number % 2 == 0\n",
    "\n",
    "</div>\n",
    "\n",
    "</div>\n",
    "\n",
    "</div>"
   ]
  },
  {
   "cell_type": "markdown",
   "metadata": {},
   "source": [
    "<div id=\"__ex_4\" class=\"panel panel-default\">\n",
    "\n",
    "<div class=\"panel-heading\">\n",
    "\n",
    "### Exercice 4\n",
    "\n",
    "</div>\n",
    "\n",
    "<div class=\"panel-body\">\n",
    "\n",
    "Write a function `get_int` that ask the user an integer and returns it.\n",
    "\n",
    "If the user doensn't enter an integer, the function should ask for it again, until the user inputs an integer.\n",
    "\n",
    "</div>\n",
    "\n",
    "</div>"
   ]
  },
  {
   "cell_type": "markdown",
   "metadata": {},
   "source": [
    "<div class=\"panel panel-default\">\n",
    "\n",
    "<div class=\"panel-heading\">\n",
    "\n",
    "### Solution 4\n",
    "\n",
    "</div>\n",
    "\n",
    "<div class=\"panel-body\">\n",
    "\n",
    "[Display solution](#)\n",
    "\n",
    "<div class=\"solution\">"
   ]
  },
  {
   "cell_type": "code",
   "execution_count": 83,
   "metadata": {},
   "outputs": [
    {
     "name": "stdin",
     "output_type": "stream",
     "text": [
      "Veuillez entrer un nombre entier:  r\n",
      "Veuillez entrer un nombre entier:  1\n"
     ]
    },
    {
     "data": {
      "text/plain": [
       "1"
      ]
     },
     "execution_count": 83,
     "metadata": {},
     "output_type": "execute_result"
    }
   ],
   "source": [
    "def get_int():\n",
    "    while True:\n",
    "        try:\n",
    "            i = int(input('Veuillez entrer un nombre entier: '))\n",
    "            return i\n",
    "        except ValueError as err:\n",
    "            pass\n",
    "get_int()"
   ]
  },
  {
   "cell_type": "markdown",
   "metadata": {},
   "source": [
    "</div>\n",
    "\n",
    "</div>\n",
    "\n",
    "</div>\n",
    "\n",
    "`import` is used to import a module. A module is simply a file containing Python code (e.g `.py`). Once imported, we can access it's functions, classes and variables.\n",
    "\n",
    "Lets use `random` module for choising a random number between 1 and 6 and for choising a random string among a list of strings."
   ]
  },
  {
   "cell_type": "code",
   "execution_count": 86,
   "metadata": {},
   "outputs": [
    {
     "name": "stdout",
     "output_type": "stream",
     "text": [
      "4 rouge\n"
     ]
    }
   ],
   "source": [
    "import random\n",
    "\n",
    "x = random.randint(1, 6)\n",
    "y = random.choice(['rouge', 'vert', 'bleu'])\n",
    "\n",
    "print(x, y)"
   ]
  },
  {
   "cell_type": "markdown",
   "metadata": {},
   "source": [
    "</div>\n",
    "\n",
    "<script type=\"text/javascript\">$(function() { $(\".solution\").css(\"visibility\", \"hidden\"); $(\".btn-solution\").click(function(e) { e.preventDefault(); $(this).parent().next(\".solution\").css('visibility', 'visible'); }); });</script>"
   ]
  },
  {
   "cell_type": "code",
   "execution_count": null,
   "metadata": {},
   "outputs": [],
   "source": []
  }
 ],
 "metadata": {
  "kernelspec": {
   "display_name": "Python 3",
   "language": "python",
   "name": "python3"
  },
  "language_info": {
   "codemirror_mode": {
    "name": "ipython",
    "version": 3
   },
   "file_extension": ".py",
   "mimetype": "text/x-python",
   "name": "python",
   "nbconvert_exporter": "python",
   "pygments_lexer": "ipython3",
   "version": "3.7.3"
  }
 },
 "nbformat": 4,
 "nbformat_minor": 4
}
