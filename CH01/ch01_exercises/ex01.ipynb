{
 "cells": [
  {
   "cell_type": "code",
   "execution_count": 7,
   "metadata": {},
   "outputs": [
    {
     "data": {
      "text/plain": [
       "'F'"
      ]
     },
     "execution_count": 7,
     "metadata": {},
     "output_type": "execute_result"
    }
   ],
   "source": [
    "def print_grade(note):\n",
    "    grades = [\n",
    "        ('A', 90, 100),\n",
    "        ('B', 80, 90),\n",
    "        ('C', 70, 80),\n",
    "        ('D', 60, 70),\n",
    "        ('E', 50, 60),\n",
    "        ('F', 0, 50),\n",
    "    ]\n",
    "    for grade in grades:\n",
    "        if (note in range(grade[1], grade[2])):\n",
    "            return grade[0];\n",
    "        \n",
    "print_grade(6)"
   ]
  },
  {
   "cell_type": "code",
   "execution_count": null,
   "metadata": {},
   "outputs": [],
   "source": []
  }
 ],
 "metadata": {
  "kernelspec": {
   "display_name": "Python 3",
   "language": "python",
   "name": "python3"
  },
  "language_info": {
   "codemirror_mode": {
    "name": "ipython",
    "version": 3
   },
   "file_extension": ".py",
   "mimetype": "text/x-python",
   "name": "python",
   "nbconvert_exporter": "python",
   "pygments_lexer": "ipython3",
   "version": "3.7.3"
  }
 },
 "nbformat": 4,
 "nbformat_minor": 2
}
