{
 "cells": [
  {
   "cell_type": "markdown",
   "metadata": {},
   "source": [
    "<div class=\"container\">\n",
    "\n",
    "<nav id=\"TOC\">\n",
    "\n",
    "*   [<span class=\"toc-section-number\">1</span> Functions](#fonctions)\n",
    "    *   [<span class=\"toc-section-number\">1.1</span> Parameters](#arguments)\n",
    "    *   [<span class=\"toc-section-number\">1.2</span> Default values](#valeurs-par-défaut)\n",
    "    *   [<span class=\"toc-section-number\">1.3</span> Optional parameters](#paramètres-optionnels)\n",
    "    *   [<span class=\"toc-section-number\">1.3</span> Docstrings](#docstrings)\n",
    "\n",
    "</nav>\n",
    "\n",
    "# <span class=\"header-section-number\">1</span> Functions\n",
    "\n",
    "A function parameters are coma separeted. Example:"
   ]
  },
  {
   "cell_type": "code",
   "execution_count": null,
   "metadata": {},
   "outputs": [],
   "source": [
    "def quotient(a, b):\n",
    "    return a / b"
   ]
  },
  {
   "cell_type": "markdown",
   "metadata": {},
   "source": [
    "## <span class=\"header-section-number\">1.1</span> Parameters\n",
    "\n",
    "We can pass parameters in different ways.\n",
    "\n",
    "Orderly:"
   ]
  },
  {
   "cell_type": "code",
   "execution_count": null,
   "metadata": {},
   "outputs": [],
   "source": [
    ">>> quotient(3, 4) # positionnal parameters"
   ]
  },
  {
   "cell_type": "markdown",
   "metadata": {},
   "source": [
    "By specifying the name of the parameter:"
   ]
  },
  {
   "cell_type": "code",
   "execution_count": null,
   "metadata": {},
   "outputs": [],
   "source": [
    ">>> quotient(b=4, a=3) # parameters by keywords"
   ]
  },
  {
   "cell_type": "markdown",
   "metadata": {},
   "source": [
    "By unpacking a tuple:"
   ]
  },
  {
   "cell_type": "code",
   "execution_count": null,
   "metadata": {},
   "outputs": [],
   "source": [
    ">>> parameters = (3, 4) # positionnal parameters\n",
    ">>> quotient(*parameters)"
   ]
  },
  {
   "cell_type": "markdown",
   "metadata": {},
   "source": [
    "By unpacking a dictionary:"
   ]
  },
  {
   "cell_type": "code",
   "execution_count": null,
   "metadata": {},
   "outputs": [],
   "source": [
    ">>> parameters = {'a': 3, 'b': 4}\n",
    ">>> quotient(**parameters) # parameters by keywords"
   ]
  },
  {
   "cell_type": "markdown",
   "metadata": {},
   "source": [
    "## <span class=\"header-section-number\">1.2</span> Default values\n",
    "\n",
    "We can specify default values of parameters. Example:"
   ]
  },
  {
   "cell_type": "code",
   "execution_count": null,
   "metadata": {},
   "outputs": [],
   "source": [
    "def quotient(a, b=2):\n",
    "    return a / b"
   ]
  },
  {
   "cell_type": "code",
   "execution_count": null,
   "metadata": {},
   "outputs": [],
   "source": [
    ">>> quotient(6)"
   ]
  },
  {
   "cell_type": "code",
   "execution_count": null,
   "metadata": {},
   "outputs": [],
   "source": [
    ">>> quotient(6, 1)"
   ]
  },
  {
   "cell_type": "code",
   "execution_count": null,
   "metadata": {},
   "outputs": [],
   "source": [
    ">>> quotient(a=6, b=1)"
   ]
  },
  {
   "cell_type": "markdown",
   "metadata": {},
   "source": [
    "## <span class=\"header-section-number\">1.3</span> Paramètres optionnels\n",
    "\n",
    "When using `*` and `**` operators in parameters, they point to optional parameters."
   ]
  },
  {
   "cell_type": "code",
   "execution_count": null,
   "metadata": {},
   "outputs": [],
   "source": [
    "def display(*args, **kwargs):\n",
    "    print(type(args), args)\n",
    "    print(type(kwargs), kwargs)"
   ]
  },
  {
   "cell_type": "markdown",
   "metadata": {},
   "source": [
    "*   `*args` is a tuple\n",
    "*   `**kwargs` is a dictionary"
   ]
  },
  {
   "cell_type": "code",
   "execution_count": null,
   "metadata": {},
   "outputs": [],
   "source": [
    ">>> display(1, 2)"
   ]
  },
  {
   "cell_type": "code",
   "execution_count": null,
   "metadata": {},
   "outputs": [],
   "source": [
    ">>> display(1, 2, a=3)"
   ]
  },
  {
   "cell_type": "markdown",
   "metadata": {},
   "source": [
    "We can use both required and optinal parameters in a same function:"
   ]
  },
  {
   "cell_type": "code",
   "execution_count": null,
   "metadata": {},
   "outputs": [],
   "source": [
    "def print_person(name, age, **kwargs):\n",
    "    print(\"name =\", name)\n",
    "    print(\"age =\", age)\n",
    "\n",
    "    for key in sorted(kwargs):\n",
    "        print(\"{0} = {1}\".format(key, kwargs[key]))"
   ]
  },
  {
   "cell_type": "code",
   "execution_count": null,
   "metadata": {},
   "outputs": [],
   "source": [
    ">>> print_person('Alex', 35, country='Canada')"
   ]
  },
  {
   "cell_type": "code",
   "execution_count": null,
   "metadata": {},
   "outputs": [],
   "source": [
    "def maximum(*args):\n",
    "    max_value = None\n",
    "\n",
    "    if args:\n",
    "        max_value = args[0]\n",
    "\n",
    "        for value in args[1:]:\n",
    "            if value > max_value:\n",
    "                max_value = value\n",
    "\n",
    "    return max_value\n",
    "\n",
    "import string\n",
    "\n",
    "def letter_count(text, letters=string.ascii_letters):\n",
    "    letters = set(letters)\n",
    "    count = 0\n",
    "    for char in text:\n",
    "        if char in letters:\n",
    "            count += 1\n",
    "    return count"
   ]
  },
  {
   "cell_type": "markdown",
   "metadata": {},
   "source": [
    "<div class=\"container\">\n",
    "\n",
    "<nav id=\"TOC\"></nav>\n",
    "\n",
    "## <span class=\"header-section-number\">1.4</span> Docstrings\n",
    "\n",
    "A _docstring_ is a string inserted in the beggining of a module, class, function or a method. It's used to document the code. There are tools such as [Sphinx](http://sphinx-doc.org/) that generates documentation based on code and _docstrings_."
   ]
  },
  {
   "cell_type": "code",
   "execution_count": null,
   "metadata": {},
   "outputs": [],
   "source": [
    "def match(pattern, string, flags=0):\n",
    "    \"\"\"Try to apply the pattern at the start of the string, returning\n",
    "    a match object, or None if no match was found.\"\"\"\n",
    "    return _compile(pattern, flags).match(string)\n",
    "\n",
    "class Registry:\n",
    "    \"\"\" Model registry for a particular database.\n",
    "\n",
    "    The registry is essentially a mapping between model names and model\n",
    "    instances. There is one registry instance per database.\n",
    "\n",
    "    \"\"\""
   ]
  },
  {
   "cell_type": "markdown",
   "metadata": {},
   "source": [
    "</div>\n",
    "\n",
    "<div id=\"__ex_1\" class=\"panel panel-default\">\n",
    "\n",
    "<div class=\"panel-heading\">\n",
    "\n",
    "### Exercice 1\n",
    "\n",
    "</div>\n",
    "\n",
    "<div class=\"panel-body\">"
   ]
  },
  {
   "cell_type": "markdown",
   "metadata": {},
   "source": [
    "Quel est l’affichage du programme suivant?"
   ]
  },
  {
   "cell_type": "code",
   "execution_count": null,
   "metadata": {},
   "outputs": [],
   "source": [
    "a = ['A', 'B', 'C']\n",
    "b = ['D', 'E', 'F']\n",
    "\n",
    "def fonction(a, b):\n",
    "    a.append('Z')\n",
    "    b = \"python\"\n",
    "\n",
    "fonction(a, b)\n",
    "\n",
    "print(a)\n",
    "print(b)"
   ]
  },
  {
   "cell_type": "markdown",
   "metadata": {},
   "source": [
    "</div>\n",
    "\n",
    "</div>\n",
    "\n",
    "<div class=\"panel panel-default\">\n",
    "\n",
    "<div class=\"panel-heading\">\n",
    "\n",
    "### Solution 1\n",
    "\n",
    "</div>\n",
    "\n",
    "<div class=\"panel-body\">\n",
    "\n",
    "[Display solution](#)\n",
    "\n",
    "<div class=\"solution\">\n",
    "\n",
    "    print(a) # ['A', 'B', 'C', 'Z']\n",
    "    print(b) # ['D', 'E', 'F']\n",
    "\n",
    "</div>\n",
    "\n",
    "</div>\n",
    "\n",
    "</div>\n",
    "\n",
    "</div>\n",
    "\n",
    "<script type=\"text/javascript\">$(function() { $(\".solution\").css(\"visibility\", \"hidden\"); $(\".btn-solution\").click(function(e) { e.preventDefault(); $(this).parent().next(\".solution\").css('visibility', 'visible'); }); });</script>"
   ]
  },
  {
   "cell_type": "code",
   "execution_count": null,
   "metadata": {},
   "outputs": [],
   "source": []
  }
 ],
 "metadata": {
  "kernelspec": {
   "display_name": "Python 3",
   "language": "python",
   "name": "python3"
  },
  "language_info": {
   "codemirror_mode": {
    "name": "ipython",
    "version": 3
   },
   "file_extension": ".py",
   "mimetype": "text/x-python",
   "name": "python",
   "nbconvert_exporter": "python",
   "pygments_lexer": "ipython3",
   "version": "3.7.3"
  }
 },
 "nbformat": 4,
 "nbformat_minor": 4
}
