{
 "cells": [
  {
   "cell_type": "markdown",
   "metadata": {},
   "source": [
    "# Synchronization "
   ]
  },
  {
   "cell_type": "code",
   "execution_count": 1,
   "metadata": {},
   "outputs": [],
   "source": [
    "import threading\n",
    "import time "
   ]
  },
  {
   "cell_type": "code",
   "execution_count": 2,
   "metadata": {},
   "outputs": [],
   "source": [
    "num_threads = 5\n",
    "iterations_in_one_thread = 100"
   ]
  },
  {
   "cell_type": "code",
   "execution_count": 3,
   "metadata": {},
   "outputs": [],
   "source": [
    "counter = 0   # just a variable "
   ]
  },
  {
   "cell_type": "code",
   "execution_count": 4,
   "metadata": {},
   "outputs": [],
   "source": [
    "def f():\n",
    "    global counter\n",
    "\n",
    "    for i in range(iterations_in_one_thread):\n",
    "        v = counter \n",
    "        time.sleep(0.00000000000001)  # Do some stuff \n",
    "        v += 1 \n",
    "        counter = v"
   ]
  },
  {
   "cell_type": "code",
   "execution_count": 5,
   "metadata": {},
   "outputs": [],
   "source": [
    "def run_experiment(): \n",
    "    global counter \n",
    "    counter = 0 \n",
    "    threads = []\n",
    "    for i in range(num_threads):\n",
    "        t = threading.Thread(target=f)\n",
    "        threads.append(t)\n",
    "        t.start()\n",
    "\n",
    "    for i in threads:  \n",
    "        i.join()\n",
    "\n",
    "    print(\"Calculated value: %d\" % counter)\n",
    "    print(\"Expected value:   %d\" % (num_threads * iterations_in_one_thread))"
   ]
  },
  {
   "cell_type": "code",
   "execution_count": 9,
   "metadata": {},
   "outputs": [
    {
     "name": "stdout",
     "output_type": "stream",
     "text": [
      "Calculated value: 114\n",
      "Expected value:   500\n"
     ]
    }
   ],
   "source": [
    "run_experiment() "
   ]
  },
  {
   "cell_type": "markdown",
   "metadata": {},
   "source": [
    "## Expectation versus Reality "
   ]
  },
  {
   "cell_type": "markdown",
   "metadata": {},
   "source": [
    "This is what we expect will happen. "
   ]
  },
  {
   "cell_type": "code",
   "execution_count": 10,
   "metadata": {},
   "outputs": [
    {
     "name": "stdout",
     "output_type": "stream",
     "text": [
      "2\n"
     ]
    }
   ],
   "source": [
    "counter = 0 \n",
    "\n",
    "v1 = counter \n",
    "v1 += 1 \n",
    "counter = v1 \n",
    "\n",
    "v2 = counter \n",
    "v2 += 1 \n",
    "counter = v2 \n",
    "\n",
    "\n",
    "print(counter) "
   ]
  },
  {
   "cell_type": "markdown",
   "metadata": {},
   "source": [
    "This is what really happens. "
   ]
  },
  {
   "cell_type": "code",
   "execution_count": 11,
   "metadata": {},
   "outputs": [
    {
     "name": "stdout",
     "output_type": "stream",
     "text": [
      "1\n"
     ]
    }
   ],
   "source": [
    "counter = 0 \n",
    "\n",
    "# --- thread 1 start \n",
    "v1 = counter \n",
    "v1 += 1 \n",
    "# ---- break \n",
    "\n",
    "# --- thread 2 start \n",
    "v2 = counter \n",
    "v2 = 100 \n",
    "counter = v2 \n",
    "# ---- thread 2 done \n",
    "\n",
    "# ---- back to thread 1 \n",
    "counter = v1 \n",
    "# ---- thread 1 done \n",
    "\n",
    "print(counter) "
   ]
  },
  {
   "cell_type": "markdown",
   "metadata": {},
   "source": [
    "# Synchronization "
   ]
  },
  {
   "cell_type": "markdown",
   "metadata": {},
   "source": [
    "What we need is some way of ensuring that <strong>critical sections</strong> are executed all in one go. "
   ]
  },
  {
   "cell_type": "code",
   "execution_count": 13,
   "metadata": {},
   "outputs": [],
   "source": [
    "lock = threading.Lock() "
   ]
  },
  {
   "cell_type": "code",
   "execution_count": 14,
   "metadata": {},
   "outputs": [],
   "source": [
    "def f():\n",
    "    global counter\n",
    "\n",
    "    for i in range(iterations_in_one_thread):\n",
    "        lock.acquire()   # begin critical part \n",
    "        v = counter \n",
    "        time.sleep(0.00000000000001)  # Do some stuff \n",
    "        v += 1 \n",
    "        counter = v      \n",
    "        lock.release()   # end critical part "
   ]
  },
  {
   "cell_type": "code",
   "execution_count": 15,
   "metadata": {},
   "outputs": [
    {
     "name": "stdout",
     "output_type": "stream",
     "text": [
      "Calculated value: 500\n",
      "Expected value:   500\n"
     ]
    }
   ],
   "source": [
    "run_experiment()"
   ]
  },
  {
   "cell_type": "markdown",
   "metadata": {},
   "source": [
    "But we will surely forget to release the lock ... just as we would forget to close open files. Well, context managers to the rescue! "
   ]
  },
  {
   "cell_type": "code",
   "execution_count": 16,
   "metadata": {},
   "outputs": [],
   "source": [
    "def f():\n",
    "    global counter, lock \n",
    "\n",
    "    for i in range(iterations_in_one_thread):\n",
    "        with lock:             # begin critical context  \n",
    "            v = counter \n",
    "            time.sleep(0.00000000000001)  # Do some stuff \n",
    "            v += 1 \n",
    "            counter = v      \n"
   ]
  },
  {
   "cell_type": "code",
   "execution_count": 17,
   "metadata": {},
   "outputs": [
    {
     "name": "stdout",
     "output_type": "stream",
     "text": [
      "Calculated value: 500\n",
      "Expected value:   500\n"
     ]
    }
   ],
   "source": [
    "run_experiment()"
   ]
  },
  {
   "cell_type": "markdown",
   "metadata": {},
   "source": [
    "You do have to figure out which part you <strong>don't</strong> want breaks in! \n",
    "\n",
    "It's much more common to figure out which parts you <strong>do</strong> want the thread suspended at! "
   ]
  }
 ],
 "metadata": {
  "kernelspec": {
   "display_name": "Python 3",
   "language": "python",
   "name": "python3"
  },
  "language_info": {
   "codemirror_mode": {
    "name": "ipython",
    "version": 3
   },
   "file_extension": ".py",
   "mimetype": "text/x-python",
   "name": "python",
   "nbconvert_exporter": "python",
   "pygments_lexer": "ipython3",
   "version": "3.7.3"
  }
 },
 "nbformat": 4,
 "nbformat_minor": 4
}
