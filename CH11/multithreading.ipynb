{
 "cells": [
  {
   "cell_type": "markdown",
   "metadata": {},
   "source": [
    "# Multithreading "
   ]
  },
  {
   "cell_type": "code",
   "execution_count": 2,
   "metadata": {},
   "outputs": [],
   "source": [
    "import requests"
   ]
  },
  {
   "cell_type": "code",
   "execution_count": 1,
   "metadata": {},
   "outputs": [
    {
     "name": "stdout",
     "output_type": "stream",
     "text": [
      "Requirement already satisfied: requests in /opt/conda/lib/python3.7/site-packages (2.22.0)\n",
      "Requirement already satisfied: urllib3!=1.25.0,!=1.25.1,<1.26,>=1.21.1 in /opt/conda/lib/python3.7/site-packages (from requests) (1.25.3)\n",
      "Requirement already satisfied: certifi>=2017.4.17 in /opt/conda/lib/python3.7/site-packages (from requests) (2019.6.16)\n",
      "Requirement already satisfied: idna<2.9,>=2.5 in /opt/conda/lib/python3.7/site-packages (from requests) (2.8)\n",
      "Requirement already satisfied: chardet<3.1.0,>=3.0.2 in /opt/conda/lib/python3.7/site-packages (from requests) (3.0.4)\n"
     ]
    }
   ],
   "source": [
    "!pip install requests "
   ]
  },
  {
   "cell_type": "code",
   "execution_count": 1,
   "metadata": {},
   "outputs": [],
   "source": [
    "gists = ['https://github.com/savoirfairelinux/formationpython', \n",
    "        'https://github.com/savoirfairelinux/ring-lrc', \n",
    "        'https://github.com/savoirfairelinux/ring-client-windows', \n",
    "        'https://github.com/savoirfairelinux/ring-daemon', \n",
    "        'https://github.com/savoirfairelinux/ring-client-android', \n",
    "        'https://github.com/savoirfairelinux/ring-client-ios']"
   ]
  },
  {
   "cell_type": "code",
   "execution_count": 3,
   "metadata": {},
   "outputs": [],
   "source": [
    "from contextlib import contextmanager\n",
    "import time \n",
    "\n",
    "@contextmanager \n",
    "def timeit():\n",
    "    start_time = int(round(time.time() * 1000))\n",
    "\n",
    "    yield\n",
    "    \n",
    "    end_time = int(round(time.time() * 1000))\n",
    "    elapsed = end_time - start_time\n",
    "    print(\"Code took %d ms to run.\" % elapsed)"
   ]
  },
  {
   "cell_type": "code",
   "execution_count": 21,
   "metadata": {},
   "outputs": [],
   "source": [
    "def get_gist(g):\n",
    "    print(\"Starting request: %s\" % g)\n",
    "    r = requests.get(g)\n",
    "    g_length = len(r.text)\n",
    "    print(\"Got response of length: %d\" % g_length)\n",
    "    return g_length"
   ]
  },
  {
   "cell_type": "code",
   "execution_count": 22,
   "metadata": {},
   "outputs": [
    {
     "name": "stdout",
     "output_type": "stream",
     "text": [
      "Starting request: https://github.com/savoirfairelinux/formationpython\n",
      "Got response of length: 106527\n",
      "Starting request: https://github.com/savoirfairelinux/ring-lrc\n",
      "Got response of length: 88967\n",
      "Starting request: https://github.com/savoirfairelinux/ring-client-windows\n",
      "Got response of length: 295111\n",
      "Starting request: https://github.com/savoirfairelinux/ring-daemon\n",
      "Got response of length: 120984\n",
      "Starting request: https://github.com/savoirfairelinux/ring-client-android\n",
      "Got response of length: 101889\n",
      "Starting request: https://github.com/savoirfairelinux/ring-client-ios\n",
      "Got response of length: 76699\n",
      "All done.\n",
      "Code took 3552 ms to run.\n"
     ]
    }
   ],
   "source": [
    "with timeit(): \n",
    "    results = []\n",
    "    for g in gists: \n",
    "        results.append(get_gist(g))\n",
    "    print(\"All done.\")"
   ]
  },
  {
   "cell_type": "markdown",
   "metadata": {},
   "source": [
    "Let's do all these in parallel!"
   ]
  },
  {
   "cell_type": "code",
   "execution_count": 23,
   "metadata": {},
   "outputs": [
    {
     "data": {
      "text/plain": [
       "[106527, 88967, 295111, 120984, 101889, 76699]"
      ]
     },
     "execution_count": 23,
     "metadata": {},
     "output_type": "execute_result"
    }
   ],
   "source": [
    "results\n"
   ]
  },
  {
   "cell_type": "code",
   "execution_count": 24,
   "metadata": {},
   "outputs": [
    {
     "name": "stdout",
     "output_type": "stream",
     "text": [
      "Starting request: https://github.com/savoirfairelinux/formationpython\n",
      "Starting request: https://github.com/savoirfairelinux/ring-lrc\n",
      "Starting request: https://github.com/savoirfairelinux/ring-client-windowsStarting request: https://github.com/savoirfairelinux/ring-daemon\n",
      "\n",
      "Starting request: https://github.com/savoirfairelinux/ring-client-android\n",
      "Starting request: https://github.com/savoirfairelinux/ring-client-ios\n",
      "Got response of length: 101895\n",
      "Got response of length: 106527\n",
      "Got response of length: 95521\n",
      "Got response of length: 121016\n",
      "Got response of length: 295077\n",
      "Got response of length: 80381\n",
      "All done.\n",
      "Code took 869 ms to run.\n"
     ]
    }
   ],
   "source": [
    "import threading \n",
    "\n",
    "with timeit(): \n",
    "    threads = [] \n",
    "    for g in gists:\n",
    "        # Create workers\n",
    "        t = threading.Thread(target=get_gist, args=(g, ))\n",
    "        \n",
    "        # Go! \n",
    "        t.start()\n",
    "        \n",
    "        threads.append(t) # Keep a list for record \n",
    "\n",
    "        \n",
    "    for t in threads: \n",
    "        t.join()          # Wait til it finishes \n",
    "        \n",
    "    print(\"All done.\")"
   ]
  },
  {
   "cell_type": "code",
   "execution_count": null,
   "metadata": {
    "collapsed": true,
    "jupyter": {
     "outputs_hidden": true
    }
   },
   "outputs": [],
   "source": []
  }
 ],
 "metadata": {
  "kernelspec": {
   "display_name": "Python 3",
   "language": "python",
   "name": "python3"
  },
  "language_info": {
   "codemirror_mode": {
    "name": "ipython",
    "version": 3
   },
   "file_extension": ".py",
   "mimetype": "text/x-python",
   "name": "python",
   "nbconvert_exporter": "python",
   "pygments_lexer": "ipython3",
   "version": "3.7.3"
  }
 },
 "nbformat": 4,
 "nbformat_minor": 4
}
